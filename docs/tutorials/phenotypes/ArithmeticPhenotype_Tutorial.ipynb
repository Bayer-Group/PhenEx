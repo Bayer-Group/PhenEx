{
 "cells": [
  {
   "cell_type": "markdown",
   "id": "c4fa3cdf-d540-4add-8a31-a1fd6b126ba3",
   "metadata": {},
   "source": [
    "# ArithmeticPhenotype Tutorial\n",
    "\n",
    "The ArithmeticPhenotype allows us to perform simple mathematical operations such as addition, subtraction, division and multiplication with the output of other phenotypes.\n",
    "\n",
    "There are two obvious use cases for this in RWD :\n",
    "1. calculating medical scores, such as the CHADSVASC score or the Charlson Comorbidity Index\n",
    "2. calculating a derived measurement value, such as Body Mass Index, which is calculated using height and weight.\n",
    "\n",
    "\n",
    "In this tutorial, we will see how to calculate CHASVASC and how to calculate BMI.\n",
    "\n",
    "\n",
    "## Calculating scores\n",
    "Like the LogicPhenotype, the Arithmetic phenotype operates on other phenotypes; we refer to the phenotypes that an ArithmeticPhenotype operates on the 'component phenotypes'. \n",
    "\n",
    "In order to perform arithmetic, we need to associate a value to patients fulfilling criteria of a component phenotype. By default, this is done by associating the value of '1' with all patients that fulfill the criteria of a component phenotype. Patients that do not fulfill the component phenotype criteria are associated with a value of '0'. \n",
    "\n",
    "Let's see how this works on a simple example of the CHADSVASC score. We will assume that Codelists already exist for each component phenotype.\n",
    "### Step 1 : Create all component phenotypes"
   ]
  },
  {
   "cell_type": "code",
   "execution_count": null,
   "id": "16f7c761-32d8-4a8f-a844-2022b302ddeb",
   "metadata": {},
   "outputs": [],
   "source": [
    "# Step 1 : First create all component phenotypes\n",
    "c = CodelistPhenotype(\n",
    "    codelist=Codelist(\"heart_failure\"), \n",
    "    domain=\"condition_occurrence\",\n",
    "    relative_time_range = ONEYEAR_PREINDEX\n",
    ")\n",
    "\n",
    "h = CodelistPhenotype(\n",
    "    codelist=Codelist(\"hypertension\"), \n",
    "    domain=\"condition_occurrence\",\n",
    "    relative_time_range = ONEYEAR_PREINDEX\n",
    ")\n",
    "\n",
    "a75 = AgePhenotype(\n",
    "    min_age=GreaterThanOrEqualTo(75),\n",
    "    relative_time_range = ONEYEAR_PREINDEX\n",
    ")\n",
    "\n",
    "d = CodelistPhenotype(\n",
    "    codelist=Codelist(\"diabetes_and_impaired_glucose_tolerance\"),\n",
    "    domain=\"condition_occurrence\",\n",
    "    relative_time_range = ONEYEAR_PREINDEX\n",
    ")\n",
    "\n",
    "s = CodelistPhenotype(\n",
    "    codelist=Codelist(\"stroke\"), \n",
    "    domain=\"condition_occurrence\",\n",
    "    relative_time_range = ONEYEAR_PREINDEX\n",
    ")\n",
    "\n",
    "v = CodelistPhenotype(\n",
    "    codelist=Codelist(\"peripheral_artery_disease\"), \n",
    "    domain=\"condition_occurrence\",\n",
    "    relative_time_range = ONEYEAR_PREINDEX\n",
    ")\n",
    "\n",
    "a65to74 = AgePhenotype(\n",
    "    min_age=GreaterThanOrEqualTo(65),\n",
    "    max_age=LessThanOrEqualTo(74),\n",
    "    relative_time_range = ONEYEAR_PREINDEX\n",
    ")\n",
    "\n",
    "sc = SexPhenotype(allowed_values=[2]) # female is defined as a value of 2 in our optum data base"
   ]
  },
  {
   "cell_type": "markdown",
   "id": "8aecd389-46d7-4a77-88d1-1ede2a881daa",
   "metadata": {},
   "source": [
    "### Step 2 : Create ArithmeticPhenotype\n",
    "We can then create our arithmetic phenotype by combining our phenotypes with mathematical operations. We do this for chadsvasc by adding up all the component phenotype values. Recall that the default value for a component phenotype is 1; if we want another value associated with the component phenotype, we perform multiplication with that value (see that age>75 and sex category a75,s respectively are associated with the value of 2)"
   ]
  },
  {
   "cell_type": "code",
   "execution_count": null,
   "id": "602d4982-ddd1-457c-a9bd-8fcdd504a003",
   "metadata": {},
   "outputs": [],
   "source": [
    "chadsvasc = ScorePhenotype(\n",
    "    name = \"chadsvasc\",\n",
    "    expression = c + h + a75 * 2 + d + s * 2 + v + a65to74 + sc,\n",
    ")"
   ]
  },
  {
   "cell_type": "markdown",
   "id": "2cb1da51-c544-4dfa-83c7-5e189cdfeb38",
   "metadata": {},
   "source": [
    "## Calculating derived measurement values\n",
    "MeasurementPhenotypes are unique in that, if the return_value keyword argument is set, they are associated with a value. ArithmeticPhenotype will operate on the returned value of MeasurementPhenotypes, allowing us to calculate derived values from measurement values.\n",
    "\n",
    "This is useful for the example of body mass index, which is defined as weight divided by height in meters to the power of 2. \n",
    "\n",
    "As seen in the above example, the steps are to (1) define our component phenotypes and (2) create the arithmetic phenotype that combines them with our mathematical operations\n",
    "### Step 1 : Create all component phenotypes"
   ]
  },
  {
   "cell_type": "code",
   "execution_count": null,
   "id": "dcf77a03-b191-4443-a4f8-822829fd1fb0",
   "metadata": {},
   "outputs": [],
   "source": [
    "# define our component phenotypes\n",
    "h = MeasurementPhenotype(\n",
    "    name=\"height\",\n",
    "    codelist=Codelist(\"HEIGHT\"),\n",
    "    domain=\"measurement\",\n",
    "    relative_time_range = ONEYEAR_PREINDEX,\n",
    "    value_aggregation=\"mean\",\n",
    "    return_value=\"all\"\n",
    ")\n",
    "\n",
    "w = MeasurementPhenotype(\n",
    "    name=\"weight\",\n",
    "    codelist=Codelist(\"WEIGHT\"),\n",
    "    domain=\"measurement\",\n",
    "    relative_time_range = ONEYEAR_PREINDEX,\n",
    "    value_aggregation=\"mean\",\n",
    "    return_value=\"all\"\n",
    ")"
   ]
  },
  {
   "cell_type": "markdown",
   "id": "23f9e24f-8519-4fcc-995c-4dec89754210",
   "metadata": {},
   "source": [
    "### Step 2: Create ArithmeticPhenotype"
   ]
  },
  {
   "cell_type": "code",
   "execution_count": null,
   "id": "cfcc64fc-c6ce-4e4b-bb8e-1ffea5c21ec5",
   "metadata": {},
   "outputs": [],
   "source": [
    "\n",
    "# calculate the bmi\n",
    "bmi = ArithmeticPhenotype(\n",
    "    name=\"bmi\",\n",
    "    expression = w / (h / 100) ** 2, \n",
    ")\n"
   ]
  },
  {
   "cell_type": "markdown",
   "id": "786165f4-7d08-4a16-a5f4-1d5c900eecd7",
   "metadata": {},
   "source": [
    "## Setting value filters\n",
    "With ArithmeticPhenotype, like MeasurementPhenotype, we can define value_filters that allow us to subset patients that fulfill some filtering criteria.\n",
    "\n",
    "For example, I may be interested only in patients with a BMI greater or equal to 30. "
   ]
  },
  {
   "cell_type": "code",
   "execution_count": null,
   "id": "f5f6379b-9cfe-425d-adbb-aedee80185e0",
   "metadata": {},
   "outputs": [],
   "source": [
    "# calculate the bmi\n",
    "bmi = ArithmeticPhenotype(\n",
    "    name=\"bmi\",\n",
    "    logic=w / (h / 100) ** 2, \n",
    "    value_filter=ValueFilter(\">=\", 30, \"value\"),\n",
    ")"
   ]
  }
 ],
 "metadata": {
  "kernelspec": {
   "display_name": "Python 3 (ipykernel)",
   "language": "python",
   "name": "python3"
  },
  "language_info": {
   "codemirror_mode": {
    "name": "ipython",
    "version": 3
   },
   "file_extension": ".py",
   "mimetype": "text/x-python",
   "name": "python",
   "nbconvert_exporter": "python",
   "pygments_lexer": "ipython3",
   "version": "3.12.7"
  }
 },
 "nbformat": 4,
 "nbformat_minor": 5
}
