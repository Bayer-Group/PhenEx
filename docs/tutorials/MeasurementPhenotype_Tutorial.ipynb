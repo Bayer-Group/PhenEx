{
 "cells": [
  {
   "cell_type": "markdown",
   "id": "82c33e2d-b8b4-4d45-bef0-549ed689d189",
   "metadata": {},
   "source": [
    "# MeasurementPhenotype Tutorial\n",
    "The *MeasurementPhenotype* is used to handle any numerical values in real world data. This includes observation results, such as height and weight, or blood lab tests, such as 'hemoglobin level'. \n",
    "\n",
    "Numerical values in RWD sources are usually found in event-based tables, with each row recording a single measurement value for a single patient associated with a single date*. All numerical values are in a single 'measurement_value' column. A medical code is associated with each event, which indicates the type of numerical measurement recorded. Units of measurement are in an additional column. \n",
    "<table border=\"1\">\n",
    "    <tr>\n",
    "        <th>PersonID</th>\n",
    "        <th>MedicalCode</th>\n",
    "        <th>EventDate</th>\n",
    "        <th>Value</th>\n",
    "        <th>Unit</th>\n",
    "    </tr>\n",
    "    <tr>\n",
    "        <td>1</td>\n",
    "        <td>HbA1c</td>\n",
    "        <td>2010-01-01</td>\n",
    "        <td>4.2</td>\n",
    "        <td>%</td>\n",
    "    </tr>\n",
    "    <tr>\n",
    "        <td>1</td>\n",
    "        <td>HT</td>\n",
    "        <td>2010-01-02</td>\n",
    "        <td>121</td>\n",
    "        <td>cm</td>\n",
    "    </tr>\n",
    "    <tr>\n",
    "        <td>2</td>\n",
    "        <td>WT</td>\n",
    "        <td>2010-01-01</td>\n",
    "        <td>130</td>\n",
    "        <td>kg</td>\n",
    "    </tr>\n",
    "</table>\n",
    "\n",
    "MeasurementPhenotype is a subclass of CodelistPhenotype, inheriting all of its functionality to identify patients by single or sets of medical codes. For example, we can identify the patients with a Loinc code of '8480-6', meaning a measurement of systolic blood pressure was performed, within a specified time period; see the *CodelistPhenotype* tutorial for more information. \n",
    "\n",
    "MeasurementPhenotype adds additional functionality dealing with numeric values, such as : \n",
    "- performing simple aggregations, such as mean or daily_mean\n",
    "- identifying patients with a measurement value or aggregated measurement value within a value range and\n",
    "- returning measurement values, either all measurements values, or the measurment value nearest/furthest from the anchor date\n",
    "\n",
    "<strong>*</strong>if multiple dates are associated with an event, MeasurementPhenotype alone cannot be used. Either data cleaning operations must be performed to the input measurement table to resolve the multiple dates to a single date, or LogicPhenotype can be used in conjunction with a MeasurementPhenotype for each date in order to resolve this; see the tutorial on LogicPhenotype for more information.\n",
    "\n",
    "\n",
    "After this tutorial, we will be able to answer the following questions : \n",
    "<ol>\n",
    "\n",
    "<li><a href=\"#example_1\">which patients had a measurement for systolic blood pressure recorded any time in the data source</a></li>\n",
    "<li><a href=\"#example_2\">which patients had a measurement for systolic blood pressure recorded one year prior to index date?</a></li>\n",
    "<li><a href=\"#example_3\">which patients had a measurement for systolic blood pressure recorded in units 'mmHg' one year prior to index date?</a></li>\n",
    "<li><a href=\"#example_4\">which patients have one or more systolic blood pressure measurements greater than 200 mmHg recorded within one year prior to index date?</a></li>\n",
    "<li><a href=\"#example_5\">which patients have one or more systolic blood pressure measurements between 120 and 160 mmHg recorded within one year prior to index date?</a></li>\n",
    "<li><a href=\"#example_6\">How can I see all measurements for systolic blood pressure recorded one year prior to index date?</a></li>\n",
    "<li><a href=\"#example_7\">How can I see all measurements for systolic blood pressure recorded one year prior to index date less than 180 mmHg?</a></li>\n",
    "<li><a href=\"#example_8\">What is the patient mean systolic blood pressure in the baseline period?</a></li>\n",
    "<li><a href=\"#example_9\">What is the patient daily mean systolic blood pressure?</a></li>\n",
    "<li><a href=\"#example_10\">what is value of the systolic blood pressure recorded nearest to the index date?</a></li>\n",
    "<li><a href=\"#example_11\">what is mean value of the systolic blood pressure recorded in the one year pre index period?</a></li>\n",
    "<li><a href=\"#example_12\">I see measurements > 300mmHg in my dataset, which are obviously due to error. Which patients have a systolic blood pressure measurements greater than 200 mmHg, having removed SBP measurements >300mmHg?</a></li>\n",
    "\n",
    "</ol>\n",
    "<br>\n",
    "<br>\n",
    "<br>\n",
    "For the purposes of this tutorial we will be using dummy generated data. For our first set of examples, we have five patients. The index date is hard coded as January 1, 2020 for all patients. Look at the patients below"
   ]
  },
  {
   "cell_type": "code",
   "execution_count": 1,
   "id": "0d9e839e-15af-41e7-832d-03e02f71af9f",
   "metadata": {},
   "outputs": [
    {
     "data": {
      "text/html": [
       "<pre style=\"white-space:pre;overflow-x:auto;line-height:normal;font-family:Menlo,'DejaVu Sans Mono',consolas,'Courier New',monospace\">┏━━━━━━━━━━━┳━━━━━━━━━━━━━━━━━━━━━━━━━━━━━┳━━━━━━━━━━━━━━━━━┳━━━━━━━━┳━━━━━━━━━━━━━━━━━━┳━━━━━━━━━━━━┳━━━━━━━━━━━━┳━━━━━━━━┳━━━━━━━┓\n",
       "┃<span style=\"font-weight: bold\"> PERSON_ID </span>┃<span style=\"font-weight: bold\"> MEASUREMENT_TYPE_CONCEPT_ID </span>┃<span style=\"font-weight: bold\"> VALUE_AS_NUMBER </span>┃<span style=\"font-weight: bold\"> UNIT   </span>┃<span style=\"font-weight: bold\"> MEASUREMENT_DATE </span>┃<span style=\"font-weight: bold\"> INDEX_DATE </span>┃<span style=\"font-weight: bold\"> EVENT_DATE </span>┃<span style=\"font-weight: bold\"> CODE   </span>┃<span style=\"font-weight: bold\"> VALUE </span>┃\n",
       "┡━━━━━━━━━━━╇━━━━━━━━━━━━━━━━━━━━━━━━━━━━━╇━━━━━━━━━━━━━━━━━╇━━━━━━━━╇━━━━━━━━━━━━━━━━━━╇━━━━━━━━━━━━╇━━━━━━━━━━━━╇━━━━━━━━╇━━━━━━━┩\n",
       "│ <span style=\"color: #7f7f7f; text-decoration-color: #7f7f7f\">string</span>    │ <span style=\"color: #7f7f7f; text-decoration-color: #7f7f7f\">string</span>                      │ <span style=\"color: #7f7f7f; text-decoration-color: #7f7f7f\">int64</span>           │ <span style=\"color: #7f7f7f; text-decoration-color: #7f7f7f\">string</span> │ <span style=\"color: #7f7f7f; text-decoration-color: #7f7f7f\">date</span>             │ <span style=\"color: #7f7f7f; text-decoration-color: #7f7f7f\">date</span>       │ <span style=\"color: #7f7f7f; text-decoration-color: #7f7f7f\">date</span>       │ <span style=\"color: #7f7f7f; text-decoration-color: #7f7f7f\">string</span> │ <span style=\"color: #7f7f7f; text-decoration-color: #7f7f7f\">int64</span> │\n",
       "├───────────┼─────────────────────────────┼─────────────────┼────────┼──────────────────┼────────────┼────────────┼────────┼───────┤\n",
       "│ <span style=\"color: #008000; text-decoration-color: #008000\">P0       </span> │ <span style=\"color: #008000; text-decoration-color: #008000\">SBP                        </span> │             <span style=\"color: #008080; text-decoration-color: #008080; font-weight: bold\">120</span> │ <span style=\"color: #008000; text-decoration-color: #008000\">Hg    </span> │ <span style=\"color: #800080; text-decoration-color: #800080\">2019-12-02</span>       │ <span style=\"color: #800080; text-decoration-color: #800080\">2020-01-01</span> │ <span style=\"color: #800080; text-decoration-color: #800080\">2019-12-02</span> │ <span style=\"color: #008000; text-decoration-color: #008000\">SBP   </span> │   <span style=\"color: #008080; text-decoration-color: #008080; font-weight: bold\">120</span> │\n",
       "│ <span style=\"color: #008000; text-decoration-color: #008000\">P1       </span> │ <span style=\"color: #008000; text-decoration-color: #008000\">SBP                        </span> │             <span style=\"color: #008080; text-decoration-color: #008080; font-weight: bold\">120</span> │ <span style=\"color: #008000; text-decoration-color: #008000\">mmHg  </span> │ <span style=\"color: #800080; text-decoration-color: #800080\">2020-01-31</span>       │ <span style=\"color: #800080; text-decoration-color: #800080\">2020-01-01</span> │ <span style=\"color: #800080; text-decoration-color: #800080\">2020-01-31</span> │ <span style=\"color: #008000; text-decoration-color: #008000\">SBP   </span> │   <span style=\"color: #008080; text-decoration-color: #008080; font-weight: bold\">120</span> │\n",
       "│ <span style=\"color: #008000; text-decoration-color: #008000\">P2       </span> │ <span style=\"color: #008000; text-decoration-color: #008000\">SBP                        </span> │             <span style=\"color: #008080; text-decoration-color: #008080; font-weight: bold\">160</span> │ <span style=\"color: #008000; text-decoration-color: #008000\">mmHg  </span> │ <span style=\"color: #800080; text-decoration-color: #800080\">2019-12-02</span>       │ <span style=\"color: #800080; text-decoration-color: #800080\">2020-01-01</span> │ <span style=\"color: #800080; text-decoration-color: #800080\">2019-12-02</span> │ <span style=\"color: #008000; text-decoration-color: #008000\">SBP   </span> │   <span style=\"color: #008080; text-decoration-color: #008080; font-weight: bold\">160</span> │\n",
       "│ <span style=\"color: #008000; text-decoration-color: #008000\">P3       </span> │ <span style=\"color: #008000; text-decoration-color: #008000\">SBP                        </span> │             <span style=\"color: #008080; text-decoration-color: #008080; font-weight: bold\">160</span> │ <span style=\"color: #008000; text-decoration-color: #008000\">mmHg  </span> │ <span style=\"color: #800080; text-decoration-color: #800080\">2020-01-31</span>       │ <span style=\"color: #800080; text-decoration-color: #800080\">2020-01-01</span> │ <span style=\"color: #800080; text-decoration-color: #800080\">2020-01-31</span> │ <span style=\"color: #008000; text-decoration-color: #008000\">SBP   </span> │   <span style=\"color: #008080; text-decoration-color: #008080; font-weight: bold\">160</span> │\n",
       "│ <span style=\"color: #008000; text-decoration-color: #008000\">P4       </span> │ <span style=\"color: #008000; text-decoration-color: #008000\">DBP                        </span> │              <span style=\"color: #008080; text-decoration-color: #008080; font-weight: bold\">80</span> │ <span style=\"color: #008000; text-decoration-color: #008000\">mmHg  </span> │ <span style=\"color: #800080; text-decoration-color: #800080\">2019-12-02</span>       │ <span style=\"color: #800080; text-decoration-color: #800080\">2020-01-01</span> │ <span style=\"color: #800080; text-decoration-color: #800080\">2019-12-02</span> │ <span style=\"color: #008000; text-decoration-color: #008000\">DBP   </span> │    <span style=\"color: #008080; text-decoration-color: #008080; font-weight: bold\">80</span> │\n",
       "└───────────┴─────────────────────────────┴─────────────────┴────────┴──────────────────┴────────────┴────────────┴────────┴───────┘\n",
       "</pre>\n"
      ],
      "text/plain": [
       "┏━━━━━━━━━━━┳━━━━━━━━━━━━━━━━━━━━━━━━━━━━━┳━━━━━━━━━━━━━━━━━┳━━━━━━━━┳━━━━━━━━━━━━━━━━━━┳━━━━━━━━━━━━┳━━━━━━━━━━━━┳━━━━━━━━┳━━━━━━━┓\n",
       "┃\u001b[1m \u001b[0m\u001b[1mPERSON_ID\u001b[0m\u001b[1m \u001b[0m┃\u001b[1m \u001b[0m\u001b[1mMEASUREMENT_TYPE_CONCEPT_ID\u001b[0m\u001b[1m \u001b[0m┃\u001b[1m \u001b[0m\u001b[1mVALUE_AS_NUMBER\u001b[0m\u001b[1m \u001b[0m┃\u001b[1m \u001b[0m\u001b[1mUNIT\u001b[0m\u001b[1m  \u001b[0m\u001b[1m \u001b[0m┃\u001b[1m \u001b[0m\u001b[1mMEASUREMENT_DATE\u001b[0m\u001b[1m \u001b[0m┃\u001b[1m \u001b[0m\u001b[1mINDEX_DATE\u001b[0m\u001b[1m \u001b[0m┃\u001b[1m \u001b[0m\u001b[1mEVENT_DATE\u001b[0m\u001b[1m \u001b[0m┃\u001b[1m \u001b[0m\u001b[1mCODE\u001b[0m\u001b[1m  \u001b[0m\u001b[1m \u001b[0m┃\u001b[1m \u001b[0m\u001b[1mVALUE\u001b[0m\u001b[1m \u001b[0m┃\n",
       "┡━━━━━━━━━━━╇━━━━━━━━━━━━━━━━━━━━━━━━━━━━━╇━━━━━━━━━━━━━━━━━╇━━━━━━━━╇━━━━━━━━━━━━━━━━━━╇━━━━━━━━━━━━╇━━━━━━━━━━━━╇━━━━━━━━╇━━━━━━━┩\n",
       "│ \u001b[2mstring\u001b[0m    │ \u001b[2mstring\u001b[0m                      │ \u001b[2mint64\u001b[0m           │ \u001b[2mstring\u001b[0m │ \u001b[2mdate\u001b[0m             │ \u001b[2mdate\u001b[0m       │ \u001b[2mdate\u001b[0m       │ \u001b[2mstring\u001b[0m │ \u001b[2mint64\u001b[0m │\n",
       "├───────────┼─────────────────────────────┼─────────────────┼────────┼──────────────────┼────────────┼────────────┼────────┼───────┤\n",
       "│ \u001b[32mP0       \u001b[0m │ \u001b[32mSBP                        \u001b[0m │             \u001b[1;36m120\u001b[0m │ \u001b[32mHg    \u001b[0m │ \u001b[35m2019-12-02\u001b[0m       │ \u001b[35m2020-01-01\u001b[0m │ \u001b[35m2019-12-02\u001b[0m │ \u001b[32mSBP   \u001b[0m │   \u001b[1;36m120\u001b[0m │\n",
       "│ \u001b[32mP1       \u001b[0m │ \u001b[32mSBP                        \u001b[0m │             \u001b[1;36m120\u001b[0m │ \u001b[32mmmHg  \u001b[0m │ \u001b[35m2020-01-31\u001b[0m       │ \u001b[35m2020-01-01\u001b[0m │ \u001b[35m2020-01-31\u001b[0m │ \u001b[32mSBP   \u001b[0m │   \u001b[1;36m120\u001b[0m │\n",
       "│ \u001b[32mP2       \u001b[0m │ \u001b[32mSBP                        \u001b[0m │             \u001b[1;36m160\u001b[0m │ \u001b[32mmmHg  \u001b[0m │ \u001b[35m2019-12-02\u001b[0m       │ \u001b[35m2020-01-01\u001b[0m │ \u001b[35m2019-12-02\u001b[0m │ \u001b[32mSBP   \u001b[0m │   \u001b[1;36m160\u001b[0m │\n",
       "│ \u001b[32mP3       \u001b[0m │ \u001b[32mSBP                        \u001b[0m │             \u001b[1;36m160\u001b[0m │ \u001b[32mmmHg  \u001b[0m │ \u001b[35m2020-01-31\u001b[0m       │ \u001b[35m2020-01-01\u001b[0m │ \u001b[35m2020-01-31\u001b[0m │ \u001b[32mSBP   \u001b[0m │   \u001b[1;36m160\u001b[0m │\n",
       "│ \u001b[32mP4       \u001b[0m │ \u001b[32mDBP                        \u001b[0m │              \u001b[1;36m80\u001b[0m │ \u001b[32mmmHg  \u001b[0m │ \u001b[35m2019-12-02\u001b[0m       │ \u001b[35m2020-01-01\u001b[0m │ \u001b[35m2019-12-02\u001b[0m │ \u001b[32mDBP   \u001b[0m │    \u001b[1;36m80\u001b[0m │\n",
       "└───────────┴─────────────────────────────┴─────────────────┴────────┴──────────────────┴────────────┴────────────┴────────┴───────┘"
      ]
     },
     "execution_count": 1,
     "metadata": {},
     "output_type": "execute_result"
    }
   ],
   "source": [
    "from dummy_measurement_data import create_ex1_dummy_measurement_mapped_tables\n",
    "\n",
    "# %pip install -e /Users/ahartens/src/PhenEx\n",
    "import ibis\n",
    "ibis.options.interactive = True\n",
    "mapped_tables = create_ex1_dummy_measurement_mapped_tables()\n",
    "mapped_tables['MEASUREMENT']\n"
   ]
  },
  {
   "cell_type": "markdown",
   "id": "390d3b86-7004-49b8-ba3d-474d0482234b",
   "metadata": {},
   "source": [
    "\n",
    "## Step 1 : Define CodelistPhenotype arguments\n",
    "*MeasurementPhenotype* has all the functionality of *CodelistPhenotype* for identifying patients by codelists, time ranges in relation to an anchor, and categorical values in other columns. Visit the *CodelistPhenotype* tutorial for more information on these parameters. The only keyword argument of *CodelistPhenotype* that requires special attention is *return_date*, which we will discuss in detail below.\n",
    "\n",
    "Just like CodelistPhenotype, the two minimum arguments are 'domain' and 'codelist'. \n",
    "- Measurements in our case are recorded in the observation table, so we are using the 'observation' domain.\n",
    "- We will need a Codelist for 'Systolic Blood Pressure'. This is a single code. We create a Codelist as follows; see the *Codelist* tutorial for more information on how to define codelists."
   ]
  },
  {
   "cell_type": "code",
   "execution_count": 2,
   "id": "e8d62508-7cfa-4fc9-b9b8-b62dc53170d3",
   "metadata": {},
   "outputs": [],
   "source": [
    "from phenex.codelists import Codelist\n",
    "\n",
    "sbp_codelist = Codelist(\n",
    "    name='systolic_blood_pressure', \n",
    "    codelist = 'SBP'\n",
    ")"
   ]
  },
  {
   "cell_type": "markdown",
   "id": "2c4d4b2f",
   "metadata": {},
   "source": [
    "Let's also make necessary imports for the following tutorial, and also define some constants we will use throughout such as one year pre and post index. In order to run the following phenotypes, you will also have to create a database connector and define mapped tables. We are using the OMOP mapped tables for these examples. See the PhenEx Study Tutorial for more information on how to connect to a database."
   ]
  },
  {
   "cell_type": "code",
   "execution_count": 3,
   "id": "0b646df5",
   "metadata": {},
   "outputs": [],
   "source": [
    "from phenex.phenotypes import MeasurementPhenotype\n",
    "\n",
    "from phenex.filters import (\n",
    "    RelativeTimeRangeFilter, \n",
    "    GreaterThan, \n",
    "    GreaterThanOrEqualTo, \n",
    "    LessThan, \n",
    "    LessThanOrEqualTo,\n",
    "    CategoricalFilter,\n",
    "    ValueFilter,\n",
    ")\n",
    "\n",
    "from phenex.aggregators import (\n",
    "    DailyMean,\n",
    "    DailyMedian,\n",
    "    Mean,\n",
    ")\n",
    "\n",
    "ONEYEAR_PREINDEX = RelativeTimeRangeFilter(\n",
    "    min_days = GreaterThanOrEqualTo(0),\n",
    "    max_days = LessThan(365),\n",
    "    when = \"before\"\n",
    ")\n",
    "\n",
    "ONEYEAR_POSTINDEX = RelativeTimeRangeFilter(\n",
    "    min_days = GreaterThanOrEqualTo(0),\n",
    "    max_days = LessThan(365),\n",
    "    when = \"after\"\n",
    ")"
   ]
  },
  {
   "cell_type": "markdown",
   "id": "1f216fe4-9afe-4234-9aa2-b51695cf3022",
   "metadata": {},
   "source": [
    "We can now make our first MeasurementPhenotype! Let's get all SBP measurements in the database.\n",
    "<a id='example_1'></a>\n",
    "<a id='example_2'></a>\n",
    "\n",
    "### eg 1 : Measurement name\n",
    "**Which patients had a measurement for systolic blood pressure recorded any time in the data source?**"
   ]
  },
  {
   "cell_type": "code",
   "execution_count": 4,
   "id": "e2b72716-a160-45ed-bc0f-f0d88a3c64f4",
   "metadata": {},
   "outputs": [
    {
     "name": "stderr",
     "output_type": "stream",
     "text": [
      "2025-05-16 16:20:17,719 - phenex.phenotypes.phenotype - INFO - Phenotype 'sbp_patients_any_time': executing...\n",
      "2025-05-16 16:20:17,750 - phenex.phenotypes.phenotype - INFO - Phenotype 'sbp_patients_any_time': execution completed.\n"
     ]
    },
    {
     "data": {
      "text/html": [
       "<pre style=\"white-space:pre;overflow-x:auto;line-height:normal;font-family:Menlo,'DejaVu Sans Mono',consolas,'Courier New',monospace\">┏━━━━━━━━━━━┳━━━━━━━━━┳━━━━━━━━━━━━┳━━━━━━━┓\n",
       "┃<span style=\"font-weight: bold\"> PERSON_ID </span>┃<span style=\"font-weight: bold\"> BOOLEAN </span>┃<span style=\"font-weight: bold\"> EVENT_DATE </span>┃<span style=\"font-weight: bold\"> VALUE </span>┃\n",
       "┡━━━━━━━━━━━╇━━━━━━━━━╇━━━━━━━━━━━━╇━━━━━━━┩\n",
       "│ <span style=\"color: #7f7f7f; text-decoration-color: #7f7f7f\">string</span>    │ <span style=\"color: #7f7f7f; text-decoration-color: #7f7f7f\">boolean</span> │ <span style=\"color: #7f7f7f; text-decoration-color: #7f7f7f\">date</span>       │ <span style=\"color: #7f7f7f; text-decoration-color: #7f7f7f\">int64</span> │\n",
       "├───────────┼─────────┼────────────┼───────┤\n",
       "│ <span style=\"color: #008000; text-decoration-color: #008000\">P0       </span> │ True    │ <span style=\"color: #800080; text-decoration-color: #800080\">2019-12-02</span> │   <span style=\"color: #008080; text-decoration-color: #008080; font-weight: bold\">120</span> │\n",
       "│ <span style=\"color: #008000; text-decoration-color: #008000\">P1       </span> │ True    │ <span style=\"color: #800080; text-decoration-color: #800080\">2020-01-31</span> │   <span style=\"color: #008080; text-decoration-color: #008080; font-weight: bold\">120</span> │\n",
       "│ <span style=\"color: #008000; text-decoration-color: #008000\">P2       </span> │ True    │ <span style=\"color: #800080; text-decoration-color: #800080\">2019-12-02</span> │   <span style=\"color: #008080; text-decoration-color: #008080; font-weight: bold\">160</span> │\n",
       "│ <span style=\"color: #008000; text-decoration-color: #008000\">P3       </span> │ True    │ <span style=\"color: #800080; text-decoration-color: #800080\">2020-01-31</span> │   <span style=\"color: #008080; text-decoration-color: #008080; font-weight: bold\">160</span> │\n",
       "└───────────┴─────────┴────────────┴───────┘\n",
       "</pre>\n"
      ],
      "text/plain": [
       "┏━━━━━━━━━━━┳━━━━━━━━━┳━━━━━━━━━━━━┳━━━━━━━┓\n",
       "┃\u001b[1m \u001b[0m\u001b[1mPERSON_ID\u001b[0m\u001b[1m \u001b[0m┃\u001b[1m \u001b[0m\u001b[1mBOOLEAN\u001b[0m\u001b[1m \u001b[0m┃\u001b[1m \u001b[0m\u001b[1mEVENT_DATE\u001b[0m\u001b[1m \u001b[0m┃\u001b[1m \u001b[0m\u001b[1mVALUE\u001b[0m\u001b[1m \u001b[0m┃\n",
       "┡━━━━━━━━━━━╇━━━━━━━━━╇━━━━━━━━━━━━╇━━━━━━━┩\n",
       "│ \u001b[2mstring\u001b[0m    │ \u001b[2mboolean\u001b[0m │ \u001b[2mdate\u001b[0m       │ \u001b[2mint64\u001b[0m │\n",
       "├───────────┼─────────┼────────────┼───────┤\n",
       "│ \u001b[32mP0       \u001b[0m │ True    │ \u001b[35m2019-12-02\u001b[0m │   \u001b[1;36m120\u001b[0m │\n",
       "│ \u001b[32mP1       \u001b[0m │ True    │ \u001b[35m2020-01-31\u001b[0m │   \u001b[1;36m120\u001b[0m │\n",
       "│ \u001b[32mP2       \u001b[0m │ True    │ \u001b[35m2019-12-02\u001b[0m │   \u001b[1;36m160\u001b[0m │\n",
       "│ \u001b[32mP3       \u001b[0m │ True    │ \u001b[35m2020-01-31\u001b[0m │   \u001b[1;36m160\u001b[0m │\n",
       "└───────────┴─────────┴────────────┴───────┘"
      ]
     },
     "execution_count": 4,
     "metadata": {},
     "output_type": "execute_result"
    }
   ],
   "source": [
    "sbp1 = MeasurementPhenotype(\n",
    "    name = 'sbp_patients_any_time',\n",
    "    codelist = sbp_codelist,\n",
    "    domain = 'MEASUREMENT'\n",
    ")\n",
    "sbp1.execute(mapped_tables)"
   ]
  },
  {
   "cell_type": "markdown",
   "id": "9b2daeee-c670-4d21-87c4-080d76fd7bd8",
   "metadata": {},
   "source": [
    "Executing the phenotype, we get the PhenotypeTable. This contains all patients that fulfill the criteria of our phenotype. In this case, it is all patients that have a systolic blood pressure recorded at any time. We see that patients 0-3 are included, and the fourth patient, who has no SBP and only a DBP recorded is not included in the phenotype output.\n",
    "\n",
    "### eg 2 : Relative time range \n",
    "**Which patients had a measurement for systolic blood pressure recorded one year prior to index date?**"
   ]
  },
  {
   "cell_type": "code",
   "execution_count": 5,
   "id": "6e1e3860-44fa-46a7-b88c-fb739ce6f8b3",
   "metadata": {},
   "outputs": [
    {
     "name": "stderr",
     "output_type": "stream",
     "text": [
      "2025-05-16 16:20:18,197 - phenex.phenotypes.phenotype - INFO - Phenotype 'sbp_patients_on_year_preindex': executing...\n",
      "2025-05-16 16:20:18,232 - phenex.phenotypes.phenotype - INFO - Phenotype 'sbp_patients_on_year_preindex': execution completed.\n"
     ]
    },
    {
     "data": {
      "text/html": [
       "<pre style=\"white-space:pre;overflow-x:auto;line-height:normal;font-family:Menlo,'DejaVu Sans Mono',consolas,'Courier New',monospace\">┏━━━━━━━━━━━┳━━━━━━━━━┳━━━━━━━━━━━━┳━━━━━━━┓\n",
       "┃<span style=\"font-weight: bold\"> PERSON_ID </span>┃<span style=\"font-weight: bold\"> BOOLEAN </span>┃<span style=\"font-weight: bold\"> EVENT_DATE </span>┃<span style=\"font-weight: bold\"> VALUE </span>┃\n",
       "┡━━━━━━━━━━━╇━━━━━━━━━╇━━━━━━━━━━━━╇━━━━━━━┩\n",
       "│ <span style=\"color: #7f7f7f; text-decoration-color: #7f7f7f\">string</span>    │ <span style=\"color: #7f7f7f; text-decoration-color: #7f7f7f\">boolean</span> │ <span style=\"color: #7f7f7f; text-decoration-color: #7f7f7f\">date</span>       │ <span style=\"color: #7f7f7f; text-decoration-color: #7f7f7f\">int64</span> │\n",
       "├───────────┼─────────┼────────────┼───────┤\n",
       "│ <span style=\"color: #008000; text-decoration-color: #008000\">P0       </span> │ True    │ <span style=\"color: #800080; text-decoration-color: #800080\">2019-12-02</span> │   <span style=\"color: #008080; text-decoration-color: #008080; font-weight: bold\">120</span> │\n",
       "│ <span style=\"color: #008000; text-decoration-color: #008000\">P2       </span> │ True    │ <span style=\"color: #800080; text-decoration-color: #800080\">2019-12-02</span> │   <span style=\"color: #008080; text-decoration-color: #008080; font-weight: bold\">160</span> │\n",
       "└───────────┴─────────┴────────────┴───────┘\n",
       "</pre>\n"
      ],
      "text/plain": [
       "┏━━━━━━━━━━━┳━━━━━━━━━┳━━━━━━━━━━━━┳━━━━━━━┓\n",
       "┃\u001b[1m \u001b[0m\u001b[1mPERSON_ID\u001b[0m\u001b[1m \u001b[0m┃\u001b[1m \u001b[0m\u001b[1mBOOLEAN\u001b[0m\u001b[1m \u001b[0m┃\u001b[1m \u001b[0m\u001b[1mEVENT_DATE\u001b[0m\u001b[1m \u001b[0m┃\u001b[1m \u001b[0m\u001b[1mVALUE\u001b[0m\u001b[1m \u001b[0m┃\n",
       "┡━━━━━━━━━━━╇━━━━━━━━━╇━━━━━━━━━━━━╇━━━━━━━┩\n",
       "│ \u001b[2mstring\u001b[0m    │ \u001b[2mboolean\u001b[0m │ \u001b[2mdate\u001b[0m       │ \u001b[2mint64\u001b[0m │\n",
       "├───────────┼─────────┼────────────┼───────┤\n",
       "│ \u001b[32mP0       \u001b[0m │ True    │ \u001b[35m2019-12-02\u001b[0m │   \u001b[1;36m120\u001b[0m │\n",
       "│ \u001b[32mP2       \u001b[0m │ True    │ \u001b[35m2019-12-02\u001b[0m │   \u001b[1;36m160\u001b[0m │\n",
       "└───────────┴─────────┴────────────┴───────┘"
      ]
     },
     "execution_count": 5,
     "metadata": {},
     "output_type": "execute_result"
    }
   ],
   "source": [
    "sbp2 = MeasurementPhenotype(\n",
    "    name = 'sbp_patients_on_year_preindex',\n",
    "    codelist = sbp_codelist,\n",
    "    domain = 'MEASUREMENT',\n",
    "    relative_time_range = ONEYEAR_PREINDEX # we set a time_range_filter, exactly like for a CodelistPhenotype\n",
    ")\n",
    "sbp2.execute(mapped_tables)"
   ]
  },
  {
   "cell_type": "markdown",
   "id": "d33eafcf-731b-419b-937c-0ce379cd8f82",
   "metadata": {},
   "source": [
    "We see that patients 0 and 2 remain in this phenotype's output as they have preindex measuremnts, while patients 1 and 3 have been removed, as their measurement was recorded post index (recall that index_date is hardcoded as Jan 1, 2020)\n",
    "### eg 3 : Categorical values e.g. units\n",
    "**Which patients had a measurement for systolic blood pressure recorded in units 'mmHg' one year prior to index date?**\n",
    "As MeasurementPhenotype has all the functionality of CodelistPhenotype, it also supports categorical filtering. Like CodelistPhenotype, this can be used to require conditions such as 'occurred during an inpatient visit'. This is especially useful in the context of the MeasurementPhenotype for requiring measurement units. Here we create a categorical filter requiring the units be in 'mmHg'"
   ]
  },
  {
   "cell_type": "code",
   "execution_count": 6,
   "id": "43397671-0f61-43e4-83aa-727ebed7d547",
   "metadata": {},
   "outputs": [
    {
     "name": "stderr",
     "output_type": "stream",
     "text": [
      "2025-05-16 16:20:18,838 - phenex.phenotypes.phenotype - INFO - Phenotype 'sbp_patients_on_year_preindex_in_mmHg': executing...\n",
      "2025-05-16 16:20:18,873 - phenex.phenotypes.phenotype - INFO - Phenotype 'sbp_patients_on_year_preindex_in_mmHg': execution completed.\n"
     ]
    },
    {
     "data": {
      "text/html": [
       "<pre style=\"white-space:pre;overflow-x:auto;line-height:normal;font-family:Menlo,'DejaVu Sans Mono',consolas,'Courier New',monospace\">┏━━━━━━━━━━━┳━━━━━━━━━┳━━━━━━━━━━━━┳━━━━━━━┓\n",
       "┃<span style=\"font-weight: bold\"> PERSON_ID </span>┃<span style=\"font-weight: bold\"> BOOLEAN </span>┃<span style=\"font-weight: bold\"> EVENT_DATE </span>┃<span style=\"font-weight: bold\"> VALUE </span>┃\n",
       "┡━━━━━━━━━━━╇━━━━━━━━━╇━━━━━━━━━━━━╇━━━━━━━┩\n",
       "│ <span style=\"color: #7f7f7f; text-decoration-color: #7f7f7f\">string</span>    │ <span style=\"color: #7f7f7f; text-decoration-color: #7f7f7f\">boolean</span> │ <span style=\"color: #7f7f7f; text-decoration-color: #7f7f7f\">date</span>       │ <span style=\"color: #7f7f7f; text-decoration-color: #7f7f7f\">int64</span> │\n",
       "├───────────┼─────────┼────────────┼───────┤\n",
       "│ <span style=\"color: #008000; text-decoration-color: #008000\">P2       </span> │ True    │ <span style=\"color: #800080; text-decoration-color: #800080\">2019-12-02</span> │   <span style=\"color: #008080; text-decoration-color: #008080; font-weight: bold\">160</span> │\n",
       "└───────────┴─────────┴────────────┴───────┘\n",
       "</pre>\n"
      ],
      "text/plain": [
       "┏━━━━━━━━━━━┳━━━━━━━━━┳━━━━━━━━━━━━┳━━━━━━━┓\n",
       "┃\u001b[1m \u001b[0m\u001b[1mPERSON_ID\u001b[0m\u001b[1m \u001b[0m┃\u001b[1m \u001b[0m\u001b[1mBOOLEAN\u001b[0m\u001b[1m \u001b[0m┃\u001b[1m \u001b[0m\u001b[1mEVENT_DATE\u001b[0m\u001b[1m \u001b[0m┃\u001b[1m \u001b[0m\u001b[1mVALUE\u001b[0m\u001b[1m \u001b[0m┃\n",
       "┡━━━━━━━━━━━╇━━━━━━━━━╇━━━━━━━━━━━━╇━━━━━━━┩\n",
       "│ \u001b[2mstring\u001b[0m    │ \u001b[2mboolean\u001b[0m │ \u001b[2mdate\u001b[0m       │ \u001b[2mint64\u001b[0m │\n",
       "├───────────┼─────────┼────────────┼───────┤\n",
       "│ \u001b[32mP2       \u001b[0m │ True    │ \u001b[35m2019-12-02\u001b[0m │   \u001b[1;36m160\u001b[0m │\n",
       "└───────────┴─────────┴────────────┴───────┘"
      ]
     },
     "execution_count": 6,
     "metadata": {},
     "output_type": "execute_result"
    }
   ],
   "source": [
    "sbp3 = MeasurementPhenotype(\n",
    "    name = 'sbp_patients_on_year_preindex_in_mmHg',\n",
    "    codelist = sbp_codelist,\n",
    "    domain = 'MEASUREMENT',\n",
    "    relative_time_range = ONEYEAR_PREINDEX,\n",
    "    categorical_filter = CategoricalFilter(\n",
    "        allowed_values=['mmHg'], \n",
    "        column_name='UNIT'\n",
    "    )\n",
    ")\n",
    "sbp3.execute(mapped_tables)"
   ]
  },
  {
   "cell_type": "markdown",
   "id": "4d9d5c5d-b631-4ae6-914e-239b348e07c6",
   "metadata": {},
   "source": [
    "Notice that only P2 remains, as P0 had units recorded in 'Hg', not 'mmHg'.\n",
    "\n",
    "**Suggestion** : use *categorical_filter* to define units, if only some subset of units are allowed."
   ]
  },
  {
   "cell_type": "markdown",
   "id": "f4b0dce9-9c3b-4a21-95fa-5425a9ca76b5",
   "metadata": {},
   "source": [
    "## Step 2 : Define a value_filter\n",
    "Till now we have seen how to select patients that have any recorded event of the measurement type defined by our codelist. *MeasurementPhenotype* allows further selection of patients based on the measurement value. To do this, we define the *value_filter* keyword argument to either a single threshold value or to an allowed value range. \n",
    "\n",
    "Using the *value_filter* of *MeasurementPhenotype*, we can ask questions such as 'which patients had a measurement greater than 130 in the pre index period?'.\n",
    "\n",
    "Output tables return only patient ids that fulfill our *CodelistPhenotype* criteria and are within the ranges defined by our *value_filter*. Unless return_value is defined, only patient_ids are returned (one row per patient).\n",
    "\n",
    "### eg 4 : Value threshold\n",
    "**which patients have one or more systolic blood pressure measurements greater than 200 mmHg recorded within one year prior to index date?**"
   ]
  },
  {
   "cell_type": "code",
   "execution_count": 7,
   "id": "a5fd3aca-2b25-4ee1-96bb-ae9b6f43e6f4",
   "metadata": {},
   "outputs": [
    {
     "name": "stderr",
     "output_type": "stream",
     "text": [
      "2025-05-16 16:20:20,273 - phenex.phenotypes.phenotype - INFO - Phenotype 'sbp_preindex_measurements_ge130': executing...\n",
      "2025-05-16 16:20:20,288 - phenex.phenotypes.measurement_phenotype - DEBUG - Applying null filtering for sbp_preindex_measurements_ge130\n",
      "/Users/ahartens/.pyenv/versions/3.12.7/envs/phenex2/lib/python3.12/site-packages/ibis/expr/types/relations.py:685: FutureWarning: Selecting/filtering arbitrary expressions in `Table.__getitem__` is deprecated and will be removed in version 10.0. Please use `Table.select` or `Table.filter` instead.\n",
      "  warnings.warn(\n",
      "2025-05-16 16:20:20,302 - phenex.phenotypes.phenotype - INFO - Phenotype 'sbp_preindex_measurements_ge130': execution completed.\n"
     ]
    },
    {
     "data": {
      "text/html": [
       "<pre style=\"white-space:pre;overflow-x:auto;line-height:normal;font-family:Menlo,'DejaVu Sans Mono',consolas,'Courier New',monospace\">┏━━━━━━━━━━━┳━━━━━━━━━┳━━━━━━━━━━━━┳━━━━━━━┓\n",
       "┃<span style=\"font-weight: bold\"> PERSON_ID </span>┃<span style=\"font-weight: bold\"> BOOLEAN </span>┃<span style=\"font-weight: bold\"> EVENT_DATE </span>┃<span style=\"font-weight: bold\"> VALUE </span>┃\n",
       "┡━━━━━━━━━━━╇━━━━━━━━━╇━━━━━━━━━━━━╇━━━━━━━┩\n",
       "│ <span style=\"color: #7f7f7f; text-decoration-color: #7f7f7f\">string</span>    │ <span style=\"color: #7f7f7f; text-decoration-color: #7f7f7f\">boolean</span> │ <span style=\"color: #7f7f7f; text-decoration-color: #7f7f7f\">date</span>       │ <span style=\"color: #7f7f7f; text-decoration-color: #7f7f7f\">int64</span> │\n",
       "├───────────┼─────────┼────────────┼───────┤\n",
       "│ <span style=\"color: #008000; text-decoration-color: #008000\">P2       </span> │ True    │ <span style=\"color: #800080; text-decoration-color: #800080\">2019-12-02</span> │   <span style=\"color: #008080; text-decoration-color: #008080; font-weight: bold\">160</span> │\n",
       "└───────────┴─────────┴────────────┴───────┘\n",
       "</pre>\n"
      ],
      "text/plain": [
       "┏━━━━━━━━━━━┳━━━━━━━━━┳━━━━━━━━━━━━┳━━━━━━━┓\n",
       "┃\u001b[1m \u001b[0m\u001b[1mPERSON_ID\u001b[0m\u001b[1m \u001b[0m┃\u001b[1m \u001b[0m\u001b[1mBOOLEAN\u001b[0m\u001b[1m \u001b[0m┃\u001b[1m \u001b[0m\u001b[1mEVENT_DATE\u001b[0m\u001b[1m \u001b[0m┃\u001b[1m \u001b[0m\u001b[1mVALUE\u001b[0m\u001b[1m \u001b[0m┃\n",
       "┡━━━━━━━━━━━╇━━━━━━━━━╇━━━━━━━━━━━━╇━━━━━━━┩\n",
       "│ \u001b[2mstring\u001b[0m    │ \u001b[2mboolean\u001b[0m │ \u001b[2mdate\u001b[0m       │ \u001b[2mint64\u001b[0m │\n",
       "├───────────┼─────────┼────────────┼───────┤\n",
       "│ \u001b[32mP2       \u001b[0m │ True    │ \u001b[35m2019-12-02\u001b[0m │   \u001b[1;36m160\u001b[0m │\n",
       "└───────────┴─────────┴────────────┴───────┘"
      ]
     },
     "execution_count": 7,
     "metadata": {},
     "output_type": "execute_result"
    }
   ],
   "source": [
    "sbp4 = MeasurementPhenotype(\n",
    "    name = 'sbp_preindex_measurements_ge130',\n",
    "    codelist = sbp_codelist,\n",
    "    domain = 'MEASUREMENT',\n",
    "    relative_time_range = ONEYEAR_PREINDEX,\n",
    "    value_filter = ValueFilter(\n",
    "        min_value = GreaterThanOrEqualTo(130),\n",
    "        column_name = \"VALUE\"\n",
    "    )\n",
    ")\n",
    "sbp4.execute(mapped_tables)"
   ]
  },
  {
   "cell_type": "markdown",
   "id": "1ff15ae7-66a1-4bec-8342-4b18cdcf3f77",
   "metadata": {},
   "source": [
    "\n",
    "### eg 5 : Value range\n",
    "**which patients have one or more systolic blood pressure measurements between 120 and 160 mmHg recorded within one year prior to index date?**"
   ]
  },
  {
   "cell_type": "code",
   "execution_count": 8,
   "id": "9d4402fc-a8c1-450f-84a3-7ed6bc994af6",
   "metadata": {},
   "outputs": [
    {
     "name": "stderr",
     "output_type": "stream",
     "text": [
      "2025-05-16 16:20:21,142 - phenex.phenotypes.phenotype - INFO - Phenotype 'sbp_preindex_measurements_between_100_130': executing...\n",
      "2025-05-16 16:20:21,154 - phenex.phenotypes.measurement_phenotype - DEBUG - Applying null filtering for sbp_preindex_measurements_between_100_130\n",
      "/Users/ahartens/.pyenv/versions/3.12.7/envs/phenex2/lib/python3.12/site-packages/ibis/expr/types/relations.py:685: FutureWarning: Selecting/filtering arbitrary expressions in `Table.__getitem__` is deprecated and will be removed in version 10.0. Please use `Table.select` or `Table.filter` instead.\n",
      "  warnings.warn(\n",
      "2025-05-16 16:20:21,168 - phenex.phenotypes.phenotype - INFO - Phenotype 'sbp_preindex_measurements_between_100_130': execution completed.\n"
     ]
    },
    {
     "data": {
      "text/html": [
       "<pre style=\"white-space:pre;overflow-x:auto;line-height:normal;font-family:Menlo,'DejaVu Sans Mono',consolas,'Courier New',monospace\">┏━━━━━━━━━━━┳━━━━━━━━━┳━━━━━━━━━━━━┳━━━━━━━┓\n",
       "┃<span style=\"font-weight: bold\"> PERSON_ID </span>┃<span style=\"font-weight: bold\"> BOOLEAN </span>┃<span style=\"font-weight: bold\"> EVENT_DATE </span>┃<span style=\"font-weight: bold\"> VALUE </span>┃\n",
       "┡━━━━━━━━━━━╇━━━━━━━━━╇━━━━━━━━━━━━╇━━━━━━━┩\n",
       "│ <span style=\"color: #7f7f7f; text-decoration-color: #7f7f7f\">string</span>    │ <span style=\"color: #7f7f7f; text-decoration-color: #7f7f7f\">boolean</span> │ <span style=\"color: #7f7f7f; text-decoration-color: #7f7f7f\">date</span>       │ <span style=\"color: #7f7f7f; text-decoration-color: #7f7f7f\">int64</span> │\n",
       "├───────────┼─────────┼────────────┼───────┤\n",
       "│ <span style=\"color: #008000; text-decoration-color: #008000\">P0       </span> │ True    │ <span style=\"color: #800080; text-decoration-color: #800080\">2019-12-02</span> │   <span style=\"color: #008080; text-decoration-color: #008080; font-weight: bold\">120</span> │\n",
       "└───────────┴─────────┴────────────┴───────┘\n",
       "</pre>\n"
      ],
      "text/plain": [
       "┏━━━━━━━━━━━┳━━━━━━━━━┳━━━━━━━━━━━━┳━━━━━━━┓\n",
       "┃\u001b[1m \u001b[0m\u001b[1mPERSON_ID\u001b[0m\u001b[1m \u001b[0m┃\u001b[1m \u001b[0m\u001b[1mBOOLEAN\u001b[0m\u001b[1m \u001b[0m┃\u001b[1m \u001b[0m\u001b[1mEVENT_DATE\u001b[0m\u001b[1m \u001b[0m┃\u001b[1m \u001b[0m\u001b[1mVALUE\u001b[0m\u001b[1m \u001b[0m┃\n",
       "┡━━━━━━━━━━━╇━━━━━━━━━╇━━━━━━━━━━━━╇━━━━━━━┩\n",
       "│ \u001b[2mstring\u001b[0m    │ \u001b[2mboolean\u001b[0m │ \u001b[2mdate\u001b[0m       │ \u001b[2mint64\u001b[0m │\n",
       "├───────────┼─────────┼────────────┼───────┤\n",
       "│ \u001b[32mP0       \u001b[0m │ True    │ \u001b[35m2019-12-02\u001b[0m │   \u001b[1;36m120\u001b[0m │\n",
       "└───────────┴─────────┴────────────┴───────┘"
      ]
     },
     "execution_count": 8,
     "metadata": {},
     "output_type": "execute_result"
    }
   ],
   "source": [
    "sbp5 = MeasurementPhenotype(\n",
    "    name = 'sbp_preindex_measurements_between_100_130',\n",
    "    codelist = sbp_codelist,\n",
    "    domain = 'MEASUREMENT',\n",
    "    relative_time_range = ONEYEAR_PREINDEX,\n",
    "    value_filter = ValueFilter(\n",
    "        min_value = GreaterThanOrEqualTo(100),\n",
    "        max_value = LessThanOrEqualTo(130),        \n",
    "        column_name = \"VALUE\"\n",
    "    )\n",
    ")\n",
    "sbp5.execute(mapped_tables)"
   ]
  },
  {
   "cell_type": "markdown",
   "id": "77769bd1-b08e-462e-86e6-6c8adc717ea4",
   "metadata": {},
   "source": [
    "## Step 3 : Define value_aggregation\n",
    "Till now, the value_filters we have seen perform filtering on the entries recorded directly in the event tables. Indeed, the generated dummy data we have been using has a single measurement per patient. However, we usually have many values recorded for each patient, on different days and on the same day. It is common to want to perform filtering on some aggregation of the data found in our event tables. In these cases, we can think of the measurement events in our data as 'raw' values that do not directly actually reflect the definition of a measurement we are interested in. For example, \n",
    "- Blood Pressure fluctuates very rapidly and changes over time; we therefore do not trust a single, or even multiple values. We may want to define 'hypertension' as not just a single measurement event of systolic blood pressure greater than 160; instead, we may want want to perform value filtering on the 'mean systolic blood pressure in the one year pre index period'. Notice that this requires an aggregation of the 'raw' event based data in the one year pre-index period, meaning that our definition of 'systolic blood pressure' is not that recorded in the raw data, but rather the 'mean SBP in the one year pre index period'. After this aggregation is performed, we then want to perform the value filtering to find those with a 'mean SBP in the one year pre index period' > 160.\n",
    "- Another common issue is that we often see duplicated entries for a lab measurement performed on the same day. For instance, a systolic blood pressure measurement may be performed 10 times on one day. This is often an issue of data quality, and it is suggested to have pipelines to de-duplicate values. However, we can use *MeasurementPhenotype* to perform this de-duplication for us. In essence, we create a new definition for systolic blood pressured which could be called 'daily_median_systolic_blood_pressure', and then perform further value_filtering on this new aggregated value.\n",
    "\n",
    "In order to perform value aggregation, we use the *value_aggregation* keyword argument. The options for value_aggregation are the obvious mean, median, min and max, which perform the named aggregation on all values defined by the *CodelistPhenotype* arguments i.e. codelist criteria, time_range_filters and categorical_filters.\n",
    "\n",
    "In addition to mean, median, min and max, we also have the options of daily mean, median, min and max, which will return the daily means\n",
    "\n",
    "Lets first look at a new generated dummy data set; There are only two patients, P5 and P6. Each has 3 SBP measurements recorded, P5 has these three on the same day, while patient 6 has them on three different days."
   ]
  },
  {
   "cell_type": "code",
   "execution_count": 9,
   "id": "fda95cb7-e61f-41ba-8282-e37d8c467d20",
   "metadata": {},
   "outputs": [
    {
     "data": {
      "text/html": [
       "<pre style=\"white-space:pre;overflow-x:auto;line-height:normal;font-family:Menlo,'DejaVu Sans Mono',consolas,'Courier New',monospace\">┏━━━━━━━━━━━┳━━━━━━━━━━━━━━━━━━━━━━━━━━━━━┳━━━━━━━━━━━━━━━━━┳━━━━━━━━┳━━━━━━━━━━━━━━━━━━┳━━━━━━━━━━━━┳━━━━━━━━━━━━┳━━━━━━━━┳━━━━━━━┓\n",
       "┃<span style=\"font-weight: bold\"> PERSON_ID </span>┃<span style=\"font-weight: bold\"> MEASUREMENT_TYPE_CONCEPT_ID </span>┃<span style=\"font-weight: bold\"> VALUE_AS_NUMBER </span>┃<span style=\"font-weight: bold\"> UNIT   </span>┃<span style=\"font-weight: bold\"> MEASUREMENT_DATE </span>┃<span style=\"font-weight: bold\"> INDEX_DATE </span>┃<span style=\"font-weight: bold\"> EVENT_DATE </span>┃<span style=\"font-weight: bold\"> CODE   </span>┃<span style=\"font-weight: bold\"> VALUE </span>┃\n",
       "┡━━━━━━━━━━━╇━━━━━━━━━━━━━━━━━━━━━━━━━━━━━╇━━━━━━━━━━━━━━━━━╇━━━━━━━━╇━━━━━━━━━━━━━━━━━━╇━━━━━━━━━━━━╇━━━━━━━━━━━━╇━━━━━━━━╇━━━━━━━┩\n",
       "│ <span style=\"color: #7f7f7f; text-decoration-color: #7f7f7f\">string</span>    │ <span style=\"color: #7f7f7f; text-decoration-color: #7f7f7f\">string</span>                      │ <span style=\"color: #7f7f7f; text-decoration-color: #7f7f7f\">int64</span>           │ <span style=\"color: #7f7f7f; text-decoration-color: #7f7f7f\">string</span> │ <span style=\"color: #7f7f7f; text-decoration-color: #7f7f7f\">date</span>             │ <span style=\"color: #7f7f7f; text-decoration-color: #7f7f7f\">date</span>       │ <span style=\"color: #7f7f7f; text-decoration-color: #7f7f7f\">date</span>       │ <span style=\"color: #7f7f7f; text-decoration-color: #7f7f7f\">string</span> │ <span style=\"color: #7f7f7f; text-decoration-color: #7f7f7f\">int64</span> │\n",
       "├───────────┼─────────────────────────────┼─────────────────┼────────┼──────────────────┼────────────┼────────────┼────────┼───────┤\n",
       "│ <span style=\"color: #008000; text-decoration-color: #008000\">P5       </span> │ <span style=\"color: #008000; text-decoration-color: #008000\">SBP                        </span> │             <span style=\"color: #008080; text-decoration-color: #008080; font-weight: bold\">115</span> │ <span style=\"color: #008000; text-decoration-color: #008000\">mmHg  </span> │ <span style=\"color: #800080; text-decoration-color: #800080\">2019-12-02</span>       │ <span style=\"color: #800080; text-decoration-color: #800080\">2020-01-01</span> │ <span style=\"color: #800080; text-decoration-color: #800080\">2019-12-02</span> │ <span style=\"color: #008000; text-decoration-color: #008000\">SBP   </span> │   <span style=\"color: #008080; text-decoration-color: #008080; font-weight: bold\">115</span> │\n",
       "│ <span style=\"color: #008000; text-decoration-color: #008000\">P5       </span> │ <span style=\"color: #008000; text-decoration-color: #008000\">SBP                        </span> │             <span style=\"color: #008080; text-decoration-color: #008080; font-weight: bold\">120</span> │ <span style=\"color: #008000; text-decoration-color: #008000\">mmHg  </span> │ <span style=\"color: #800080; text-decoration-color: #800080\">2019-12-02</span>       │ <span style=\"color: #800080; text-decoration-color: #800080\">2020-01-01</span> │ <span style=\"color: #800080; text-decoration-color: #800080\">2019-12-02</span> │ <span style=\"color: #008000; text-decoration-color: #008000\">SBP   </span> │   <span style=\"color: #008080; text-decoration-color: #008080; font-weight: bold\">120</span> │\n",
       "│ <span style=\"color: #008000; text-decoration-color: #008000\">P5       </span> │ <span style=\"color: #008000; text-decoration-color: #008000\">SBP                        </span> │             <span style=\"color: #008080; text-decoration-color: #008080; font-weight: bold\">190</span> │ <span style=\"color: #008000; text-decoration-color: #008000\">mmHg  </span> │ <span style=\"color: #800080; text-decoration-color: #800080\">2019-12-02</span>       │ <span style=\"color: #800080; text-decoration-color: #800080\">2020-01-01</span> │ <span style=\"color: #800080; text-decoration-color: #800080\">2019-12-02</span> │ <span style=\"color: #008000; text-decoration-color: #008000\">SBP   </span> │   <span style=\"color: #008080; text-decoration-color: #008080; font-weight: bold\">190</span> │\n",
       "│ <span style=\"color: #008000; text-decoration-color: #008000\">P6       </span> │ <span style=\"color: #008000; text-decoration-color: #008000\">SBP                        </span> │             <span style=\"color: #008080; text-decoration-color: #008080; font-weight: bold\">115</span> │ <span style=\"color: #008000; text-decoration-color: #008000\">mmHg  </span> │ <span style=\"color: #800080; text-decoration-color: #800080\">2019-12-03</span>       │ <span style=\"color: #800080; text-decoration-color: #800080\">2020-01-01</span> │ <span style=\"color: #800080; text-decoration-color: #800080\">2019-12-03</span> │ <span style=\"color: #008000; text-decoration-color: #008000\">SBP   </span> │   <span style=\"color: #008080; text-decoration-color: #008080; font-weight: bold\">115</span> │\n",
       "│ <span style=\"color: #008000; text-decoration-color: #008000\">P6       </span> │ <span style=\"color: #008000; text-decoration-color: #008000\">SBP                        </span> │             <span style=\"color: #008080; text-decoration-color: #008080; font-weight: bold\">120</span> │ <span style=\"color: #008000; text-decoration-color: #008000\">mmHg  </span> │ <span style=\"color: #800080; text-decoration-color: #800080\">2019-12-02</span>       │ <span style=\"color: #800080; text-decoration-color: #800080\">2020-01-01</span> │ <span style=\"color: #800080; text-decoration-color: #800080\">2019-12-02</span> │ <span style=\"color: #008000; text-decoration-color: #008000\">SBP   </span> │   <span style=\"color: #008080; text-decoration-color: #008080; font-weight: bold\">120</span> │\n",
       "│ <span style=\"color: #008000; text-decoration-color: #008000\">P6       </span> │ <span style=\"color: #008000; text-decoration-color: #008000\">SBP                        </span> │             <span style=\"color: #008080; text-decoration-color: #008080; font-weight: bold\">190</span> │ <span style=\"color: #008000; text-decoration-color: #008000\">mmHg  </span> │ <span style=\"color: #800080; text-decoration-color: #800080\">2019-12-01</span>       │ <span style=\"color: #800080; text-decoration-color: #800080\">2020-01-01</span> │ <span style=\"color: #800080; text-decoration-color: #800080\">2019-12-01</span> │ <span style=\"color: #008000; text-decoration-color: #008000\">SBP   </span> │   <span style=\"color: #008080; text-decoration-color: #008080; font-weight: bold\">190</span> │\n",
       "└───────────┴─────────────────────────────┴─────────────────┴────────┴──────────────────┴────────────┴────────────┴────────┴───────┘\n",
       "</pre>\n"
      ],
      "text/plain": [
       "┏━━━━━━━━━━━┳━━━━━━━━━━━━━━━━━━━━━━━━━━━━━┳━━━━━━━━━━━━━━━━━┳━━━━━━━━┳━━━━━━━━━━━━━━━━━━┳━━━━━━━━━━━━┳━━━━━━━━━━━━┳━━━━━━━━┳━━━━━━━┓\n",
       "┃\u001b[1m \u001b[0m\u001b[1mPERSON_ID\u001b[0m\u001b[1m \u001b[0m┃\u001b[1m \u001b[0m\u001b[1mMEASUREMENT_TYPE_CONCEPT_ID\u001b[0m\u001b[1m \u001b[0m┃\u001b[1m \u001b[0m\u001b[1mVALUE_AS_NUMBER\u001b[0m\u001b[1m \u001b[0m┃\u001b[1m \u001b[0m\u001b[1mUNIT\u001b[0m\u001b[1m  \u001b[0m\u001b[1m \u001b[0m┃\u001b[1m \u001b[0m\u001b[1mMEASUREMENT_DATE\u001b[0m\u001b[1m \u001b[0m┃\u001b[1m \u001b[0m\u001b[1mINDEX_DATE\u001b[0m\u001b[1m \u001b[0m┃\u001b[1m \u001b[0m\u001b[1mEVENT_DATE\u001b[0m\u001b[1m \u001b[0m┃\u001b[1m \u001b[0m\u001b[1mCODE\u001b[0m\u001b[1m  \u001b[0m\u001b[1m \u001b[0m┃\u001b[1m \u001b[0m\u001b[1mVALUE\u001b[0m\u001b[1m \u001b[0m┃\n",
       "┡━━━━━━━━━━━╇━━━━━━━━━━━━━━━━━━━━━━━━━━━━━╇━━━━━━━━━━━━━━━━━╇━━━━━━━━╇━━━━━━━━━━━━━━━━━━╇━━━━━━━━━━━━╇━━━━━━━━━━━━╇━━━━━━━━╇━━━━━━━┩\n",
       "│ \u001b[2mstring\u001b[0m    │ \u001b[2mstring\u001b[0m                      │ \u001b[2mint64\u001b[0m           │ \u001b[2mstring\u001b[0m │ \u001b[2mdate\u001b[0m             │ \u001b[2mdate\u001b[0m       │ \u001b[2mdate\u001b[0m       │ \u001b[2mstring\u001b[0m │ \u001b[2mint64\u001b[0m │\n",
       "├───────────┼─────────────────────────────┼─────────────────┼────────┼──────────────────┼────────────┼────────────┼────────┼───────┤\n",
       "│ \u001b[32mP5       \u001b[0m │ \u001b[32mSBP                        \u001b[0m │             \u001b[1;36m115\u001b[0m │ \u001b[32mmmHg  \u001b[0m │ \u001b[35m2019-12-02\u001b[0m       │ \u001b[35m2020-01-01\u001b[0m │ \u001b[35m2019-12-02\u001b[0m │ \u001b[32mSBP   \u001b[0m │   \u001b[1;36m115\u001b[0m │\n",
       "│ \u001b[32mP5       \u001b[0m │ \u001b[32mSBP                        \u001b[0m │             \u001b[1;36m120\u001b[0m │ \u001b[32mmmHg  \u001b[0m │ \u001b[35m2019-12-02\u001b[0m       │ \u001b[35m2020-01-01\u001b[0m │ \u001b[35m2019-12-02\u001b[0m │ \u001b[32mSBP   \u001b[0m │   \u001b[1;36m120\u001b[0m │\n",
       "│ \u001b[32mP5       \u001b[0m │ \u001b[32mSBP                        \u001b[0m │             \u001b[1;36m190\u001b[0m │ \u001b[32mmmHg  \u001b[0m │ \u001b[35m2019-12-02\u001b[0m       │ \u001b[35m2020-01-01\u001b[0m │ \u001b[35m2019-12-02\u001b[0m │ \u001b[32mSBP   \u001b[0m │   \u001b[1;36m190\u001b[0m │\n",
       "│ \u001b[32mP6       \u001b[0m │ \u001b[32mSBP                        \u001b[0m │             \u001b[1;36m115\u001b[0m │ \u001b[32mmmHg  \u001b[0m │ \u001b[35m2019-12-03\u001b[0m       │ \u001b[35m2020-01-01\u001b[0m │ \u001b[35m2019-12-03\u001b[0m │ \u001b[32mSBP   \u001b[0m │   \u001b[1;36m115\u001b[0m │\n",
       "│ \u001b[32mP6       \u001b[0m │ \u001b[32mSBP                        \u001b[0m │             \u001b[1;36m120\u001b[0m │ \u001b[32mmmHg  \u001b[0m │ \u001b[35m2019-12-02\u001b[0m       │ \u001b[35m2020-01-01\u001b[0m │ \u001b[35m2019-12-02\u001b[0m │ \u001b[32mSBP   \u001b[0m │   \u001b[1;36m120\u001b[0m │\n",
       "│ \u001b[32mP6       \u001b[0m │ \u001b[32mSBP                        \u001b[0m │             \u001b[1;36m190\u001b[0m │ \u001b[32mmmHg  \u001b[0m │ \u001b[35m2019-12-01\u001b[0m       │ \u001b[35m2020-01-01\u001b[0m │ \u001b[35m2019-12-01\u001b[0m │ \u001b[32mSBP   \u001b[0m │   \u001b[1;36m190\u001b[0m │\n",
       "└───────────┴─────────────────────────────┴─────────────────┴────────┴──────────────────┴────────────┴────────────┴────────┴───────┘"
      ]
     },
     "execution_count": 9,
     "metadata": {},
     "output_type": "execute_result"
    }
   ],
   "source": [
    "from dummy_measurement_data import create_ex2_dummy_measurement_mapped_tables\n",
    "\n",
    "mapped_tables = create_ex2_dummy_measurement_mapped_tables()\n",
    "mapped_tables['MEASUREMENT']\n"
   ]
  },
  {
   "cell_type": "markdown",
   "id": "08346176-e121-4ac2-be99-6500f52603e4",
   "metadata": {},
   "source": [
    "### eg 6 : Return all recorded values (many rows per patient)\n",
    "**How can I see all measurements for systolic blood pressure recorded one year prior to index date?**\n",
    "\n",
    "By default, PhenEx returns all values recorded, with multiple rows per patient returned. This means that all values recorded in the time range will be returned."
   ]
  },
  {
   "cell_type": "code",
   "execution_count": 10,
   "id": "3ab3aeee-1341-4262-8c35-7ac8a3b25246",
   "metadata": {},
   "outputs": [
    {
     "name": "stderr",
     "output_type": "stream",
     "text": [
      "2025-05-16 16:20:25,110 - phenex.phenotypes.phenotype - INFO - Phenotype 'sbp_mean_baseline': executing...\n",
      "2025-05-16 16:20:25,144 - phenex.phenotypes.phenotype - INFO - Phenotype 'sbp_mean_baseline': execution completed.\n"
     ]
    },
    {
     "data": {
      "text/html": [
       "<pre style=\"white-space:pre;overflow-x:auto;line-height:normal;font-family:Menlo,'DejaVu Sans Mono',consolas,'Courier New',monospace\">┏━━━━━━━━━━━┳━━━━━━━━━┳━━━━━━━━━━━━┳━━━━━━━┓\n",
       "┃<span style=\"font-weight: bold\"> PERSON_ID </span>┃<span style=\"font-weight: bold\"> BOOLEAN </span>┃<span style=\"font-weight: bold\"> EVENT_DATE </span>┃<span style=\"font-weight: bold\"> VALUE </span>┃\n",
       "┡━━━━━━━━━━━╇━━━━━━━━━╇━━━━━━━━━━━━╇━━━━━━━┩\n",
       "│ <span style=\"color: #7f7f7f; text-decoration-color: #7f7f7f\">string</span>    │ <span style=\"color: #7f7f7f; text-decoration-color: #7f7f7f\">boolean</span> │ <span style=\"color: #7f7f7f; text-decoration-color: #7f7f7f\">date</span>       │ <span style=\"color: #7f7f7f; text-decoration-color: #7f7f7f\">int64</span> │\n",
       "├───────────┼─────────┼────────────┼───────┤\n",
       "│ <span style=\"color: #008000; text-decoration-color: #008000\">P5       </span> │ True    │ <span style=\"color: #800080; text-decoration-color: #800080\">2019-12-02</span> │   <span style=\"color: #008080; text-decoration-color: #008080; font-weight: bold\">115</span> │\n",
       "│ <span style=\"color: #008000; text-decoration-color: #008000\">P5       </span> │ True    │ <span style=\"color: #800080; text-decoration-color: #800080\">2019-12-02</span> │   <span style=\"color: #008080; text-decoration-color: #008080; font-weight: bold\">120</span> │\n",
       "│ <span style=\"color: #008000; text-decoration-color: #008000\">P5       </span> │ True    │ <span style=\"color: #800080; text-decoration-color: #800080\">2019-12-02</span> │   <span style=\"color: #008080; text-decoration-color: #008080; font-weight: bold\">190</span> │\n",
       "│ <span style=\"color: #008000; text-decoration-color: #008000\">P6       </span> │ True    │ <span style=\"color: #800080; text-decoration-color: #800080\">2019-12-03</span> │   <span style=\"color: #008080; text-decoration-color: #008080; font-weight: bold\">115</span> │\n",
       "│ <span style=\"color: #008000; text-decoration-color: #008000\">P6       </span> │ True    │ <span style=\"color: #800080; text-decoration-color: #800080\">2019-12-02</span> │   <span style=\"color: #008080; text-decoration-color: #008080; font-weight: bold\">120</span> │\n",
       "│ <span style=\"color: #008000; text-decoration-color: #008000\">P6       </span> │ True    │ <span style=\"color: #800080; text-decoration-color: #800080\">2019-12-01</span> │   <span style=\"color: #008080; text-decoration-color: #008080; font-weight: bold\">190</span> │\n",
       "└───────────┴─────────┴────────────┴───────┘\n",
       "</pre>\n"
      ],
      "text/plain": [
       "┏━━━━━━━━━━━┳━━━━━━━━━┳━━━━━━━━━━━━┳━━━━━━━┓\n",
       "┃\u001b[1m \u001b[0m\u001b[1mPERSON_ID\u001b[0m\u001b[1m \u001b[0m┃\u001b[1m \u001b[0m\u001b[1mBOOLEAN\u001b[0m\u001b[1m \u001b[0m┃\u001b[1m \u001b[0m\u001b[1mEVENT_DATE\u001b[0m\u001b[1m \u001b[0m┃\u001b[1m \u001b[0m\u001b[1mVALUE\u001b[0m\u001b[1m \u001b[0m┃\n",
       "┡━━━━━━━━━━━╇━━━━━━━━━╇━━━━━━━━━━━━╇━━━━━━━┩\n",
       "│ \u001b[2mstring\u001b[0m    │ \u001b[2mboolean\u001b[0m │ \u001b[2mdate\u001b[0m       │ \u001b[2mint64\u001b[0m │\n",
       "├───────────┼─────────┼────────────┼───────┤\n",
       "│ \u001b[32mP5       \u001b[0m │ True    │ \u001b[35m2019-12-02\u001b[0m │   \u001b[1;36m115\u001b[0m │\n",
       "│ \u001b[32mP5       \u001b[0m │ True    │ \u001b[35m2019-12-02\u001b[0m │   \u001b[1;36m120\u001b[0m │\n",
       "│ \u001b[32mP5       \u001b[0m │ True    │ \u001b[35m2019-12-02\u001b[0m │   \u001b[1;36m190\u001b[0m │\n",
       "│ \u001b[32mP6       \u001b[0m │ True    │ \u001b[35m2019-12-03\u001b[0m │   \u001b[1;36m115\u001b[0m │\n",
       "│ \u001b[32mP6       \u001b[0m │ True    │ \u001b[35m2019-12-02\u001b[0m │   \u001b[1;36m120\u001b[0m │\n",
       "│ \u001b[32mP6       \u001b[0m │ True    │ \u001b[35m2019-12-01\u001b[0m │   \u001b[1;36m190\u001b[0m │\n",
       "└───────────┴─────────┴────────────┴───────┘"
      ]
     },
     "execution_count": 10,
     "metadata": {},
     "output_type": "execute_result"
    }
   ],
   "source": [
    "sbp6 = MeasurementPhenotype(\n",
    "    name = 'sbp_mean_baseline',\n",
    "    codelist = sbp_codelist,\n",
    "    domain = 'MEASUREMENT',\n",
    "    relative_time_range = ONEYEAR_PREINDEX,\n",
    ")\n",
    "sbp6.execute(mapped_tables)"
   ]
  },
  {
   "cell_type": "markdown",
   "id": "1b1d988e-695a-4e84-a27e-4af9ee933957",
   "metadata": {},
   "source": [
    "### eg 7 : Return all recorded values (many rows per patient) within a value range\n",
    "**How can I see all measurements for systolic blood pressure recorded one year prior to index date less than 180 mmHg?**\n",
    "\n",
    "Setting ValueFilters works as expected with duplicate values; all values within the value threshold are returned, with multiple rows per patient"
   ]
  },
  {
   "cell_type": "code",
   "execution_count": 11,
   "id": "4024ef45-de75-4c6b-845c-016b3fc77288",
   "metadata": {},
   "outputs": [
    {
     "name": "stderr",
     "output_type": "stream",
     "text": [
      "2025-05-16 16:20:26,338 - phenex.phenotypes.phenotype - INFO - Phenotype 'sbp_mean_baseline': executing...\n",
      "2025-05-16 16:20:26,351 - phenex.phenotypes.measurement_phenotype - DEBUG - Applying null filtering for sbp_mean_baseline\n",
      "/Users/ahartens/.pyenv/versions/3.12.7/envs/phenex2/lib/python3.12/site-packages/ibis/expr/types/relations.py:685: FutureWarning: Selecting/filtering arbitrary expressions in `Table.__getitem__` is deprecated and will be removed in version 10.0. Please use `Table.select` or `Table.filter` instead.\n",
      "  warnings.warn(\n",
      "2025-05-16 16:20:26,367 - phenex.phenotypes.phenotype - INFO - Phenotype 'sbp_mean_baseline': execution completed.\n"
     ]
    },
    {
     "data": {
      "text/html": [
       "<pre style=\"white-space:pre;overflow-x:auto;line-height:normal;font-family:Menlo,'DejaVu Sans Mono',consolas,'Courier New',monospace\">┏━━━━━━━━━━━┳━━━━━━━━━┳━━━━━━━━━━━━┳━━━━━━━┓\n",
       "┃<span style=\"font-weight: bold\"> PERSON_ID </span>┃<span style=\"font-weight: bold\"> BOOLEAN </span>┃<span style=\"font-weight: bold\"> EVENT_DATE </span>┃<span style=\"font-weight: bold\"> VALUE </span>┃\n",
       "┡━━━━━━━━━━━╇━━━━━━━━━╇━━━━━━━━━━━━╇━━━━━━━┩\n",
       "│ <span style=\"color: #7f7f7f; text-decoration-color: #7f7f7f\">string</span>    │ <span style=\"color: #7f7f7f; text-decoration-color: #7f7f7f\">boolean</span> │ <span style=\"color: #7f7f7f; text-decoration-color: #7f7f7f\">date</span>       │ <span style=\"color: #7f7f7f; text-decoration-color: #7f7f7f\">int64</span> │\n",
       "├───────────┼─────────┼────────────┼───────┤\n",
       "│ <span style=\"color: #008000; text-decoration-color: #008000\">P5       </span> │ True    │ <span style=\"color: #800080; text-decoration-color: #800080\">2019-12-02</span> │   <span style=\"color: #008080; text-decoration-color: #008080; font-weight: bold\">115</span> │\n",
       "│ <span style=\"color: #008000; text-decoration-color: #008000\">P5       </span> │ True    │ <span style=\"color: #800080; text-decoration-color: #800080\">2019-12-02</span> │   <span style=\"color: #008080; text-decoration-color: #008080; font-weight: bold\">120</span> │\n",
       "│ <span style=\"color: #008000; text-decoration-color: #008000\">P6       </span> │ True    │ <span style=\"color: #800080; text-decoration-color: #800080\">2019-12-03</span> │   <span style=\"color: #008080; text-decoration-color: #008080; font-weight: bold\">115</span> │\n",
       "│ <span style=\"color: #008000; text-decoration-color: #008000\">P6       </span> │ True    │ <span style=\"color: #800080; text-decoration-color: #800080\">2019-12-02</span> │   <span style=\"color: #008080; text-decoration-color: #008080; font-weight: bold\">120</span> │\n",
       "└───────────┴─────────┴────────────┴───────┘\n",
       "</pre>\n"
      ],
      "text/plain": [
       "┏━━━━━━━━━━━┳━━━━━━━━━┳━━━━━━━━━━━━┳━━━━━━━┓\n",
       "┃\u001b[1m \u001b[0m\u001b[1mPERSON_ID\u001b[0m\u001b[1m \u001b[0m┃\u001b[1m \u001b[0m\u001b[1mBOOLEAN\u001b[0m\u001b[1m \u001b[0m┃\u001b[1m \u001b[0m\u001b[1mEVENT_DATE\u001b[0m\u001b[1m \u001b[0m┃\u001b[1m \u001b[0m\u001b[1mVALUE\u001b[0m\u001b[1m \u001b[0m┃\n",
       "┡━━━━━━━━━━━╇━━━━━━━━━╇━━━━━━━━━━━━╇━━━━━━━┩\n",
       "│ \u001b[2mstring\u001b[0m    │ \u001b[2mboolean\u001b[0m │ \u001b[2mdate\u001b[0m       │ \u001b[2mint64\u001b[0m │\n",
       "├───────────┼─────────┼────────────┼───────┤\n",
       "│ \u001b[32mP5       \u001b[0m │ True    │ \u001b[35m2019-12-02\u001b[0m │   \u001b[1;36m115\u001b[0m │\n",
       "│ \u001b[32mP5       \u001b[0m │ True    │ \u001b[35m2019-12-02\u001b[0m │   \u001b[1;36m120\u001b[0m │\n",
       "│ \u001b[32mP6       \u001b[0m │ True    │ \u001b[35m2019-12-03\u001b[0m │   \u001b[1;36m115\u001b[0m │\n",
       "│ \u001b[32mP6       \u001b[0m │ True    │ \u001b[35m2019-12-02\u001b[0m │   \u001b[1;36m120\u001b[0m │\n",
       "└───────────┴─────────┴────────────┴───────┘"
      ]
     },
     "execution_count": 11,
     "metadata": {},
     "output_type": "execute_result"
    }
   ],
   "source": [
    "sbp7 = MeasurementPhenotype(\n",
    "    name = 'sbp_mean_baseline',\n",
    "    codelist = sbp_codelist,\n",
    "    domain = 'MEASUREMENT',\n",
    "    relative_time_range = ONEYEAR_PREINDEX,\n",
    "    value_filter=ValueFilter(\n",
    "        max_value=LessThan(180)\n",
    "    )\n",
    ")\n",
    "sbp7.execute(mapped_tables)"
   ]
  },
  {
   "cell_type": "markdown",
   "id": "b70a7261-e4c7-462a-9eb2-964b9f179e22",
   "metadata": {},
   "source": [
    "\n",
    "### eg 8 : Whole time period value aggregation (single row per patient)\n",
    "**What is the patient mean systolic blood pressure in the baseline period?**"
   ]
  },
  {
   "cell_type": "code",
   "execution_count": 12,
   "id": "167fc8c1-d67e-4c1a-9d14-5d52c9b0e701",
   "metadata": {},
   "outputs": [
    {
     "name": "stderr",
     "output_type": "stream",
     "text": [
      "2025-05-16 16:20:27,636 - phenex.phenotypes.phenotype - INFO - Phenotype 'sbp_mean_baseline': executing...\n",
      "2025-05-16 16:20:27,671 - phenex.phenotypes.phenotype - INFO - Phenotype 'sbp_mean_baseline': execution completed.\n"
     ]
    },
    {
     "data": {
      "text/html": [
       "<pre style=\"white-space:pre;overflow-x:auto;line-height:normal;font-family:Menlo,'DejaVu Sans Mono',consolas,'Courier New',monospace\">┏━━━━━━━━━━━┳━━━━━━━━━┳━━━━━━━━━━━━┳━━━━━━━━━━━━┓\n",
       "┃<span style=\"font-weight: bold\"> PERSON_ID </span>┃<span style=\"font-weight: bold\"> BOOLEAN </span>┃<span style=\"font-weight: bold\"> EVENT_DATE </span>┃<span style=\"font-weight: bold\"> VALUE      </span>┃\n",
       "┡━━━━━━━━━━━╇━━━━━━━━━╇━━━━━━━━━━━━╇━━━━━━━━━━━━┩\n",
       "│ <span style=\"color: #7f7f7f; text-decoration-color: #7f7f7f\">string</span>    │ <span style=\"color: #7f7f7f; text-decoration-color: #7f7f7f\">boolean</span> │ <span style=\"color: #7f7f7f; text-decoration-color: #7f7f7f\">date</span>       │ <span style=\"color: #7f7f7f; text-decoration-color: #7f7f7f\">float64</span>    │\n",
       "├───────────┼─────────┼────────────┼────────────┤\n",
       "│ <span style=\"color: #008000; text-decoration-color: #008000\">P6       </span> │ True    │ <span style=\"color: #7f7f7f; text-decoration-color: #7f7f7f\">NULL</span>       │ <span style=\"color: #008080; text-decoration-color: #008080; font-weight: bold\">141.666667</span> │\n",
       "│ <span style=\"color: #008000; text-decoration-color: #008000\">P5       </span> │ True    │ <span style=\"color: #7f7f7f; text-decoration-color: #7f7f7f\">NULL</span>       │ <span style=\"color: #008080; text-decoration-color: #008080; font-weight: bold\">141.666667</span> │\n",
       "└───────────┴─────────┴────────────┴────────────┘\n",
       "</pre>\n"
      ],
      "text/plain": [
       "┏━━━━━━━━━━━┳━━━━━━━━━┳━━━━━━━━━━━━┳━━━━━━━━━━━━┓\n",
       "┃\u001b[1m \u001b[0m\u001b[1mPERSON_ID\u001b[0m\u001b[1m \u001b[0m┃\u001b[1m \u001b[0m\u001b[1mBOOLEAN\u001b[0m\u001b[1m \u001b[0m┃\u001b[1m \u001b[0m\u001b[1mEVENT_DATE\u001b[0m\u001b[1m \u001b[0m┃\u001b[1m \u001b[0m\u001b[1mVALUE\u001b[0m\u001b[1m     \u001b[0m\u001b[1m \u001b[0m┃\n",
       "┡━━━━━━━━━━━╇━━━━━━━━━╇━━━━━━━━━━━━╇━━━━━━━━━━━━┩\n",
       "│ \u001b[2mstring\u001b[0m    │ \u001b[2mboolean\u001b[0m │ \u001b[2mdate\u001b[0m       │ \u001b[2mfloat64\u001b[0m    │\n",
       "├───────────┼─────────┼────────────┼────────────┤\n",
       "│ \u001b[32mP6       \u001b[0m │ True    │ \u001b[2mNULL\u001b[0m       │ \u001b[1;36m141.666667\u001b[0m │\n",
       "│ \u001b[32mP5       \u001b[0m │ True    │ \u001b[2mNULL\u001b[0m       │ \u001b[1;36m141.666667\u001b[0m │\n",
       "└───────────┴─────────┴────────────┴────────────┘"
      ]
     },
     "execution_count": 12,
     "metadata": {},
     "output_type": "execute_result"
    }
   ],
   "source": [
    "sbp8 = MeasurementPhenotype(\n",
    "    name = 'sbp_mean_baseline',\n",
    "    codelist = sbp_codelist,\n",
    "    domain = 'MEASUREMENT',\n",
    "    relative_time_range = ONEYEAR_PREINDEX,\n",
    "    value_aggregation = Mean(),\n",
    ")\n",
    "sbp8.execute(mapped_tables)"
   ]
  },
  {
   "cell_type": "markdown",
   "id": "9c158f88-1e14-4bdd-9770-dc7bd97e81e8",
   "metadata": {},
   "source": [
    "Here we see that there is a single row per patient, as all values within the specified time period (one year pre-index) have been averaged.\n",
    "\n",
    "**notice** that value_aggregation occurs **prior** to value filtering! This is desired behavior, as if the mean over a time period is requested, it is nonsensical to remove values not within the threshold. See the clean_nonphysiologicals_value_filter below to set a threshold prior to value aggregation, if desired."
   ]
  },
  {
   "cell_type": "markdown",
   "id": "14d76338-a000-4b08-89ac-f7ddb8cbd148",
   "metadata": {},
   "source": [
    "\n",
    "### eg 9 : Daily value aggregation (many rows per patient)\n",
    "**What is the patient daily mean systolic blood pressure?**"
   ]
  },
  {
   "cell_type": "code",
   "execution_count": 13,
   "id": "db0a0582-0fc9-478f-9d2d-31a7bb82556c",
   "metadata": {},
   "outputs": [
    {
     "name": "stderr",
     "output_type": "stream",
     "text": [
      "2025-05-16 16:20:29,541 - phenex.phenotypes.phenotype - INFO - Phenotype 'sbp_daily_median_ge200': executing...\n",
      "2025-05-16 16:20:29,578 - phenex.phenotypes.phenotype - INFO - Phenotype 'sbp_daily_median_ge200': execution completed.\n"
     ]
    },
    {
     "data": {
      "text/html": [
       "<pre style=\"white-space:pre;overflow-x:auto;line-height:normal;font-family:Menlo,'DejaVu Sans Mono',consolas,'Courier New',monospace\">┏━━━━━━━━━━━┳━━━━━━━━━┳━━━━━━━━━━━━┳━━━━━━━━━━━━┓\n",
       "┃<span style=\"font-weight: bold\"> PERSON_ID </span>┃<span style=\"font-weight: bold\"> BOOLEAN </span>┃<span style=\"font-weight: bold\"> EVENT_DATE </span>┃<span style=\"font-weight: bold\"> VALUE      </span>┃\n",
       "┡━━━━━━━━━━━╇━━━━━━━━━╇━━━━━━━━━━━━╇━━━━━━━━━━━━┩\n",
       "│ <span style=\"color: #7f7f7f; text-decoration-color: #7f7f7f\">string</span>    │ <span style=\"color: #7f7f7f; text-decoration-color: #7f7f7f\">boolean</span> │ <span style=\"color: #7f7f7f; text-decoration-color: #7f7f7f\">date</span>       │ <span style=\"color: #7f7f7f; text-decoration-color: #7f7f7f\">float64</span>    │\n",
       "├───────────┼─────────┼────────────┼────────────┤\n",
       "│ <span style=\"color: #008000; text-decoration-color: #008000\">P6       </span> │ True    │ <span style=\"color: #7f7f7f; text-decoration-color: #7f7f7f\">NULL</span>       │ <span style=\"color: #008080; text-decoration-color: #008080; font-weight: bold\">115.000000</span> │\n",
       "│ <span style=\"color: #008000; text-decoration-color: #008000\">P6       </span> │ True    │ <span style=\"color: #7f7f7f; text-decoration-color: #7f7f7f\">NULL</span>       │ <span style=\"color: #008080; text-decoration-color: #008080; font-weight: bold\">120.000000</span> │\n",
       "│ <span style=\"color: #008000; text-decoration-color: #008000\">P6       </span> │ True    │ <span style=\"color: #7f7f7f; text-decoration-color: #7f7f7f\">NULL</span>       │ <span style=\"color: #008080; text-decoration-color: #008080; font-weight: bold\">190.000000</span> │\n",
       "│ <span style=\"color: #008000; text-decoration-color: #008000\">P5       </span> │ True    │ <span style=\"color: #7f7f7f; text-decoration-color: #7f7f7f\">NULL</span>       │ <span style=\"color: #008080; text-decoration-color: #008080; font-weight: bold\">141.666667</span> │\n",
       "└───────────┴─────────┴────────────┴────────────┘\n",
       "</pre>\n"
      ],
      "text/plain": [
       "┏━━━━━━━━━━━┳━━━━━━━━━┳━━━━━━━━━━━━┳━━━━━━━━━━━━┓\n",
       "┃\u001b[1m \u001b[0m\u001b[1mPERSON_ID\u001b[0m\u001b[1m \u001b[0m┃\u001b[1m \u001b[0m\u001b[1mBOOLEAN\u001b[0m\u001b[1m \u001b[0m┃\u001b[1m \u001b[0m\u001b[1mEVENT_DATE\u001b[0m\u001b[1m \u001b[0m┃\u001b[1m \u001b[0m\u001b[1mVALUE\u001b[0m\u001b[1m     \u001b[0m\u001b[1m \u001b[0m┃\n",
       "┡━━━━━━━━━━━╇━━━━━━━━━╇━━━━━━━━━━━━╇━━━━━━━━━━━━┩\n",
       "│ \u001b[2mstring\u001b[0m    │ \u001b[2mboolean\u001b[0m │ \u001b[2mdate\u001b[0m       │ \u001b[2mfloat64\u001b[0m    │\n",
       "├───────────┼─────────┼────────────┼────────────┤\n",
       "│ \u001b[32mP6       \u001b[0m │ True    │ \u001b[2mNULL\u001b[0m       │ \u001b[1;36m115.000000\u001b[0m │\n",
       "│ \u001b[32mP6       \u001b[0m │ True    │ \u001b[2mNULL\u001b[0m       │ \u001b[1;36m120.000000\u001b[0m │\n",
       "│ \u001b[32mP6       \u001b[0m │ True    │ \u001b[2mNULL\u001b[0m       │ \u001b[1;36m190.000000\u001b[0m │\n",
       "│ \u001b[32mP5       \u001b[0m │ True    │ \u001b[2mNULL\u001b[0m       │ \u001b[1;36m141.666667\u001b[0m │\n",
       "└───────────┴─────────┴────────────┴────────────┘"
      ]
     },
     "execution_count": 13,
     "metadata": {},
     "output_type": "execute_result"
    }
   ],
   "source": [
    "sbp9 = MeasurementPhenotype(\n",
    "    name = 'sbp_daily_median_ge200',\n",
    "    codelist = sbp_codelist,\n",
    "    domain = 'MEASUREMENT',\n",
    "    relative_time_range = ONEYEAR_PREINDEX,\n",
    "    value_aggregation = DailyMean(),\n",
    ")\n",
    "sbp9.execute(mapped_tables)"
   ]
  },
  {
   "cell_type": "markdown",
   "id": "967a1aeb-89d0-4ffa-8b01-861fa7f008e2",
   "metadata": {},
   "source": [
    "Here we see that P5 has a single row, as all measurements were performed on the same day. P6 has three values performed on three different days, so we see three rows for the three different days."
   ]
  },
  {
   "cell_type": "markdown",
   "id": "cdf9e1d0-2bf9-48d5-8214-0305d4c9f5fb",
   "metadata": {},
   "source": [
    "## Step 3 : Define return_date\n",
    "As seen in example 6, *MeasurementPhenotype* often returns multiple rows per patient, depending on any value aggregation is performed or not. If no aggregation or daily aggregation is performed, there are multiple rows per patient returned. Only if a time range aggregator is used (mean, median, max, min) is there a single row per patient.\n",
    "\n",
    "It is also common to want to see the value closest to our index date of interest. In order to do this, we use the return_date keyword argument. Options are 'first', 'last'  and 'all'(default)\n",
    "\n",
    "**Note :** if value_aggregation is set to mean, median, max or min (i.e. a time range aggregator), the concept of 'first' and 'last' are nonsensical and an error will be thrown! A mean over a period means no date exists any more. However, first and last can be used if daily aggregations are used (daily mean, median, max, min)"
   ]
  },
  {
   "cell_type": "markdown",
   "id": "6751f71d-2807-42b2-bc77-2966bb7bc030",
   "metadata": {},
   "source": [
    "\n",
    "### eg 10 : Return all values nearest prior to index (many rows per patient)\n",
    "**what is value of the systolic blood pressure recorded nearest to the index date?**"
   ]
  },
  {
   "cell_type": "code",
   "execution_count": 14,
   "id": "4d642ab9-cb72-4154-ab9f-062b7619d1e0",
   "metadata": {},
   "outputs": [
    {
     "name": "stderr",
     "output_type": "stream",
     "text": [
      "2025-05-16 16:20:32,221 - phenex.phenotypes.phenotype - INFO - Phenotype 'sbp_closest_to_index': executing...\n",
      "2025-05-16 16:20:32,264 - phenex.phenotypes.phenotype - INFO - Phenotype 'sbp_closest_to_index': execution completed.\n"
     ]
    },
    {
     "data": {
      "text/html": [
       "<pre style=\"white-space:pre;overflow-x:auto;line-height:normal;font-family:Menlo,'DejaVu Sans Mono',consolas,'Courier New',monospace\">┏━━━━━━━━━━━┳━━━━━━━━━┳━━━━━━━━━━━━┳━━━━━━━┓\n",
       "┃<span style=\"font-weight: bold\"> PERSON_ID </span>┃<span style=\"font-weight: bold\"> BOOLEAN </span>┃<span style=\"font-weight: bold\"> EVENT_DATE </span>┃<span style=\"font-weight: bold\"> VALUE </span>┃\n",
       "┡━━━━━━━━━━━╇━━━━━━━━━╇━━━━━━━━━━━━╇━━━━━━━┩\n",
       "│ <span style=\"color: #7f7f7f; text-decoration-color: #7f7f7f\">string</span>    │ <span style=\"color: #7f7f7f; text-decoration-color: #7f7f7f\">boolean</span> │ <span style=\"color: #7f7f7f; text-decoration-color: #7f7f7f\">date</span>       │ <span style=\"color: #7f7f7f; text-decoration-color: #7f7f7f\">int64</span> │\n",
       "├───────────┼─────────┼────────────┼───────┤\n",
       "│ <span style=\"color: #008000; text-decoration-color: #008000\">P5       </span> │ True    │ <span style=\"color: #800080; text-decoration-color: #800080\">2019-12-02</span> │   <span style=\"color: #008080; text-decoration-color: #008080; font-weight: bold\">115</span> │\n",
       "│ <span style=\"color: #008000; text-decoration-color: #008000\">P5       </span> │ True    │ <span style=\"color: #800080; text-decoration-color: #800080\">2019-12-02</span> │   <span style=\"color: #008080; text-decoration-color: #008080; font-weight: bold\">120</span> │\n",
       "│ <span style=\"color: #008000; text-decoration-color: #008000\">P5       </span> │ True    │ <span style=\"color: #800080; text-decoration-color: #800080\">2019-12-02</span> │   <span style=\"color: #008080; text-decoration-color: #008080; font-weight: bold\">190</span> │\n",
       "│ <span style=\"color: #008000; text-decoration-color: #008000\">P6       </span> │ True    │ <span style=\"color: #800080; text-decoration-color: #800080\">2019-12-03</span> │   <span style=\"color: #008080; text-decoration-color: #008080; font-weight: bold\">115</span> │\n",
       "└───────────┴─────────┴────────────┴───────┘\n",
       "</pre>\n"
      ],
      "text/plain": [
       "┏━━━━━━━━━━━┳━━━━━━━━━┳━━━━━━━━━━━━┳━━━━━━━┓\n",
       "┃\u001b[1m \u001b[0m\u001b[1mPERSON_ID\u001b[0m\u001b[1m \u001b[0m┃\u001b[1m \u001b[0m\u001b[1mBOOLEAN\u001b[0m\u001b[1m \u001b[0m┃\u001b[1m \u001b[0m\u001b[1mEVENT_DATE\u001b[0m\u001b[1m \u001b[0m┃\u001b[1m \u001b[0m\u001b[1mVALUE\u001b[0m\u001b[1m \u001b[0m┃\n",
       "┡━━━━━━━━━━━╇━━━━━━━━━╇━━━━━━━━━━━━╇━━━━━━━┩\n",
       "│ \u001b[2mstring\u001b[0m    │ \u001b[2mboolean\u001b[0m │ \u001b[2mdate\u001b[0m       │ \u001b[2mint64\u001b[0m │\n",
       "├───────────┼─────────┼────────────┼───────┤\n",
       "│ \u001b[32mP5       \u001b[0m │ True    │ \u001b[35m2019-12-02\u001b[0m │   \u001b[1;36m115\u001b[0m │\n",
       "│ \u001b[32mP5       \u001b[0m │ True    │ \u001b[35m2019-12-02\u001b[0m │   \u001b[1;36m120\u001b[0m │\n",
       "│ \u001b[32mP5       \u001b[0m │ True    │ \u001b[35m2019-12-02\u001b[0m │   \u001b[1;36m190\u001b[0m │\n",
       "│ \u001b[32mP6       \u001b[0m │ True    │ \u001b[35m2019-12-03\u001b[0m │   \u001b[1;36m115\u001b[0m │\n",
       "└───────────┴─────────┴────────────┴───────┘"
      ]
     },
     "execution_count": 14,
     "metadata": {},
     "output_type": "execute_result"
    }
   ],
   "source": [
    "sbp10 = MeasurementPhenotype(\n",
    "    name = 'sbp_closest_to_index',\n",
    "    codelist = sbp_codelist,\n",
    "    domain = 'MEASUREMENT',\n",
    "    relative_time_range = ONEYEAR_PREINDEX,\n",
    "    return_date = 'last' # this will return value nearest to the index date (last if prior to index, first if post index)\n",
    ")\n",
    "sbp10.execute(mapped_tables)"
   ]
  },
  {
   "cell_type": "markdown",
   "id": "68d16051-8f68-470d-b4aa-7911215e2212",
   "metadata": {},
   "source": [
    "Here we see that P5 still has multiple rows, as three measurements were performed on the date closest to index"
   ]
  },
  {
   "cell_type": "markdown",
   "id": "e7a0f251-ceb3-423a-8d5f-23844b17a3d5",
   "metadata": {},
   "source": [
    "### eg 11 : Return daily aggregation nearest prior to index (single row per patient)\n",
    "**what is mean value of the systolic blood pressure recorded in the one year pre index period?**"
   ]
  },
  {
   "cell_type": "code",
   "execution_count": 15,
   "id": "2e17e70c-6a05-4510-aba7-41ee22e57c15",
   "metadata": {},
   "outputs": [
    {
     "name": "stderr",
     "output_type": "stream",
     "text": [
      "2025-05-16 16:20:34,327 - phenex.phenotypes.phenotype - INFO - Phenotype 'sbp_closest_to_index': executing...\n",
      "2025-05-16 16:20:34,368 - phenex.phenotypes.phenotype - INFO - Phenotype 'sbp_closest_to_index': execution completed.\n"
     ]
    },
    {
     "data": {
      "text/html": [
       "<pre style=\"white-space:pre;overflow-x:auto;line-height:normal;font-family:Menlo,'DejaVu Sans Mono',consolas,'Courier New',monospace\">┏━━━━━━━━━━━┳━━━━━━━━━┳━━━━━━━━━━━━┳━━━━━━━━━━━━┓\n",
       "┃<span style=\"font-weight: bold\"> PERSON_ID </span>┃<span style=\"font-weight: bold\"> BOOLEAN </span>┃<span style=\"font-weight: bold\"> EVENT_DATE </span>┃<span style=\"font-weight: bold\"> VALUE      </span>┃\n",
       "┡━━━━━━━━━━━╇━━━━━━━━━╇━━━━━━━━━━━━╇━━━━━━━━━━━━┩\n",
       "│ <span style=\"color: #7f7f7f; text-decoration-color: #7f7f7f\">string</span>    │ <span style=\"color: #7f7f7f; text-decoration-color: #7f7f7f\">boolean</span> │ <span style=\"color: #7f7f7f; text-decoration-color: #7f7f7f\">date</span>       │ <span style=\"color: #7f7f7f; text-decoration-color: #7f7f7f\">float64</span>    │\n",
       "├───────────┼─────────┼────────────┼────────────┤\n",
       "│ <span style=\"color: #008000; text-decoration-color: #008000\">P5       </span> │ True    │ <span style=\"color: #7f7f7f; text-decoration-color: #7f7f7f\">NULL</span>       │ <span style=\"color: #008080; text-decoration-color: #008080; font-weight: bold\">141.666667</span> │\n",
       "│ <span style=\"color: #008000; text-decoration-color: #008000\">P6       </span> │ True    │ <span style=\"color: #7f7f7f; text-decoration-color: #7f7f7f\">NULL</span>       │ <span style=\"color: #008080; text-decoration-color: #008080; font-weight: bold\">115.000000</span> │\n",
       "└───────────┴─────────┴────────────┴────────────┘\n",
       "</pre>\n"
      ],
      "text/plain": [
       "┏━━━━━━━━━━━┳━━━━━━━━━┳━━━━━━━━━━━━┳━━━━━━━━━━━━┓\n",
       "┃\u001b[1m \u001b[0m\u001b[1mPERSON_ID\u001b[0m\u001b[1m \u001b[0m┃\u001b[1m \u001b[0m\u001b[1mBOOLEAN\u001b[0m\u001b[1m \u001b[0m┃\u001b[1m \u001b[0m\u001b[1mEVENT_DATE\u001b[0m\u001b[1m \u001b[0m┃\u001b[1m \u001b[0m\u001b[1mVALUE\u001b[0m\u001b[1m     \u001b[0m\u001b[1m \u001b[0m┃\n",
       "┡━━━━━━━━━━━╇━━━━━━━━━╇━━━━━━━━━━━━╇━━━━━━━━━━━━┩\n",
       "│ \u001b[2mstring\u001b[0m    │ \u001b[2mboolean\u001b[0m │ \u001b[2mdate\u001b[0m       │ \u001b[2mfloat64\u001b[0m    │\n",
       "├───────────┼─────────┼────────────┼────────────┤\n",
       "│ \u001b[32mP5       \u001b[0m │ True    │ \u001b[2mNULL\u001b[0m       │ \u001b[1;36m141.666667\u001b[0m │\n",
       "│ \u001b[32mP6       \u001b[0m │ True    │ \u001b[2mNULL\u001b[0m       │ \u001b[1;36m115.000000\u001b[0m │\n",
       "└───────────┴─────────┴────────────┴────────────┘"
      ]
     },
     "execution_count": 15,
     "metadata": {},
     "output_type": "execute_result"
    }
   ],
   "source": [
    "sbp11 = MeasurementPhenotype(\n",
    "    name = 'sbp_closest_to_index',\n",
    "    codelist = sbp_codelist,\n",
    "    domain = 'MEASUREMENT',\n",
    "    relative_time_range = ONEYEAR_PREINDEX,\n",
    "    value_aggregation = DailyMean(),\n",
    "    return_date = 'last'\n",
    ")\n",
    "sbp11.execute(mapped_tables)"
   ]
  },
  {
   "cell_type": "markdown",
   "id": "83ed14d9-c85b-4219-9302-1482b1d22315",
   "metadata": {},
   "source": [
    "Using a daily aggregator and setting return_date to 'first' or 'last', we have a single measurement for each patient closest to the index date"
   ]
  },
  {
   "cell_type": "markdown",
   "id": "4fad1773-c952-45ef-b241-2f8693cf89a4",
   "metadata": {},
   "source": [
    "## Step 4: Define cleaning value filters\n",
    "RWD sources are often quite messy; measurement values are often manually entered and thus we see typos and obviously faulty data in our measurement tables. MeasurementPhenotype allows us to ignore obviously faulty data using the clean_nonphysiologicals_value_filter. This filter works prior to value_aggregation, so that obviously erroneous data does not enter our value aggregation and final results. First define what physiological thresholds look like. Take care when defining these physiological thresholds as RWD sources, while messy, are also very large; rare physiological outliers are therefore 'common'."
   ]
  },
  {
   "cell_type": "markdown",
   "id": "39ce6b20-4aa2-48db-adf1-8310605f93d9",
   "metadata": {},
   "source": [
    "### eg 12 : clean nonphysiological values\n",
    "**I see measurements > 300mmHg in my dataset, which are obviously due to error. Which patients have a systolic blood pressure measurements greater than 200 mmHg, having removed SBP measurements >300mmHg?**"
   ]
  },
  {
   "cell_type": "code",
   "execution_count": 16,
   "id": "fe39c67f-e304-4ccd-966b-425fe1f82865",
   "metadata": {},
   "outputs": [],
   "source": [
    "\n",
    "sbp12 = MeasurementPhenotype(\n",
    "    name = 'sbp_remove_nonphysiological',\n",
    "    codelist = sbp_codelist,\n",
    "    domain = 'MEASUREMENT',\n",
    "    relative_time_range = ONEYEAR_PREINDEX,\n",
    "    clean_nonphysiologicals_value_filter = ValueFilter(\n",
    "        min_value = GreaterThanOrEqualTo(300),\n",
    "    ),\n",
    "    value_filter = ValueFilter(\n",
    "        min_value = GreaterThanOrEqualTo(200),\n",
    "        column_name = \"VALUE\"\n",
    "    )\n",
    ")"
   ]
  },
  {
   "cell_type": "markdown",
   "id": "744c85a6-5187-4058-8bfd-de6c5b792214",
   "metadata": {},
   "source": [
    "## Cheat Sheet\n",
    "1. Are all raw measurment values within a physiological range? Are there 'nonsense' values that are due to measurement error? **yes = set clean_nonphysiologicals_value_filter**\n",
    "2. Do I want to want to aggregate raw values, for example perform the daily median operation, or the mean of all values in the time_period? **yes = set value_aggregation** \n",
    "3. Do I want to set value thresholds or allowed ranges? **yes = set value_filter**\n",
    "4. Do I want to return a value occurring on a specific day (first, last) or all values? **yes = set return_date**\n"
   ]
  }
 ],
 "metadata": {
  "kernelspec": {
   "display_name": "Python 3 (ipykernel)",
   "language": "python",
   "name": "python3"
  },
  "language_info": {
   "codemirror_mode": {
    "name": "ipython",
    "version": 3
   },
   "file_extension": ".py",
   "mimetype": "text/x-python",
   "name": "python",
   "nbconvert_exporter": "python",
   "pygments_lexer": "ipython3",
   "version": "3.12.7"
  }
 },
 "nbformat": 4,
 "nbformat_minor": 5
}
