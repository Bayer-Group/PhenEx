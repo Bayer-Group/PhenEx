{
 "cells": [
  {
   "cell_type": "markdown",
   "id": "ce4eeb71-b2ff-4803-b9c1-8e0e35998feb",
   "metadata": {},
   "source": [
    "# LogicPhenotype Tutorial\n",
    "\n",
    "The LogicPhenotype allows us to combine phenotypes with logical operations AND, OR and NOT\n",
    "\n",
    "There are obvious use cases for this in RWD :\n",
    "1. We want to combine information from multiple domains, for example \"procedures\" and \"diagnoses\". An example is : Which patients have a diagnosis for heart transplant OR a procedure for heart transplant?\n",
    "2. We want to calculate complicated logical definitions : It is common to generate algorithms to correctly classify patients has having a condition. This means we want patients to fulfill some lab value criteria, diagnosis criteria and so on. We can create arbitraily complex definitions using Complex Phenotype\n",
    "\n"
   ]
  },
  {
   "cell_type": "markdown",
   "id": "f24b9966-9f11-4f00-ab68-bcdfae180f98",
   "metadata": {},
   "source": [
    "## Combining information from multiple domains\n",
    "We often want to ask 'which patients have a diagnosis of condition_x OR a procedure treating condition_x'. Diagnoses and procedures are often found in separate domains, the condition_occurrence and procedure_occurence table\n",
    "\n",
    "LogicPhenotype allows us to combine information from multiple domains\n",
    "\n",
    "### Step 1 : Create component phenotypes"
   ]
  },
  {
   "cell_type": "code",
   "execution_count": null,
   "id": "6761f436-d192-43c0-a1d8-3d214524f98a",
   "metadata": {},
   "outputs": [],
   "source": [
    "ht_procedure_codes = Codelist(\"heart_transplant\")\n",
    "ht_diagnosis_codes = Codelist(\"heart_transplant\")\n",
    "\n",
    "\n",
    "ht_procedures = CodelistPhenotype(\n",
    "    name_phenotype=\"ht_procedures\",\n",
    "    codelist=ht_procedure_codes,\n",
    "    domain=\"procedure_occurrence\",\n",
    "    time_range_filter=ONEYEAR_PREINDEX,\n",
    ")\n",
    "\n",
    "ht_diagnoses = CodelistPhenotype(\n",
    "    name_phenotype=\"ht_diagnoses\",\n",
    "    codelist= ht_diagnosis_codes,\n",
    "    domain=\"condition_occurrence\",\n",
    "    time_range_filter=ONEYEAR_PREINDEX,\n",
    ")\n"
   ]
  },
  {
   "cell_type": "markdown",
   "id": "1e156f2b-a4ff-486d-b3cb-9fa7a7d1788c",
   "metadata": {},
   "source": [
    "### Step 2 : Create LogicPhenotype\n",
    "We are now ready to create our LogicPhenotype using our component phenotypes. Here we can use the logical operations and, or (&,|). \n",
    "\n",
    "Here we will show two logic phenotypes, one using OR and one using AND.\n",
    "\n"
   ]
  },
  {
   "cell_type": "code",
   "execution_count": null,
   "id": "1d9df98c-2556-48eb-ae4e-6379815fe4bc",
   "metadata": {},
   "outputs": [],
   "source": [
    "\n",
    "# use logical OR\n",
    "ht_or = LogicPhenotype(\n",
    "    name_phenotype=\"ht_procedure_OR_diagnosis\", \n",
    "    logic = ht_procedures | ht_diagnoses\n",
    ")\n",
    "\n",
    "# use logical AND\n",
    "ht_and = LogicPhenotype(\n",
    "    name_phenotype=\"ht_procedure_AND_diagnosis\", \n",
    "    logic = ht_procedures & ht_diagnoses\n",
    ")"
   ]
  },
  {
   "cell_type": "markdown",
   "id": "1365771d-637c-4b26-99c5-30bdd51436a6",
   "metadata": {},
   "source": [
    "## Complicated logical phenotypes\n",
    "We can add arbitraily complex logic to our operations. Lets add two more component phenotypes, death and an 'end of coverage' phenotype. We will use these to create a censoring event phenotype, which is ht"
   ]
  },
  {
   "cell_type": "code",
   "execution_count": null,
   "id": "94ba769a-2127-45bb-8009-790a35f3a5d4",
   "metadata": {},
   "outputs": [],
   "source": [
    "# create two new component phenotypes\n",
    "death = DeathPhenotype()\n",
    "late_date_active = ContinuousCoveragePhenotype(return_date=\"last\")\n",
    "\n",
    "# create a logic phenotype combining all components\n",
    "censoring_event = LogicPhenotype(\n",
    "    name_phenotype=\"any_censoring\",\n",
    "    logic= ht_or | death | late_date_active,\n",
    "    return_date=\"first\",\n",
    ")\n"
   ]
  }
 ],
 "metadata": {
  "kernelspec": {
   "display_name": "Python 3 (ipykernel)",
   "language": "python",
   "name": "python3"
  },
  "language_info": {
   "codemirror_mode": {
    "name": "ipython",
    "version": 3
   },
   "file_extension": ".py",
   "mimetype": "text/x-python",
   "name": "python",
   "nbconvert_exporter": "python",
   "pygments_lexer": "ipython3",
   "version": "3.9.19"
  }
 },
 "nbformat": 4,
 "nbformat_minor": 5
}
