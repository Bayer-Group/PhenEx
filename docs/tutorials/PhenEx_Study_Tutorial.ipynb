{
 "cells": [
  {
   "cell_type": "markdown",
   "id": "0078d266-ba5a-4d61-8a85-ac8009b83e8d",
   "metadata": {},
   "source": [
    "# PhenEx Study Tutorial\n",
    "In this page we will show you how to use PhenEx to :\n",
    "1. Connect to a Snowflake Database\n",
    "2. Work with OMOP data\n",
    "3. Create a simple cohort\n",
    "4. View cohort summary statistics\n",
    "\n",
    "First make sure that your PhenEx version is up to date"
   ]
  },
  {
   "cell_type": "code",
   "execution_count": 1,
   "id": "e5131ab7-1d0d-420e-bf05-93645deca698",
   "metadata": {
    "scrolled": true
   },
   "outputs": [
    {
     "name": "stdout",
     "output_type": "stream",
     "text": [
      "Obtaining file:///Users/ahartens/src/PhenEx\n",
      "  Preparing metadata (setup.py) ... \u001b[?25ldone\n",
      "\u001b[?25hRequirement already satisfied: ibis-framework==9.5.0 in /Users/ahartens/.pyenv/versions/3.12.7/envs/phenex2/lib/python3.12/site-packages (from ibis-framework[duckdb,examples,snowflake]==9.5.0->phenex==0.7.0) (9.5.0)\n",
      "Requirement already satisfied: black==24.10.0 in /Users/ahartens/.pyenv/versions/3.12.7/envs/phenex2/lib/python3.12/site-packages (from phenex==0.7.0) (24.10.0)\n",
      "Requirement already satisfied: python-dotenv in /Users/ahartens/.pyenv/versions/3.12.7/envs/phenex2/lib/python3.12/site-packages (from phenex==0.7.0) (1.0.1)\n",
      "Requirement already satisfied: pytest in /Users/ahartens/.pyenv/versions/3.12.7/envs/phenex2/lib/python3.12/site-packages (from phenex==0.7.0) (8.3.3)\n",
      "Requirement already satisfied: snowflake-connector-python in /Users/ahartens/.pyenv/versions/3.12.7/envs/phenex2/lib/python3.12/site-packages (from phenex==0.7.0) (3.15.0)\n",
      "Requirement already satisfied: mkdocs in /Users/ahartens/.pyenv/versions/3.12.7/envs/phenex2/lib/python3.12/site-packages (from phenex==0.7.0) (1.6.1)\n",
      "Requirement already satisfied: mkdocs-material in /Users/ahartens/.pyenv/versions/3.12.7/envs/phenex2/lib/python3.12/site-packages (from phenex==0.7.0) (9.5.45)\n",
      "Requirement already satisfied: mkdocstrings[python] in /Users/ahartens/.pyenv/versions/3.12.7/envs/phenex2/lib/python3.12/site-packages (from phenex==0.7.0) (0.27.0)\n",
      "Requirement already satisfied: mkdocs-jupyter in /Users/ahartens/.pyenv/versions/3.12.7/envs/phenex2/lib/python3.12/site-packages (from phenex==0.7.0) (0.25.1)\n",
      "Requirement already satisfied: setuptools in /Users/ahartens/.pyenv/versions/3.12.7/envs/phenex2/lib/python3.12/site-packages (from phenex==0.7.0) (75.6.0)\n",
      "Requirement already satisfied: openpyxl in /Users/ahartens/.pyenv/versions/3.12.7/envs/phenex2/lib/python3.12/site-packages (from phenex==0.7.0) (3.1.5)\n",
      "Requirement already satisfied: deepdiff in /Users/ahartens/.pyenv/versions/3.12.7/envs/phenex2/lib/python3.12/site-packages (from phenex==0.7.0) (8.2.0)\n",
      "Requirement already satisfied: lifelines==0.30.0 in /Users/ahartens/.pyenv/versions/3.12.7/envs/phenex2/lib/python3.12/site-packages (from phenex==0.7.0) (0.30.0)\n",
      "Requirement already satisfied: matplotlib==3.10.1 in /Users/ahartens/.pyenv/versions/3.12.7/envs/phenex2/lib/python3.12/site-packages (from phenex==0.7.0) (3.10.1)\n",
      "Requirement already satisfied: click>=8.0.0 in /Users/ahartens/.pyenv/versions/3.12.7/envs/phenex2/lib/python3.12/site-packages (from black==24.10.0->phenex==0.7.0) (8.1.7)\n",
      "Requirement already satisfied: mypy-extensions>=0.4.3 in /Users/ahartens/.pyenv/versions/3.12.7/envs/phenex2/lib/python3.12/site-packages (from black==24.10.0->phenex==0.7.0) (1.0.0)\n",
      "Requirement already satisfied: packaging>=22.0 in /Users/ahartens/.pyenv/versions/3.12.7/envs/phenex2/lib/python3.12/site-packages (from black==24.10.0->phenex==0.7.0) (24.2)\n",
      "Requirement already satisfied: pathspec>=0.9.0 in /Users/ahartens/.pyenv/versions/3.12.7/envs/phenex2/lib/python3.12/site-packages (from black==24.10.0->phenex==0.7.0) (0.12.1)\n",
      "Requirement already satisfied: platformdirs>=2 in /Users/ahartens/.pyenv/versions/3.12.7/envs/phenex2/lib/python3.12/site-packages (from black==24.10.0->phenex==0.7.0) (4.3.6)\n",
      "Requirement already satisfied: atpublic<6,>=2.3 in /Users/ahartens/.pyenv/versions/3.12.7/envs/phenex2/lib/python3.12/site-packages (from ibis-framework==9.5.0->ibis-framework[duckdb,examples,snowflake]==9.5.0->phenex==0.7.0) (5.0)\n",
      "Requirement already satisfied: parsy<3,>=2 in /Users/ahartens/.pyenv/versions/3.12.7/envs/phenex2/lib/python3.12/site-packages (from ibis-framework==9.5.0->ibis-framework[duckdb,examples,snowflake]==9.5.0->phenex==0.7.0) (2.1)\n",
      "Requirement already satisfied: python-dateutil<3,>=2.8.2 in /Users/ahartens/.pyenv/versions/3.12.7/envs/phenex2/lib/python3.12/site-packages (from ibis-framework==9.5.0->ibis-framework[duckdb,examples,snowflake]==9.5.0->phenex==0.7.0) (2.9.0.post0)\n",
      "Requirement already satisfied: pytz>=2022.7 in /Users/ahartens/.pyenv/versions/3.12.7/envs/phenex2/lib/python3.12/site-packages (from ibis-framework==9.5.0->ibis-framework[duckdb,examples,snowflake]==9.5.0->phenex==0.7.0) (2024.2)\n",
      "Requirement already satisfied: sqlglot<25.21,>=23.4 in /Users/ahartens/.pyenv/versions/3.12.7/envs/phenex2/lib/python3.12/site-packages (from ibis-framework==9.5.0->ibis-framework[duckdb,examples,snowflake]==9.5.0->phenex==0.7.0) (25.20.2)\n",
      "Requirement already satisfied: toolz<1,>=0.11 in /Users/ahartens/.pyenv/versions/3.12.7/envs/phenex2/lib/python3.12/site-packages (from ibis-framework==9.5.0->ibis-framework[duckdb,examples,snowflake]==9.5.0->phenex==0.7.0) (0.12.1)\n",
      "Requirement already satisfied: typing-extensions<5,>=4.3.0 in /Users/ahartens/.pyenv/versions/3.12.7/envs/phenex2/lib/python3.12/site-packages (from ibis-framework==9.5.0->ibis-framework[duckdb,examples,snowflake]==9.5.0->phenex==0.7.0) (4.12.2)\n",
      "Requirement already satisfied: duckdb<1.2,>=0.8.1 in /Users/ahartens/.pyenv/versions/3.12.7/envs/phenex2/lib/python3.12/site-packages (from ibis-framework[duckdb,examples,snowflake]==9.5.0->phenex==0.7.0) (1.1.3)\n",
      "Requirement already satisfied: numpy<3,>=1.23.2 in /Users/ahartens/.pyenv/versions/3.12.7/envs/phenex2/lib/python3.12/site-packages (from ibis-framework[duckdb,examples,snowflake]==9.5.0->phenex==0.7.0) (2.1.3)\n",
      "Requirement already satisfied: pandas<3,>=1.5.3 in /Users/ahartens/.pyenv/versions/3.12.7/envs/phenex2/lib/python3.12/site-packages (from ibis-framework[duckdb,examples,snowflake]==9.5.0->phenex==0.7.0) (2.2.3)\n",
      "Requirement already satisfied: pins<1,>=0.8.3 in /Users/ahartens/.pyenv/versions/3.12.7/envs/phenex2/lib/python3.12/site-packages (from pins[gcs]<1,>=0.8.3; extra == \"examples\"->ibis-framework[duckdb,examples,snowflake]==9.5.0->phenex==0.7.0) (0.8.6)\n",
      "Requirement already satisfied: pyarrow<18,>=10.0.1 in /Users/ahartens/.pyenv/versions/3.12.7/envs/phenex2/lib/python3.12/site-packages (from ibis-framework[duckdb,examples,snowflake]==9.5.0->phenex==0.7.0) (17.0.0)\n",
      "Requirement already satisfied: pyarrow-hotfix<1,>=0.4 in /Users/ahartens/.pyenv/versions/3.12.7/envs/phenex2/lib/python3.12/site-packages (from ibis-framework[duckdb,examples,snowflake]==9.5.0->phenex==0.7.0) (0.6)\n",
      "Requirement already satisfied: rich<14,>=12.4.4 in /Users/ahartens/.pyenv/versions/3.12.7/envs/phenex2/lib/python3.12/site-packages (from ibis-framework[duckdb,examples,snowflake]==9.5.0->phenex==0.7.0) (13.9.4)\n",
      "Requirement already satisfied: scipy>=1.7.0 in /Users/ahartens/.pyenv/versions/3.12.7/envs/phenex2/lib/python3.12/site-packages (from lifelines==0.30.0->phenex==0.7.0) (1.15.3)\n",
      "Requirement already satisfied: autograd>=1.5 in /Users/ahartens/.pyenv/versions/3.12.7/envs/phenex2/lib/python3.12/site-packages (from lifelines==0.30.0->phenex==0.7.0) (1.8.0)\n",
      "Requirement already satisfied: autograd-gamma>=0.3 in /Users/ahartens/.pyenv/versions/3.12.7/envs/phenex2/lib/python3.12/site-packages (from lifelines==0.30.0->phenex==0.7.0) (0.5.0)\n",
      "Requirement already satisfied: formulaic>=0.2.2 in /Users/ahartens/.pyenv/versions/3.12.7/envs/phenex2/lib/python3.12/site-packages (from lifelines==0.30.0->phenex==0.7.0) (1.1.1)\n",
      "Requirement already satisfied: contourpy>=1.0.1 in /Users/ahartens/.pyenv/versions/3.12.7/envs/phenex2/lib/python3.12/site-packages (from matplotlib==3.10.1->phenex==0.7.0) (1.3.1)\n",
      "Requirement already satisfied: cycler>=0.10 in /Users/ahartens/.pyenv/versions/3.12.7/envs/phenex2/lib/python3.12/site-packages (from matplotlib==3.10.1->phenex==0.7.0) (0.12.1)\n",
      "Requirement already satisfied: fonttools>=4.22.0 in /Users/ahartens/.pyenv/versions/3.12.7/envs/phenex2/lib/python3.12/site-packages (from matplotlib==3.10.1->phenex==0.7.0) (4.56.0)\n",
      "Requirement already satisfied: kiwisolver>=1.3.1 in /Users/ahartens/.pyenv/versions/3.12.7/envs/phenex2/lib/python3.12/site-packages (from matplotlib==3.10.1->phenex==0.7.0) (1.4.8)\n",
      "Requirement already satisfied: pillow>=8 in /Users/ahartens/.pyenv/versions/3.12.7/envs/phenex2/lib/python3.12/site-packages (from matplotlib==3.10.1->phenex==0.7.0) (11.1.0)\n",
      "Requirement already satisfied: pyparsing>=2.3.1 in /Users/ahartens/.pyenv/versions/3.12.7/envs/phenex2/lib/python3.12/site-packages (from matplotlib==3.10.1->phenex==0.7.0) (3.2.3)\n",
      "Requirement already satisfied: asn1crypto<2.0.0,>0.24.0 in /Users/ahartens/.pyenv/versions/3.12.7/envs/phenex2/lib/python3.12/site-packages (from snowflake-connector-python->phenex==0.7.0) (1.5.1)\n",
      "Requirement already satisfied: boto3>=1.24 in /Users/ahartens/.pyenv/versions/3.12.7/envs/phenex2/lib/python3.12/site-packages (from snowflake-connector-python->phenex==0.7.0) (1.38.18)\n",
      "Requirement already satisfied: botocore>=1.24 in /Users/ahartens/.pyenv/versions/3.12.7/envs/phenex2/lib/python3.12/site-packages (from snowflake-connector-python->phenex==0.7.0) (1.38.18)\n",
      "Requirement already satisfied: cffi<2.0.0,>=1.9 in /Users/ahartens/.pyenv/versions/3.12.7/envs/phenex2/lib/python3.12/site-packages (from snowflake-connector-python->phenex==0.7.0) (1.17.1)\n",
      "Requirement already satisfied: cryptography>=3.1.0 in /Users/ahartens/.pyenv/versions/3.12.7/envs/phenex2/lib/python3.12/site-packages (from snowflake-connector-python->phenex==0.7.0) (43.0.3)\n",
      "Requirement already satisfied: pyOpenSSL<26.0.0,>=22.0.0 in /Users/ahartens/.pyenv/versions/3.12.7/envs/phenex2/lib/python3.12/site-packages (from snowflake-connector-python->phenex==0.7.0) (24.2.1)\n",
      "Requirement already satisfied: pyjwt<3.0.0 in /Users/ahartens/.pyenv/versions/3.12.7/envs/phenex2/lib/python3.12/site-packages (from snowflake-connector-python->phenex==0.7.0) (2.10.0)\n",
      "Requirement already satisfied: requests<3.0.0 in /Users/ahartens/.pyenv/versions/3.12.7/envs/phenex2/lib/python3.12/site-packages (from snowflake-connector-python->phenex==0.7.0) (2.32.3)\n",
      "Requirement already satisfied: charset_normalizer<4,>=2 in /Users/ahartens/.pyenv/versions/3.12.7/envs/phenex2/lib/python3.12/site-packages (from snowflake-connector-python->phenex==0.7.0) (3.4.0)\n",
      "Requirement already satisfied: idna<4,>=2.5 in /Users/ahartens/.pyenv/versions/3.12.7/envs/phenex2/lib/python3.12/site-packages (from snowflake-connector-python->phenex==0.7.0) (3.10)\n",
      "Requirement already satisfied: certifi>=2017.4.17 in /Users/ahartens/.pyenv/versions/3.12.7/envs/phenex2/lib/python3.12/site-packages (from snowflake-connector-python->phenex==0.7.0) (2024.8.30)\n",
      "Requirement already satisfied: filelock<4,>=3.5 in /Users/ahartens/.pyenv/versions/3.12.7/envs/phenex2/lib/python3.12/site-packages (from snowflake-connector-python->phenex==0.7.0) (3.16.1)\n",
      "Requirement already satisfied: sortedcontainers>=2.4.0 in /Users/ahartens/.pyenv/versions/3.12.7/envs/phenex2/lib/python3.12/site-packages (from snowflake-connector-python->phenex==0.7.0) (2.4.0)\n",
      "Requirement already satisfied: tomlkit in /Users/ahartens/.pyenv/versions/3.12.7/envs/phenex2/lib/python3.12/site-packages (from snowflake-connector-python->phenex==0.7.0) (0.13.2)\n",
      "Requirement already satisfied: orderly-set<6,>=5.3.0 in /Users/ahartens/.pyenv/versions/3.12.7/envs/phenex2/lib/python3.12/site-packages (from deepdiff->phenex==0.7.0) (5.3.0)\n",
      "Requirement already satisfied: ghp-import>=1.0 in /Users/ahartens/.pyenv/versions/3.12.7/envs/phenex2/lib/python3.12/site-packages (from mkdocs->phenex==0.7.0) (2.1.0)\n",
      "Requirement already satisfied: jinja2>=2.11.1 in /Users/ahartens/.pyenv/versions/3.12.7/envs/phenex2/lib/python3.12/site-packages (from mkdocs->phenex==0.7.0) (3.1.4)\n",
      "Requirement already satisfied: markdown>=3.3.6 in /Users/ahartens/.pyenv/versions/3.12.7/envs/phenex2/lib/python3.12/site-packages (from mkdocs->phenex==0.7.0) (3.7)\n",
      "Requirement already satisfied: markupsafe>=2.0.1 in /Users/ahartens/.pyenv/versions/3.12.7/envs/phenex2/lib/python3.12/site-packages (from mkdocs->phenex==0.7.0) (3.0.2)\n",
      "Requirement already satisfied: mergedeep>=1.3.4 in /Users/ahartens/.pyenv/versions/3.12.7/envs/phenex2/lib/python3.12/site-packages (from mkdocs->phenex==0.7.0) (1.3.4)\n",
      "Requirement already satisfied: mkdocs-get-deps>=0.2.0 in /Users/ahartens/.pyenv/versions/3.12.7/envs/phenex2/lib/python3.12/site-packages (from mkdocs->phenex==0.7.0) (0.2.0)\n",
      "Requirement already satisfied: pyyaml-env-tag>=0.1 in /Users/ahartens/.pyenv/versions/3.12.7/envs/phenex2/lib/python3.12/site-packages (from mkdocs->phenex==0.7.0) (0.1)\n",
      "Requirement already satisfied: pyyaml>=5.1 in /Users/ahartens/.pyenv/versions/3.12.7/envs/phenex2/lib/python3.12/site-packages (from mkdocs->phenex==0.7.0) (6.0.2)\n",
      "Requirement already satisfied: watchdog>=2.0 in /Users/ahartens/.pyenv/versions/3.12.7/envs/phenex2/lib/python3.12/site-packages (from mkdocs->phenex==0.7.0) (6.0.0)\n",
      "Requirement already satisfied: ipykernel<7.0.0,>6.0.0 in /Users/ahartens/.pyenv/versions/3.12.7/envs/phenex2/lib/python3.12/site-packages (from mkdocs-jupyter->phenex==0.7.0) (6.29.5)\n",
      "Requirement already satisfied: jupytext<2,>1.13.8 in /Users/ahartens/.pyenv/versions/3.12.7/envs/phenex2/lib/python3.12/site-packages (from mkdocs-jupyter->phenex==0.7.0) (1.16.4)\n",
      "Requirement already satisfied: nbconvert<8,>=7.2.9 in /Users/ahartens/.pyenv/versions/3.12.7/envs/phenex2/lib/python3.12/site-packages (from mkdocs-jupyter->phenex==0.7.0) (7.16.4)\n",
      "Requirement already satisfied: pygments>2.12.0 in /Users/ahartens/.pyenv/versions/3.12.7/envs/phenex2/lib/python3.12/site-packages (from mkdocs-jupyter->phenex==0.7.0) (2.18.0)\n",
      "Requirement already satisfied: babel~=2.10 in /Users/ahartens/.pyenv/versions/3.12.7/envs/phenex2/lib/python3.12/site-packages (from mkdocs-material->phenex==0.7.0) (2.16.0)\n",
      "Requirement already satisfied: colorama~=0.4 in /Users/ahartens/.pyenv/versions/3.12.7/envs/phenex2/lib/python3.12/site-packages (from mkdocs-material->phenex==0.7.0) (0.4.6)\n",
      "Requirement already satisfied: mkdocs-material-extensions~=1.3 in /Users/ahartens/.pyenv/versions/3.12.7/envs/phenex2/lib/python3.12/site-packages (from mkdocs-material->phenex==0.7.0) (1.3.1)\n",
      "Requirement already satisfied: paginate~=0.5 in /Users/ahartens/.pyenv/versions/3.12.7/envs/phenex2/lib/python3.12/site-packages (from mkdocs-material->phenex==0.7.0) (0.5.7)\n",
      "Requirement already satisfied: pymdown-extensions~=10.2 in /Users/ahartens/.pyenv/versions/3.12.7/envs/phenex2/lib/python3.12/site-packages (from mkdocs-material->phenex==0.7.0) (10.12)\n",
      "Requirement already satisfied: regex>=2022.4 in /Users/ahartens/.pyenv/versions/3.12.7/envs/phenex2/lib/python3.12/site-packages (from mkdocs-material->phenex==0.7.0) (2024.11.6)\n",
      "Requirement already satisfied: mkdocs-autorefs>=1.2 in /Users/ahartens/.pyenv/versions/3.12.7/envs/phenex2/lib/python3.12/site-packages (from mkdocstrings[python]->phenex==0.7.0) (1.2.0)\n",
      "Requirement already satisfied: mkdocstrings-python>=0.5.2 in /Users/ahartens/.pyenv/versions/3.12.7/envs/phenex2/lib/python3.12/site-packages (from mkdocstrings[python]->phenex==0.7.0) (1.12.2)\n",
      "Requirement already satisfied: et-xmlfile in /Users/ahartens/.pyenv/versions/3.12.7/envs/phenex2/lib/python3.12/site-packages (from openpyxl->phenex==0.7.0) (2.0.0)\n",
      "Requirement already satisfied: iniconfig in /Users/ahartens/.pyenv/versions/3.12.7/envs/phenex2/lib/python3.12/site-packages (from pytest->phenex==0.7.0) (2.0.0)\n",
      "Requirement already satisfied: pluggy<2,>=1.5 in /Users/ahartens/.pyenv/versions/3.12.7/envs/phenex2/lib/python3.12/site-packages (from pytest->phenex==0.7.0) (1.5.0)\n",
      "Requirement already satisfied: jmespath<2.0.0,>=0.7.1 in /Users/ahartens/.pyenv/versions/3.12.7/envs/phenex2/lib/python3.12/site-packages (from boto3>=1.24->snowflake-connector-python->phenex==0.7.0) (1.0.1)\n",
      "Requirement already satisfied: s3transfer<0.13.0,>=0.12.0 in /Users/ahartens/.pyenv/versions/3.12.7/envs/phenex2/lib/python3.12/site-packages (from boto3>=1.24->snowflake-connector-python->phenex==0.7.0) (0.12.0)\n",
      "Requirement already satisfied: urllib3!=2.2.0,<3,>=1.25.4 in /Users/ahartens/.pyenv/versions/3.12.7/envs/phenex2/lib/python3.12/site-packages (from botocore>=1.24->snowflake-connector-python->phenex==0.7.0) (2.2.3)\n",
      "Requirement already satisfied: pycparser in /Users/ahartens/.pyenv/versions/3.12.7/envs/phenex2/lib/python3.12/site-packages (from cffi<2.0.0,>=1.9->snowflake-connector-python->phenex==0.7.0) (2.22)\n",
      "Requirement already satisfied: interface-meta>=1.2.0 in /Users/ahartens/.pyenv/versions/3.12.7/envs/phenex2/lib/python3.12/site-packages (from formulaic>=0.2.2->lifelines==0.30.0->phenex==0.7.0) (1.3.0)\n",
      "Requirement already satisfied: wrapt>=1.0 in /Users/ahartens/.pyenv/versions/3.12.7/envs/phenex2/lib/python3.12/site-packages (from formulaic>=0.2.2->lifelines==0.30.0->phenex==0.7.0) (1.17.2)\n",
      "Requirement already satisfied: appnope in /Users/ahartens/.pyenv/versions/3.12.7/envs/phenex2/lib/python3.12/site-packages (from ipykernel<7.0.0,>6.0.0->mkdocs-jupyter->phenex==0.7.0) (0.1.4)\n",
      "Requirement already satisfied: comm>=0.1.1 in /Users/ahartens/.pyenv/versions/3.12.7/envs/phenex2/lib/python3.12/site-packages (from ipykernel<7.0.0,>6.0.0->mkdocs-jupyter->phenex==0.7.0) (0.2.2)\n",
      "Requirement already satisfied: debugpy>=1.6.5 in /Users/ahartens/.pyenv/versions/3.12.7/envs/phenex2/lib/python3.12/site-packages (from ipykernel<7.0.0,>6.0.0->mkdocs-jupyter->phenex==0.7.0) (1.8.8)\n",
      "Requirement already satisfied: ipython>=7.23.1 in /Users/ahartens/.pyenv/versions/3.12.7/envs/phenex2/lib/python3.12/site-packages (from ipykernel<7.0.0,>6.0.0->mkdocs-jupyter->phenex==0.7.0) (8.29.0)\n",
      "Requirement already satisfied: jupyter-client>=6.1.12 in /Users/ahartens/.pyenv/versions/3.12.7/envs/phenex2/lib/python3.12/site-packages (from ipykernel<7.0.0,>6.0.0->mkdocs-jupyter->phenex==0.7.0) (8.6.3)\n",
      "Requirement already satisfied: jupyter-core!=5.0.*,>=4.12 in /Users/ahartens/.pyenv/versions/3.12.7/envs/phenex2/lib/python3.12/site-packages (from ipykernel<7.0.0,>6.0.0->mkdocs-jupyter->phenex==0.7.0) (5.7.2)\n",
      "Requirement already satisfied: matplotlib-inline>=0.1 in /Users/ahartens/.pyenv/versions/3.12.7/envs/phenex2/lib/python3.12/site-packages (from ipykernel<7.0.0,>6.0.0->mkdocs-jupyter->phenex==0.7.0) (0.1.7)\n",
      "Requirement already satisfied: nest-asyncio in /Users/ahartens/.pyenv/versions/3.12.7/envs/phenex2/lib/python3.12/site-packages (from ipykernel<7.0.0,>6.0.0->mkdocs-jupyter->phenex==0.7.0) (1.6.0)\n",
      "Requirement already satisfied: psutil in /Users/ahartens/.pyenv/versions/3.12.7/envs/phenex2/lib/python3.12/site-packages (from ipykernel<7.0.0,>6.0.0->mkdocs-jupyter->phenex==0.7.0) (6.1.0)\n",
      "Requirement already satisfied: pyzmq>=24 in /Users/ahartens/.pyenv/versions/3.12.7/envs/phenex2/lib/python3.12/site-packages (from ipykernel<7.0.0,>6.0.0->mkdocs-jupyter->phenex==0.7.0) (26.2.0)\n",
      "Requirement already satisfied: tornado>=6.1 in /Users/ahartens/.pyenv/versions/3.12.7/envs/phenex2/lib/python3.12/site-packages (from ipykernel<7.0.0,>6.0.0->mkdocs-jupyter->phenex==0.7.0) (6.4.1)\n",
      "Requirement already satisfied: traitlets>=5.4.0 in /Users/ahartens/.pyenv/versions/3.12.7/envs/phenex2/lib/python3.12/site-packages (from ipykernel<7.0.0,>6.0.0->mkdocs-jupyter->phenex==0.7.0) (5.14.3)\n",
      "Requirement already satisfied: markdown-it-py>=1.0 in /Users/ahartens/.pyenv/versions/3.12.7/envs/phenex2/lib/python3.12/site-packages (from jupytext<2,>1.13.8->mkdocs-jupyter->phenex==0.7.0) (3.0.0)\n",
      "Requirement already satisfied: mdit-py-plugins in /Users/ahartens/.pyenv/versions/3.12.7/envs/phenex2/lib/python3.12/site-packages (from jupytext<2,>1.13.8->mkdocs-jupyter->phenex==0.7.0) (0.4.2)\n",
      "Requirement already satisfied: nbformat in /Users/ahartens/.pyenv/versions/3.12.7/envs/phenex2/lib/python3.12/site-packages (from jupytext<2,>1.13.8->mkdocs-jupyter->phenex==0.7.0) (5.10.4)\n",
      "Requirement already satisfied: griffe>=0.49 in /Users/ahartens/.pyenv/versions/3.12.7/envs/phenex2/lib/python3.12/site-packages (from mkdocstrings-python>=0.5.2->mkdocstrings[python]->phenex==0.7.0) (1.5.1)\n",
      "Requirement already satisfied: beautifulsoup4 in /Users/ahartens/.pyenv/versions/3.12.7/envs/phenex2/lib/python3.12/site-packages (from nbconvert<8,>=7.2.9->mkdocs-jupyter->phenex==0.7.0) (4.12.3)\n",
      "Requirement already satisfied: bleach!=5.0.0 in /Users/ahartens/.pyenv/versions/3.12.7/envs/phenex2/lib/python3.12/site-packages (from nbconvert<8,>=7.2.9->mkdocs-jupyter->phenex==0.7.0) (6.2.0)\n",
      "Requirement already satisfied: defusedxml in /Users/ahartens/.pyenv/versions/3.12.7/envs/phenex2/lib/python3.12/site-packages (from nbconvert<8,>=7.2.9->mkdocs-jupyter->phenex==0.7.0) (0.7.1)\n",
      "Requirement already satisfied: jupyterlab-pygments in /Users/ahartens/.pyenv/versions/3.12.7/envs/phenex2/lib/python3.12/site-packages (from nbconvert<8,>=7.2.9->mkdocs-jupyter->phenex==0.7.0) (0.3.0)\n",
      "Requirement already satisfied: mistune<4,>=2.0.3 in /Users/ahartens/.pyenv/versions/3.12.7/envs/phenex2/lib/python3.12/site-packages (from nbconvert<8,>=7.2.9->mkdocs-jupyter->phenex==0.7.0) (3.0.2)\n",
      "Requirement already satisfied: nbclient>=0.5.0 in /Users/ahartens/.pyenv/versions/3.12.7/envs/phenex2/lib/python3.12/site-packages (from nbconvert<8,>=7.2.9->mkdocs-jupyter->phenex==0.7.0) (0.10.0)\n",
      "Requirement already satisfied: pandocfilters>=1.4.1 in /Users/ahartens/.pyenv/versions/3.12.7/envs/phenex2/lib/python3.12/site-packages (from nbconvert<8,>=7.2.9->mkdocs-jupyter->phenex==0.7.0) (1.5.1)\n",
      "Requirement already satisfied: tinycss2 in /Users/ahartens/.pyenv/versions/3.12.7/envs/phenex2/lib/python3.12/site-packages (from nbconvert<8,>=7.2.9->mkdocs-jupyter->phenex==0.7.0) (1.4.0)\n",
      "Requirement already satisfied: tzdata>=2022.7 in /Users/ahartens/.pyenv/versions/3.12.7/envs/phenex2/lib/python3.12/site-packages (from pandas<3,>=1.5.3->ibis-framework[duckdb,examples,snowflake]==9.5.0->phenex==0.7.0) (2024.2)\n",
      "Requirement already satisfied: fsspec>=2022.2.0 in /Users/ahartens/.pyenv/versions/3.12.7/envs/phenex2/lib/python3.12/site-packages (from pins<1,>=0.8.3->pins[gcs]<1,>=0.8.3; extra == \"examples\"->ibis-framework[duckdb,examples,snowflake]==9.5.0->phenex==0.7.0) (2024.10.0)\n",
      "Requirement already satisfied: xxhash>=1.0.0 in /Users/ahartens/.pyenv/versions/3.12.7/envs/phenex2/lib/python3.12/site-packages (from pins<1,>=0.8.3->pins[gcs]<1,>=0.8.3; extra == \"examples\"->ibis-framework[duckdb,examples,snowflake]==9.5.0->phenex==0.7.0) (3.5.0)\n",
      "Requirement already satisfied: joblib>=0.12.0 in /Users/ahartens/.pyenv/versions/3.12.7/envs/phenex2/lib/python3.12/site-packages (from pins<1,>=0.8.3->pins[gcs]<1,>=0.8.3; extra == \"examples\"->ibis-framework[duckdb,examples,snowflake]==9.5.0->phenex==0.7.0) (1.4.2)\n",
      "Requirement already satisfied: importlib-metadata>=4.4 in /Users/ahartens/.pyenv/versions/3.12.7/envs/phenex2/lib/python3.12/site-packages (from pins<1,>=0.8.3->pins[gcs]<1,>=0.8.3; extra == \"examples\"->ibis-framework[duckdb,examples,snowflake]==9.5.0->phenex==0.7.0) (8.5.0)\n",
      "Requirement already satisfied: importlib-resources>=1.3 in /Users/ahartens/.pyenv/versions/3.12.7/envs/phenex2/lib/python3.12/site-packages (from pins<1,>=0.8.3->pins[gcs]<1,>=0.8.3; extra == \"examples\"->ibis-framework[duckdb,examples,snowflake]==9.5.0->phenex==0.7.0) (6.4.5)\n",
      "Requirement already satisfied: appdirs<2.0.0 in /Users/ahartens/.pyenv/versions/3.12.7/envs/phenex2/lib/python3.12/site-packages (from pins<1,>=0.8.3->pins[gcs]<1,>=0.8.3; extra == \"examples\"->ibis-framework[duckdb,examples,snowflake]==9.5.0->phenex==0.7.0) (1.4.4)\n",
      "Requirement already satisfied: humanize>=1.0.0 in /Users/ahartens/.pyenv/versions/3.12.7/envs/phenex2/lib/python3.12/site-packages (from pins<1,>=0.8.3->pins[gcs]<1,>=0.8.3; extra == \"examples\"->ibis-framework[duckdb,examples,snowflake]==9.5.0->phenex==0.7.0) (4.11.0)\n",
      "Requirement already satisfied: gcsfs in /Users/ahartens/.pyenv/versions/3.12.7/envs/phenex2/lib/python3.12/site-packages (from pins[gcs]<1,>=0.8.3; extra == \"examples\"->ibis-framework[duckdb,examples,snowflake]==9.5.0->phenex==0.7.0) (2024.10.0)\n",
      "Requirement already satisfied: six>=1.5 in /Users/ahartens/.pyenv/versions/3.12.7/envs/phenex2/lib/python3.12/site-packages (from python-dateutil<3,>=2.8.2->ibis-framework==9.5.0->ibis-framework[duckdb,examples,snowflake]==9.5.0->phenex==0.7.0) (1.16.0)\n",
      "Requirement already satisfied: webencodings in /Users/ahartens/.pyenv/versions/3.12.7/envs/phenex2/lib/python3.12/site-packages (from bleach!=5.0.0->nbconvert<8,>=7.2.9->mkdocs-jupyter->phenex==0.7.0) (0.5.1)\n",
      "Requirement already satisfied: zipp>=3.20 in /Users/ahartens/.pyenv/versions/3.12.7/envs/phenex2/lib/python3.12/site-packages (from importlib-metadata>=4.4->pins<1,>=0.8.3->pins[gcs]<1,>=0.8.3; extra == \"examples\"->ibis-framework[duckdb,examples,snowflake]==9.5.0->phenex==0.7.0) (3.21.0)\n",
      "Requirement already satisfied: decorator in /Users/ahartens/.pyenv/versions/3.12.7/envs/phenex2/lib/python3.12/site-packages (from ipython>=7.23.1->ipykernel<7.0.0,>6.0.0->mkdocs-jupyter->phenex==0.7.0) (5.1.1)\n",
      "Requirement already satisfied: jedi>=0.16 in /Users/ahartens/.pyenv/versions/3.12.7/envs/phenex2/lib/python3.12/site-packages (from ipython>=7.23.1->ipykernel<7.0.0,>6.0.0->mkdocs-jupyter->phenex==0.7.0) (0.19.2)\n",
      "Requirement already satisfied: prompt-toolkit<3.1.0,>=3.0.41 in /Users/ahartens/.pyenv/versions/3.12.7/envs/phenex2/lib/python3.12/site-packages (from ipython>=7.23.1->ipykernel<7.0.0,>6.0.0->mkdocs-jupyter->phenex==0.7.0) (3.0.48)\n",
      "Requirement already satisfied: stack-data in /Users/ahartens/.pyenv/versions/3.12.7/envs/phenex2/lib/python3.12/site-packages (from ipython>=7.23.1->ipykernel<7.0.0,>6.0.0->mkdocs-jupyter->phenex==0.7.0) (0.6.3)\n",
      "Requirement already satisfied: pexpect>4.3 in /Users/ahartens/.pyenv/versions/3.12.7/envs/phenex2/lib/python3.12/site-packages (from ipython>=7.23.1->ipykernel<7.0.0,>6.0.0->mkdocs-jupyter->phenex==0.7.0) (4.9.0)\n",
      "Requirement already satisfied: mdurl~=0.1 in /Users/ahartens/.pyenv/versions/3.12.7/envs/phenex2/lib/python3.12/site-packages (from markdown-it-py>=1.0->jupytext<2,>1.13.8->mkdocs-jupyter->phenex==0.7.0) (0.1.2)\n",
      "Requirement already satisfied: fastjsonschema>=2.15 in /Users/ahartens/.pyenv/versions/3.12.7/envs/phenex2/lib/python3.12/site-packages (from nbformat->jupytext<2,>1.13.8->mkdocs-jupyter->phenex==0.7.0) (2.20.0)\n",
      "Requirement already satisfied: jsonschema>=2.6 in /Users/ahartens/.pyenv/versions/3.12.7/envs/phenex2/lib/python3.12/site-packages (from nbformat->jupytext<2,>1.13.8->mkdocs-jupyter->phenex==0.7.0) (4.23.0)\n",
      "Requirement already satisfied: soupsieve>1.2 in /Users/ahartens/.pyenv/versions/3.12.7/envs/phenex2/lib/python3.12/site-packages (from beautifulsoup4->nbconvert<8,>=7.2.9->mkdocs-jupyter->phenex==0.7.0) (2.6)\n",
      "Requirement already satisfied: aiohttp!=4.0.0a0,!=4.0.0a1 in /Users/ahartens/.pyenv/versions/3.12.7/envs/phenex2/lib/python3.12/site-packages (from gcsfs->pins[gcs]<1,>=0.8.3; extra == \"examples\"->ibis-framework[duckdb,examples,snowflake]==9.5.0->phenex==0.7.0) (3.11.6)\n",
      "Requirement already satisfied: google-auth>=1.2 in /Users/ahartens/.pyenv/versions/3.12.7/envs/phenex2/lib/python3.12/site-packages (from gcsfs->pins[gcs]<1,>=0.8.3; extra == \"examples\"->ibis-framework[duckdb,examples,snowflake]==9.5.0->phenex==0.7.0) (2.36.0)\n",
      "Requirement already satisfied: google-auth-oauthlib in /Users/ahartens/.pyenv/versions/3.12.7/envs/phenex2/lib/python3.12/site-packages (from gcsfs->pins[gcs]<1,>=0.8.3; extra == \"examples\"->ibis-framework[duckdb,examples,snowflake]==9.5.0->phenex==0.7.0) (1.2.1)\n",
      "Requirement already satisfied: google-cloud-storage in /Users/ahartens/.pyenv/versions/3.12.7/envs/phenex2/lib/python3.12/site-packages (from gcsfs->pins[gcs]<1,>=0.8.3; extra == \"examples\"->ibis-framework[duckdb,examples,snowflake]==9.5.0->phenex==0.7.0) (2.18.2)\n",
      "Requirement already satisfied: aiohappyeyeballs>=2.3.0 in /Users/ahartens/.pyenv/versions/3.12.7/envs/phenex2/lib/python3.12/site-packages (from aiohttp!=4.0.0a0,!=4.0.0a1->gcsfs->pins[gcs]<1,>=0.8.3; extra == \"examples\"->ibis-framework[duckdb,examples,snowflake]==9.5.0->phenex==0.7.0) (2.4.3)\n",
      "Requirement already satisfied: aiosignal>=1.1.2 in /Users/ahartens/.pyenv/versions/3.12.7/envs/phenex2/lib/python3.12/site-packages (from aiohttp!=4.0.0a0,!=4.0.0a1->gcsfs->pins[gcs]<1,>=0.8.3; extra == \"examples\"->ibis-framework[duckdb,examples,snowflake]==9.5.0->phenex==0.7.0) (1.3.1)\n",
      "Requirement already satisfied: attrs>=17.3.0 in /Users/ahartens/.pyenv/versions/3.12.7/envs/phenex2/lib/python3.12/site-packages (from aiohttp!=4.0.0a0,!=4.0.0a1->gcsfs->pins[gcs]<1,>=0.8.3; extra == \"examples\"->ibis-framework[duckdb,examples,snowflake]==9.5.0->phenex==0.7.0) (24.2.0)\n",
      "Requirement already satisfied: frozenlist>=1.1.1 in /Users/ahartens/.pyenv/versions/3.12.7/envs/phenex2/lib/python3.12/site-packages (from aiohttp!=4.0.0a0,!=4.0.0a1->gcsfs->pins[gcs]<1,>=0.8.3; extra == \"examples\"->ibis-framework[duckdb,examples,snowflake]==9.5.0->phenex==0.7.0) (1.5.0)\n",
      "Requirement already satisfied: multidict<7.0,>=4.5 in /Users/ahartens/.pyenv/versions/3.12.7/envs/phenex2/lib/python3.12/site-packages (from aiohttp!=4.0.0a0,!=4.0.0a1->gcsfs->pins[gcs]<1,>=0.8.3; extra == \"examples\"->ibis-framework[duckdb,examples,snowflake]==9.5.0->phenex==0.7.0) (6.1.0)\n",
      "Requirement already satisfied: propcache>=0.2.0 in /Users/ahartens/.pyenv/versions/3.12.7/envs/phenex2/lib/python3.12/site-packages (from aiohttp!=4.0.0a0,!=4.0.0a1->gcsfs->pins[gcs]<1,>=0.8.3; extra == \"examples\"->ibis-framework[duckdb,examples,snowflake]==9.5.0->phenex==0.7.0) (0.2.0)\n",
      "Requirement already satisfied: yarl<2.0,>=1.17.0 in /Users/ahartens/.pyenv/versions/3.12.7/envs/phenex2/lib/python3.12/site-packages (from aiohttp!=4.0.0a0,!=4.0.0a1->gcsfs->pins[gcs]<1,>=0.8.3; extra == \"examples\"->ibis-framework[duckdb,examples,snowflake]==9.5.0->phenex==0.7.0) (1.17.2)\n",
      "Requirement already satisfied: cachetools<6.0,>=2.0.0 in /Users/ahartens/.pyenv/versions/3.12.7/envs/phenex2/lib/python3.12/site-packages (from google-auth>=1.2->gcsfs->pins[gcs]<1,>=0.8.3; extra == \"examples\"->ibis-framework[duckdb,examples,snowflake]==9.5.0->phenex==0.7.0) (5.5.0)\n",
      "Requirement already satisfied: pyasn1-modules>=0.2.1 in /Users/ahartens/.pyenv/versions/3.12.7/envs/phenex2/lib/python3.12/site-packages (from google-auth>=1.2->gcsfs->pins[gcs]<1,>=0.8.3; extra == \"examples\"->ibis-framework[duckdb,examples,snowflake]==9.5.0->phenex==0.7.0) (0.4.1)\n",
      "Requirement already satisfied: rsa<5,>=3.1.4 in /Users/ahartens/.pyenv/versions/3.12.7/envs/phenex2/lib/python3.12/site-packages (from google-auth>=1.2->gcsfs->pins[gcs]<1,>=0.8.3; extra == \"examples\"->ibis-framework[duckdb,examples,snowflake]==9.5.0->phenex==0.7.0) (4.9)\n",
      "Requirement already satisfied: parso<0.9.0,>=0.8.4 in /Users/ahartens/.pyenv/versions/3.12.7/envs/phenex2/lib/python3.12/site-packages (from jedi>=0.16->ipython>=7.23.1->ipykernel<7.0.0,>6.0.0->mkdocs-jupyter->phenex==0.7.0) (0.8.4)\n",
      "Requirement already satisfied: jsonschema-specifications>=2023.03.6 in /Users/ahartens/.pyenv/versions/3.12.7/envs/phenex2/lib/python3.12/site-packages (from jsonschema>=2.6->nbformat->jupytext<2,>1.13.8->mkdocs-jupyter->phenex==0.7.0) (2024.10.1)\n",
      "Requirement already satisfied: referencing>=0.28.4 in /Users/ahartens/.pyenv/versions/3.12.7/envs/phenex2/lib/python3.12/site-packages (from jsonschema>=2.6->nbformat->jupytext<2,>1.13.8->mkdocs-jupyter->phenex==0.7.0) (0.35.1)\n",
      "Requirement already satisfied: rpds-py>=0.7.1 in /Users/ahartens/.pyenv/versions/3.12.7/envs/phenex2/lib/python3.12/site-packages (from jsonschema>=2.6->nbformat->jupytext<2,>1.13.8->mkdocs-jupyter->phenex==0.7.0) (0.21.0)\n",
      "Requirement already satisfied: ptyprocess>=0.5 in /Users/ahartens/.pyenv/versions/3.12.7/envs/phenex2/lib/python3.12/site-packages (from pexpect>4.3->ipython>=7.23.1->ipykernel<7.0.0,>6.0.0->mkdocs-jupyter->phenex==0.7.0) (0.7.0)\n",
      "Requirement already satisfied: wcwidth in /Users/ahartens/.pyenv/versions/3.12.7/envs/phenex2/lib/python3.12/site-packages (from prompt-toolkit<3.1.0,>=3.0.41->ipython>=7.23.1->ipykernel<7.0.0,>6.0.0->mkdocs-jupyter->phenex==0.7.0) (0.2.13)\n",
      "Requirement already satisfied: requests-oauthlib>=0.7.0 in /Users/ahartens/.pyenv/versions/3.12.7/envs/phenex2/lib/python3.12/site-packages (from google-auth-oauthlib->gcsfs->pins[gcs]<1,>=0.8.3; extra == \"examples\"->ibis-framework[duckdb,examples,snowflake]==9.5.0->phenex==0.7.0) (2.0.0)\n",
      "Requirement already satisfied: google-api-core<3.0.0dev,>=2.15.0 in /Users/ahartens/.pyenv/versions/3.12.7/envs/phenex2/lib/python3.12/site-packages (from google-cloud-storage->gcsfs->pins[gcs]<1,>=0.8.3; extra == \"examples\"->ibis-framework[duckdb,examples,snowflake]==9.5.0->phenex==0.7.0) (2.23.0)\n",
      "Requirement already satisfied: google-cloud-core<3.0dev,>=2.3.0 in /Users/ahartens/.pyenv/versions/3.12.7/envs/phenex2/lib/python3.12/site-packages (from google-cloud-storage->gcsfs->pins[gcs]<1,>=0.8.3; extra == \"examples\"->ibis-framework[duckdb,examples,snowflake]==9.5.0->phenex==0.7.0) (2.4.1)\n",
      "Requirement already satisfied: google-resumable-media>=2.7.2 in /Users/ahartens/.pyenv/versions/3.12.7/envs/phenex2/lib/python3.12/site-packages (from google-cloud-storage->gcsfs->pins[gcs]<1,>=0.8.3; extra == \"examples\"->ibis-framework[duckdb,examples,snowflake]==9.5.0->phenex==0.7.0) (2.7.2)\n",
      "Requirement already satisfied: google-crc32c<2.0dev,>=1.0 in /Users/ahartens/.pyenv/versions/3.12.7/envs/phenex2/lib/python3.12/site-packages (from google-cloud-storage->gcsfs->pins[gcs]<1,>=0.8.3; extra == \"examples\"->ibis-framework[duckdb,examples,snowflake]==9.5.0->phenex==0.7.0) (1.6.0)\n",
      "Requirement already satisfied: executing>=1.2.0 in /Users/ahartens/.pyenv/versions/3.12.7/envs/phenex2/lib/python3.12/site-packages (from stack-data->ipython>=7.23.1->ipykernel<7.0.0,>6.0.0->mkdocs-jupyter->phenex==0.7.0) (2.1.0)\n",
      "Requirement already satisfied: asttokens>=2.1.0 in /Users/ahartens/.pyenv/versions/3.12.7/envs/phenex2/lib/python3.12/site-packages (from stack-data->ipython>=7.23.1->ipykernel<7.0.0,>6.0.0->mkdocs-jupyter->phenex==0.7.0) (2.4.1)\n",
      "Requirement already satisfied: pure-eval in /Users/ahartens/.pyenv/versions/3.12.7/envs/phenex2/lib/python3.12/site-packages (from stack-data->ipython>=7.23.1->ipykernel<7.0.0,>6.0.0->mkdocs-jupyter->phenex==0.7.0) (0.2.3)\n",
      "Requirement already satisfied: googleapis-common-protos<2.0.dev0,>=1.56.2 in /Users/ahartens/.pyenv/versions/3.12.7/envs/phenex2/lib/python3.12/site-packages (from google-api-core<3.0.0dev,>=2.15.0->google-cloud-storage->gcsfs->pins[gcs]<1,>=0.8.3; extra == \"examples\"->ibis-framework[duckdb,examples,snowflake]==9.5.0->phenex==0.7.0) (1.66.0)\n",
      "Requirement already satisfied: protobuf!=3.20.0,!=3.20.1,!=4.21.0,!=4.21.1,!=4.21.2,!=4.21.3,!=4.21.4,!=4.21.5,<6.0.0.dev0,>=3.19.5 in /Users/ahartens/.pyenv/versions/3.12.7/envs/phenex2/lib/python3.12/site-packages (from google-api-core<3.0.0dev,>=2.15.0->google-cloud-storage->gcsfs->pins[gcs]<1,>=0.8.3; extra == \"examples\"->ibis-framework[duckdb,examples,snowflake]==9.5.0->phenex==0.7.0) (5.28.3)\n",
      "Requirement already satisfied: proto-plus<2.0.0dev,>=1.22.3 in /Users/ahartens/.pyenv/versions/3.12.7/envs/phenex2/lib/python3.12/site-packages (from google-api-core<3.0.0dev,>=2.15.0->google-cloud-storage->gcsfs->pins[gcs]<1,>=0.8.3; extra == \"examples\"->ibis-framework[duckdb,examples,snowflake]==9.5.0->phenex==0.7.0) (1.25.0)\n",
      "Requirement already satisfied: pyasn1<0.7.0,>=0.4.6 in /Users/ahartens/.pyenv/versions/3.12.7/envs/phenex2/lib/python3.12/site-packages (from pyasn1-modules>=0.2.1->google-auth>=1.2->gcsfs->pins[gcs]<1,>=0.8.3; extra == \"examples\"->ibis-framework[duckdb,examples,snowflake]==9.5.0->phenex==0.7.0) (0.6.1)\n",
      "Requirement already satisfied: oauthlib>=3.0.0 in /Users/ahartens/.pyenv/versions/3.12.7/envs/phenex2/lib/python3.12/site-packages (from requests-oauthlib>=0.7.0->google-auth-oauthlib->gcsfs->pins[gcs]<1,>=0.8.3; extra == \"examples\"->ibis-framework[duckdb,examples,snowflake]==9.5.0->phenex==0.7.0) (3.2.2)\n",
      "Installing collected packages: phenex\n",
      "  Attempting uninstall: phenex\n",
      "    Found existing installation: phenex 0.7.0\n",
      "    Uninstalling phenex-0.7.0:\n",
      "      Successfully uninstalled phenex-0.7.0\n",
      "\u001b[33m  DEPRECATION: Legacy editable install of phenex==0.7.0 from file:///Users/ahartens/src/PhenEx (setup.py develop) is deprecated. pip 25.0 will enforce this behaviour change. A possible replacement is to add a pyproject.toml or enable --use-pep517, and use setuptools >= 64. If the resulting installation is not behaving as expected, try using --config-settings editable_mode=compat. Please consult the setuptools documentation for more information. Discussion can be found at https://github.com/pypa/pip/issues/11457\u001b[0m\u001b[33m\n",
      "\u001b[0m  Running setup.py develop for phenex\n",
      "Successfully installed phenex-0.7.0\n",
      "\n",
      "\u001b[1m[\u001b[0m\u001b[34;49mnotice\u001b[0m\u001b[1;39;49m]\u001b[0m\u001b[39;49m A new release of pip is available: \u001b[0m\u001b[31;49m24.2\u001b[0m\u001b[39;49m -> \u001b[0m\u001b[32;49m25.2\u001b[0m\n",
      "\u001b[1m[\u001b[0m\u001b[34;49mnotice\u001b[0m\u001b[1;39;49m]\u001b[0m\u001b[39;49m To update, run: \u001b[0m\u001b[32;49mpython -m pip install --upgrade pip\u001b[0m\n",
      "Note: you may need to restart the kernel to use updated packages.\n"
     ]
    }
   ],
   "source": [
    "# For updating PhenEx to latest released version\n",
    "# !pip install -Uq PhenEx\n",
    "%pip install -e /Users/ahartens/src/PhenEx\n"
   ]
  },
  {
   "cell_type": "code",
   "execution_count": 2,
   "id": "b2f58d68-3d0c-43a1-8258-ea56c682f1e6",
   "metadata": {},
   "outputs": [],
   "source": [
    "import ibis\n",
    "ibis.options.interactive = True"
   ]
  },
  {
   "cell_type": "markdown",
   "id": "99d53acc-1e03-4c4b-b119-d373a876533e",
   "metadata": {},
   "source": [
    "## Set Snowflake Credentials\n",
    "PhenEx needs to connect to a Snowflake backend and therefore needs your login credentials. There are two ways to do this : (1) explicitly or (2) using an .env (dot env) file. We show how to do both, but only do one!\n",
    "### Method 1 : manual entry"
   ]
  },
  {
   "cell_type": "code",
   "execution_count": 3,
   "id": "8af0e751-140b-4dce-83c7-ee54ce5aec8c",
   "metadata": {},
   "outputs": [],
   "source": [
    "# import os\n",
    "\n",
    "# # authentication\n",
    "# os.environ.update({\n",
    "#     'SNOWFLAKE_ACCOUNT':'ACOUNT',\n",
    "#     'SNOWFLAKE_WAREHOUSE':'WAREHOUSE'\n",
    "#     'SNOWFLAKE_ROLE':'ROLE'\n",
    "#     'SNOWFLAKE_USER':'USER'\n",
    "# })"
   ]
  },
  {
   "cell_type": "markdown",
   "id": "875a0e1d-0906-4a98-a410-6a180a3f060b",
   "metadata": {},
   "source": [
    "### Method 2 : env file\n",
    "You can also specify these with using a dotenv file (https://github.com/motdotla/dotenv). One advantage to doing this is that you do not put sensitive credential information into your jupyter notebook."
   ]
  },
  {
   "cell_type": "code",
   "execution_count": 4,
   "id": "25dc5fee-e0ea-4142-8041-45022301b4f2",
   "metadata": {},
   "outputs": [
    {
     "data": {
      "text/plain": [
       "True"
      ]
     },
     "execution_count": 4,
     "metadata": {},
     "output_type": "execute_result"
    }
   ],
   "source": [
    "from dotenv import load_dotenv\n",
    "load_dotenv()"
   ]
  },
  {
   "cell_type": "markdown",
   "id": "094d6ff6-c304-4fef-a3ac-a9c738acfbe8",
   "metadata": {},
   "source": [
    "If you see True above, it means python was able to find and load your environment file.\n",
    "\n"
   ]
  },
  {
   "cell_type": "markdown",
   "id": "497ef214-162b-4c63-a550-f860f64a9e83",
   "metadata": {},
   "source": [
    "## Connect to the database"
   ]
  },
  {
   "cell_type": "markdown",
   "id": "c955d956-f188-4131-bc75-88ae306b103a",
   "metadata": {},
   "source": [
    "We will now establish a connection to Snowflake using a SnowflakeConnector; these connectors will use your environment variables (set above) for login credentials.\n",
    "\n",
    "At this point we must define two databases in Snowflake:\n",
    "1. Source : the snowflake location where input data to phenex should come from\n",
    "2. Destination (dest) : the snowflake location where output data from phenex should be written. The destination will be created if it does not exist.\n",
    "\n",
    "Run this cell to connect to these databases; this cell will open up two browser tabs (if you're using browser authentication). After those pages load (wait for them to say completed!), close them and return to this notebook."
   ]
  },
  {
   "cell_type": "code",
   "execution_count": 5,
   "id": "8a09bff6-e615-41dd-8316-515d826d349b",
   "metadata": {},
   "outputs": [],
   "source": [
    "%%capture\n",
    "from phenex.ibis_connect import SnowflakeConnector\n",
    "\n",
    "con = SnowflakeConnector(\n",
    "    # SNOWFLAKE_SOURCE_DATABASE = 'SOURCE_DATABASE', # enter these, use or use the .env file\n",
    "    # SNOWFLAKE_DEST_DATABASE = 'DEST_DATABASE'      # enter these, use or use the .env file\n",
    ")"
   ]
  },
  {
   "cell_type": "markdown",
   "id": "9906abc3-1027-4b2e-a643-cbe36ffbcf83",
   "metadata": {},
   "source": [
    "Notice that both of these locations can also be specified using environment variables (like we did in method 1/2 for credentials), and vice versa (credentials can be passed to a connector as keyword arguments, rather being hidden in the .env file). However, as credentials generally remain the same between projects and the database locations are project dependent, it is best practice to define database locations with the connector.\n"
   ]
  },
  {
   "cell_type": "markdown",
   "id": "f7ca99f7-8ed0-40ac-b6e6-8fd3000989a1",
   "metadata": {},
   "source": [
    "## Define input data structure"
   ]
  },
  {
   "cell_type": "markdown",
   "id": "6b1bd3bb-c3a3-4a71-a4c2-8f1652fdcf12",
   "metadata": {},
   "source": [
    "PhenEx needs to know a little bit about the structure of the input data in order to help us make phenotypes and cohorts.\n",
    "\n",
    "What this means is that PhenEx knows in what table and column to find information such as patient id, year of birth, diagnosis events, etc. This information is generally present in all RWD sources, but for each data source, is (1) organized in a different way and (2) can have different column names.\n",
    "\n",
    "When using a new data source, we need to onboard that database for usage with PhenEx (tell it about table structure and column names). Go to the [tutorial on onboarding a new database](/2_Onboarding_New_Database.ipynb) to learn how to onboard a database.\n",
    "\n",
    "For the purposes of this tutorial, we will be using OMOP data, which is already onboarded and available in the PhenEx library. All we have to do is import the OMOPDomains and then get the mapped tables."
   ]
  },
  {
   "cell_type": "code",
   "execution_count": 6,
   "id": "23e00290-f1be-4d05-af48-9e804f489811",
   "metadata": {},
   "outputs": [
    {
     "data": {
      "text/plain": [
       "['PERSON',\n",
       " 'VISIT_OCCURRENCE',\n",
       " 'VISIT_DETAIL',\n",
       " 'CONDITION_OCCURRENCE',\n",
       " 'DEATH',\n",
       " 'PROCEDURE_OCCURRENCE',\n",
       " 'DRUG_EXPOSURE',\n",
       " 'CONDITION_OCCURRENCE_SOURCE',\n",
       " 'PROCEDURE_OCCURRENCE_SOURCE',\n",
       " 'DRUG_EXPOSURE_SOURCE',\n",
       " 'PERSON_SOURCE',\n",
       " 'OBSERVATION_PERIOD',\n",
       " 'OBSERVATION',\n",
       " 'MEASUREMENT']"
      ]
     },
     "execution_count": 6,
     "metadata": {},
     "output_type": "execute_result"
    }
   ],
   "source": [
    "from phenex.mappers import OMOPDomains\n",
    "mapped_tables = OMOPDomains.get_mapped_tables(con)\n",
    "list(mapped_tables.keys())"
   ]
  },
  {
   "cell_type": "markdown",
   "id": "298a929e-229d-401c-bdcd-f62d3703c5f5",
   "metadata": {},
   "source": [
    "### Looking at input data\n",
    "PhenEx bundles all input data into a dictionary, in this case in the variable called mapped_tables. The keys in this dictionary are known as 'domains'; we can access the input data by these domain keys. The values for each key are the actual tables"
   ]
  },
  {
   "cell_type": "markdown",
   "id": "3ef2a10b-3ecb-47ee-b6e4-fc9462f83425",
   "metadata": {},
   "source": [
    "## Integrating medical codelists\n",
    "Medical codelists are an integral part of any observational study. PhenEx has functionality to help you use medical codelist files (CSVs or Excels). Go to the Codelist Tutorial to find out more about codelists. For the purpose of this tutorial, we will create a LocalCSVCodelistFactory that opens a codelist file, and returns medical codelists ready for use with PhenEx."
   ]
  },
  {
   "cell_type": "code",
   "execution_count": 7,
   "id": "0fd58cfe-5f2a-440b-8104-db809f3d63f3",
   "metadata": {},
   "outputs": [
    {
     "data": {
      "text/plain": [
       "['MYOCARDIAL_INFARCTION', 'ATRIAL_FIBRILLATION']"
      ]
     },
     "execution_count": 7,
     "metadata": {},
     "output_type": "execute_result"
    }
   ],
   "source": [
    "from phenex.codelists import LocalCSVCodelistFactory\n",
    "\n",
    "# create the codelist factory. We have to map column names; see the Codelist Tutorial for more info\n",
    "codelist_factory = LocalCSVCodelistFactory(\n",
    "    path='./codelists_for_tutorial.csv',\n",
    "    name_code_column='CONCEPT_ID',\n",
    "    name_codelist_column='CODELIST',\n",
    "    name_code_type_column = 'VOCABULARY_ID'\n",
    ")\n",
    "\n",
    "# let's see what codelists are available\n",
    "codelist_factory.get_codelists()"
   ]
  },
  {
   "cell_type": "markdown",
   "id": "4b39e4a3-d4ee-4213-9b28-2b7d14084a9b",
   "metadata": {},
   "source": [
    "## Study Definition\n",
    "Now we're ready to use PhenEx to specify our observational study! For the purposes of this tutorial, we will use the following dummy study definition:\n"
   ]
  },
  {
   "cell_type": "markdown",
   "id": "93481257-97d9-4436-a42e-dd5ced7c78b2",
   "metadata": {},
   "source": [
    "**AIM** : to characterize patients with atrial fibrillation\n",
    "\n",
    "**Entry Criterion**\n",
    "\n",
    "incident atrial fibrillation, as defined by the first occurrence of a diagnosis code for atrial fibrillation\n",
    "\n",
    "**Inclusion criteria**\n",
    "\n",
    "1. At least one year lookback period\n",
    "2. greater than or equal to 18 years old\n",
    "\n",
    "**Exclusion criteria**\n",
    "1. No myocardial hospitalization in the year prior to index\n",
    "\n",
    "**Baseline characteristics**\n",
    "1. age at index\n",
    "2. sex\n",
    "3. number of deaths within 30 days of index\n",
    "\n",
    "\n",
    "**Time to event analysis** for death post index\n",
    "\n",
    "\n",
    "To use PhenEx, we'll translate this written text to a PhenEx executable study definition. We do that by creating a phenotype for each one of these study elements, and then we will put them all together in the 'Cohort' section"
   ]
  },
  {
   "cell_type": "markdown",
   "id": "3f83ea41-de39-49dc-9692-5d5cf8d73e2e",
   "metadata": {},
   "source": [
    "### Entry criterion\n",
    "The entry criterion defines study entry i.e. it defines the index date. At this point, it is only a potential index date; only after we evaluate the in/exclusion criteria at this possible index date does it become the true index date."
   ]
  },
  {
   "cell_type": "code",
   "execution_count": 8,
   "id": "76c98263-4d99-42fa-97d2-b4ccf3af30b3",
   "metadata": {},
   "outputs": [],
   "source": [
    "from phenex.phenotypes.codelist_phenotype import CodelistPhenotype\n",
    "from phenex.codelists.codelists import Codelist\n",
    "\n",
    "# create a codelist for atrial fibrillation\n",
    "cl_af = codelist_factory.get_codelist('ATRIAL_FIBRILLATION').copy(use_code_type=False)\n",
    "\n",
    "# create a phentype that uses this codelist.\n",
    "pt_entry = CodelistPhenotype(\n",
    "    name='first_atrial_fibrillation_diagnosis',\n",
    "    domain='CONDITION_OCCURRENCE',\n",
    "    codelist=cl_af,\n",
    "    return_date='first', # return the first occurrence\n",
    ")"
   ]
  },
  {
   "cell_type": "code",
   "execution_count": null,
   "id": "2744188e-3cc4-402e-923d-a14b5e14307b",
   "metadata": {},
   "outputs": [],
   "source": [
    "# we can execute the phenotype and look at the results. this is not required!\n",
    "pt_entry.execute(mapped_tables)\n",
    "pt_entry.table"
   ]
  },
  {
   "cell_type": "markdown",
   "id": "06d60576-81bb-4cd8-b549-2cc5941b2b55",
   "metadata": {},
   "source": [
    "### Inclusions\n",
    "We now create a list of inclusion phenotypes; these phenotypes must evaluate to 'true' to enter the cohort i.e patients must fulfill the criteria defined by the inclusion phenotypes. We go one by one, implementing each criterium.\n",
    "#### Inclusion 1 : One year continuous coverage"
   ]
  },
  {
   "cell_type": "code",
   "execution_count": null,
   "id": "dfaf27dc-242f-44db-9b31-4d3ff43c6275",
   "metadata": {},
   "outputs": [],
   "source": [
    "from phenex.phenotypes import TimeRangePhenotype\n",
    "from phenex.filters import RelativeTimeRangeFilter, GreaterThanOrEqualTo\n",
    "\n",
    "pt_inclusion1 = TimeRangePhenotype(\n",
    "    name = 'one_year_coverage',\n",
    "    relative_time_range=RelativeTimeRangeFilter(\n",
    "        when='before',\n",
    "        min_days=GreaterThanOrEqualTo(365),\n",
    "        anchor_phenotype=pt_entry # this is only necessary if we want to execute pt_inclusion1 outside of a cohort.\n",
    "    )\n",
    ")\n",
    "\n",
    "# we can again execute immediately (outside of the Cohort) if we want to observe the results\n",
    "# pt_inclusion1.execute(mapped_tables)"
   ]
  },
  {
   "cell_type": "markdown",
   "id": "e380bb5f-cbcb-4580-a744-783909d17cc7",
   "metadata": {},
   "source": [
    "#### Inclusion 2 : Age greater than 18"
   ]
  },
  {
   "cell_type": "code",
   "execution_count": null,
   "id": "9d8f0352-8381-497a-afbd-de8643d04688",
   "metadata": {},
   "outputs": [],
   "source": [
    "from phenex.phenotypes import AgePhenotype\n",
    "from phenex.filters import ValueFilter, GreaterThan\n",
    "\n",
    "pt_inclusion2 = AgePhenotype(\n",
    "    name = 'age_g18',\n",
    "    value_filter = ValueFilter(\n",
    "        min_value=GreaterThan(18)\n",
    "    ),\n",
    "    anchor_phenotype=pt_entry # this is only necessary if we want to execute pt_inclusion1 outside of a cohort.\n",
    ")\n",
    "\n",
    "# we can again execute immediately (outside of the Cohort) if we want to observe the results\n",
    "# pt_inclusion2.execute(mapped_tables)"
   ]
  },
  {
   "cell_type": "code",
   "execution_count": null,
   "id": "f1b4111b-da1c-4a77-839a-ee79d9957724",
   "metadata": {},
   "outputs": [],
   "source": [
    "# Create the final list of includions. These criteria will be executed sequentially when creating the attrition table, so adjust the order as desired for the attrition table.\n",
    "inclusions = [pt_inclusion1, pt_inclusion2]"
   ]
  },
  {
   "cell_type": "markdown",
   "id": "bd9c0cc1-024e-43f9-969b-91f4d478c8f9",
   "metadata": {},
   "source": [
    "### Exclusions\n",
    "We now create a list of exclusion phenotypes; these phenotypes must evaluate to 'false' to enter the cohort i.e patients may NOT fulfill the criteria defined by the exclusion phenotypes. We go one by one, implementing each criterium.\n",
    "\n",
    "#### Exclusion 1 : Inpatient myocardial infarction diagnosis"
   ]
  },
  {
   "cell_type": "code",
   "execution_count": null,
   "id": "d48d0b62-250e-4534-81e9-9d297fc8b3b3",
   "metadata": {},
   "outputs": [],
   "source": [
    "\n",
    "from phenex.filters import GreaterThan\n",
    "from phenex.filters.categorical_filter import CategoricalFilter\n",
    "from phenex.filters import CategoricalFilter, RelativeTimeRangeFilter, GreaterThanOrEqualTo, LessThan\n",
    "\n",
    "f_inpatient = CategoricalFilter(\n",
    "    allowed_values = [\n",
    "        9203,   #Emergency Room Visit\n",
    "        262,    #Emergency Room and Inpatient Visit\n",
    "        9201,   #Inpatient Visit\n",
    "    ],\n",
    "    column_name = 'VISIT_CONCEPT_ID',\n",
    "    domain = 'VISIT_OCCURRENCE'\n",
    ")\n",
    "\n",
    "\n",
    "f_one_year_pre_index = RelativeTimeRangeFilter(\n",
    "    when='before',\n",
    "    anchor_phenotype=pt_entry, # this is only necessary if we want to execute pt_inclusion1 outside of a cohort.\n",
    "    min_days=GreaterThanOrEqualTo(0),\n",
    "    max_days=LessThan(365), \n",
    ")\n",
    "\n",
    "cl_mi = codelist_factory.get_codelist('MYOCARDIAL_INFARCTION').copy(use_code_type=False)\n",
    "\n",
    "pt_exclusion1 = CodelistPhenotype(\n",
    "    name='myocardial_infarction_hospitalization',\n",
    "    domain='CONDITION_OCCURRENCE',\n",
    "    codelist=cl_mi,\n",
    "    categorical_filter=f_inpatient,\n",
    "    relative_time_range=f_one_year_pre_index\n",
    ")\n",
    "\n",
    "# we can again execute immediately (outside of the Cohort) if we want to observe the results; patients in this table will be EXCLUDED from the final cohort\n",
    "# pt_exclusion1.execute(mapped_tables)"
   ]
  },
  {
   "cell_type": "code",
   "execution_count": null,
   "id": "43ef2971-9061-488c-89dc-7e4845cbd4c6",
   "metadata": {},
   "outputs": [],
   "source": [
    "exclusions = [pt_exclusion1]"
   ]
  },
  {
   "cell_type": "markdown",
   "id": "eb7c85e0-e4e5-42de-80ce-5abce4b54624",
   "metadata": {},
   "source": [
    "### Characteristics\n",
    "We now create a list of baseline characteristic phenotypes; these phenotypes are run on the final cohort only. We can observe the results in Table1. We go one by one, implementing each criterium.\n"
   ]
  },
  {
   "cell_type": "code",
   "execution_count": null,
   "id": "0b1f1cb6-4e2b-4e4e-ac19-2a514db93e92",
   "metadata": {},
   "outputs": [],
   "source": [
    "from phenex.phenotypes import AgePhenotype, BinPhenotype, CategoricalPhenotype, DeathPhenotype\n",
    "\n",
    "pt_characteristic1 = AgePhenotype()\n",
    "pt_characteristic2 = BinPhenotype(name='binned_age',phenotype=pt_characteristic1)\n",
    "\n",
    "pt_characteristic3 = CategoricalPhenotype(\n",
    "    name = 'sex',\n",
    "    categorical_filter=CategoricalFilter(column_name=\"GENDER_SOURCE_VALUE\"), domain = \"PERSON\"\n",
    ")\n",
    "\n",
    "pt_characteristic4 = DeathPhenotype(\n",
    "    name='death_30days',\n",
    "    domain='DEATH',\n",
    "    relative_time_range=RelativeTimeRangeFilter(\n",
    "        when='after',\n",
    "        min_days=GreaterThan(0),\n",
    "        max_days=LessThan(30)\n",
    "    )\n",
    ")\n",
    "\n",
    "characteristics = [pt_characteristic1, pt_characteristic2, pt_characteristic3, pt_characteristic4]"
   ]
  },
  {
   "cell_type": "markdown",
   "id": "ae0f6a25-6d7d-4aac-aa52-cfa9c53610df",
   "metadata": {},
   "source": [
    "### Outcomes\n",
    "We now create a list of outcome phenotypes; these phenotypes are run on the final cohort only. We can observe the results in a time to event analysis. We go one by one, implementing each criterium.\n"
   ]
  },
  {
   "cell_type": "code",
   "execution_count": 23,
   "id": "d0655d1b-c95e-41a4-801d-6a3551de87d4",
   "metadata": {},
   "outputs": [],
   "source": [
    "f_postindex = RelativeTimeRangeFilter(\n",
    "    when='after',\n",
    "    min_days=GreaterThan(0),\n",
    ")\n",
    "\n",
    "\n",
    "pt_outcome1 = CodelistPhenotype(\n",
    "    name='myocardial_infarction_after_index',\n",
    "    domain='CONDITION_OCCURRENCE',\n",
    "    codelist=cl_mi,\n",
    "    categorical_filter=f_inpatient,\n",
    "    relative_time_range=f_postindex\n",
    ")\n",
    "\n"
   ]
  },
  {
   "cell_type": "code",
   "execution_count": 24,
   "id": "e41c5cff-86b2-47a3-b471-01a114741aac",
   "metadata": {},
   "outputs": [],
   "source": [
    "outcomes = [pt_outcome1]"
   ]
  },
  {
   "cell_type": "markdown",
   "id": "b0ec0903-d401-48b4-85a5-5fd73747e341",
   "metadata": {},
   "source": [
    "### Cohort\n",
    "We now put everything together in a PhenEx cohort. This takes the entry phenotype, and all the lists of phenotypes we created above. We can then execute the cohort."
   ]
  },
  {
   "cell_type": "code",
   "execution_count": 31,
   "id": "a5e0dc83-664e-4c81-8c34-2d494c169c43",
   "metadata": {},
   "outputs": [
    {
     "name": "stderr",
     "output_type": "stream",
     "text": [
      "2025-09-09 12:08:44,442 - phenex.phenotypes.cohort - INFO - Cohort 'study_tutorial_cohort' initialized with entry criterion 'FIRST_ATRIAL_FIBRILLATION_DIAGNOSIS'\n"
     ]
    }
   ],
   "source": [
    "from phenex.phenotypes.cohort import Cohort\n",
    "\n",
    "cohort = Cohort(\n",
    "    name = 'study_tutorial_cohort',\n",
    "    entry_criterion=pt_entry,\n",
    "    inclusions=inclusions,\n",
    "    exclusions=exclusions,\n",
    "    characteristics=characteristics,\n",
    "    outcomes = outcomes,\n",
    ")"
   ]
  },
  {
   "cell_type": "code",
   "execution_count": 32,
   "id": "61518c53-2234-48b5-a9fc-bb686b426ed9",
   "metadata": {},
   "outputs": [
    {
     "name": "stderr",
     "output_type": "stream",
     "text": [
      "2025-09-09 12:08:46,078 - phenex.phenotypes.cohort - INFO - Cohort 'study_tutorial_cohort': executing entry stage ...\n",
      "2025-09-09 12:08:47,570 - phenex.phenotypes.cohort - INFO - Cohort 'study_tutorial_cohort': completed entry stage.\n",
      "2025-09-09 12:08:47,571 - phenex.phenotypes.cohort - INFO - Cohort 'study_tutorial_cohort': executing index stage ...\n",
      "2025-09-09 12:08:49,540 - phenex.phenotypes.cohort - INFO - Cohort 'study_tutorial_cohort': completed index stage.\n",
      "2025-09-09 12:08:49,542 - phenex.phenotypes.cohort - INFO - Cohort 'study_tutorial_cohort': executing reporting stage ...\n"
     ]
    },
    {
     "data": {
      "text/html": [
       "<pre style=\"white-space:pre;overflow-x:auto;line-height:normal;font-family:Menlo,'DejaVu Sans Mono',consolas,'Courier New',monospace\">┏━━━━━━━━━━━┳━━━━━━━━━┳━━━━━━━━━━━━┳━━━━━━━┳━━━━━━━━━━━━┓\n",
       "┃<span style=\"font-weight: bold\"> PERSON_ID </span>┃<span style=\"font-weight: bold\"> BOOLEAN </span>┃<span style=\"font-weight: bold\"> EVENT_DATE </span>┃<span style=\"font-weight: bold\"> VALUE </span>┃<span style=\"font-weight: bold\"> INDEX_DATE </span>┃\n",
       "┡━━━━━━━━━━━╇━━━━━━━━━╇━━━━━━━━━━━━╇━━━━━━━╇━━━━━━━━━━━━┩\n",
       "│ <span style=\"color: #7f7f7f; text-decoration-color: #7f7f7f\">int64</span>     │ <span style=\"color: #7f7f7f; text-decoration-color: #7f7f7f\">boolean</span> │ <span style=\"color: #7f7f7f; text-decoration-color: #7f7f7f\">date</span>       │ <span style=\"color: #7f7f7f; text-decoration-color: #7f7f7f\">int64</span> │ <span style=\"color: #7f7f7f; text-decoration-color: #7f7f7f\">date</span>       │\n",
       "├───────────┼─────────┼────────────┼───────┼────────────┤\n",
       "│ <span style=\"color: #008080; text-decoration-color: #008080; font-weight: bold\">314835952</span> │ True    │ <span style=\"color: #800080; text-decoration-color: #800080\">2020-11-13</span> │  <span style=\"color: #7f7f7f; text-decoration-color: #7f7f7f\">NULL</span> │ <span style=\"color: #800080; text-decoration-color: #800080\">2020-11-13</span> │\n",
       "│ <span style=\"color: #008080; text-decoration-color: #008080; font-weight: bold\">760829119</span> │ True    │ <span style=\"color: #800080; text-decoration-color: #800080\">2017-11-17</span> │  <span style=\"color: #7f7f7f; text-decoration-color: #7f7f7f\">NULL</span> │ <span style=\"color: #800080; text-decoration-color: #800080\">2017-11-17</span> │\n",
       "│ <span style=\"color: #008080; text-decoration-color: #008080; font-weight: bold\">773915894</span> │ True    │ <span style=\"color: #800080; text-decoration-color: #800080\">2022-08-18</span> │  <span style=\"color: #7f7f7f; text-decoration-color: #7f7f7f\">NULL</span> │ <span style=\"color: #800080; text-decoration-color: #800080\">2022-08-18</span> │\n",
       "│ <span style=\"color: #008080; text-decoration-color: #008080; font-weight: bold\">399177003</span> │ True    │ <span style=\"color: #800080; text-decoration-color: #800080\">2015-12-15</span> │  <span style=\"color: #7f7f7f; text-decoration-color: #7f7f7f\">NULL</span> │ <span style=\"color: #800080; text-decoration-color: #800080\">2015-12-15</span> │\n",
       "│ <span style=\"color: #008080; text-decoration-color: #008080; font-weight: bold\">141972639</span> │ True    │ <span style=\"color: #800080; text-decoration-color: #800080\">2021-09-01</span> │  <span style=\"color: #7f7f7f; text-decoration-color: #7f7f7f\">NULL</span> │ <span style=\"color: #800080; text-decoration-color: #800080\">2021-09-01</span> │\n",
       "│  <span style=\"color: #008080; text-decoration-color: #008080; font-weight: bold\">84546653</span> │ True    │ <span style=\"color: #800080; text-decoration-color: #800080\">2016-06-13</span> │  <span style=\"color: #7f7f7f; text-decoration-color: #7f7f7f\">NULL</span> │ <span style=\"color: #800080; text-decoration-color: #800080\">2016-06-13</span> │\n",
       "│ <span style=\"color: #008080; text-decoration-color: #008080; font-weight: bold\">212220818</span> │ True    │ <span style=\"color: #800080; text-decoration-color: #800080\">2019-07-23</span> │  <span style=\"color: #7f7f7f; text-decoration-color: #7f7f7f\">NULL</span> │ <span style=\"color: #800080; text-decoration-color: #800080\">2019-07-23</span> │\n",
       "│ <span style=\"color: #008080; text-decoration-color: #008080; font-weight: bold\">257386722</span> │ True    │ <span style=\"color: #800080; text-decoration-color: #800080\">2021-07-02</span> │  <span style=\"color: #7f7f7f; text-decoration-color: #7f7f7f\">NULL</span> │ <span style=\"color: #800080; text-decoration-color: #800080\">2021-07-02</span> │\n",
       "│ <span style=\"color: #008080; text-decoration-color: #008080; font-weight: bold\">253280606</span> │ True    │ <span style=\"color: #800080; text-decoration-color: #800080\">2022-01-21</span> │  <span style=\"color: #7f7f7f; text-decoration-color: #7f7f7f\">NULL</span> │ <span style=\"color: #800080; text-decoration-color: #800080\">2022-01-21</span> │\n",
       "│ <span style=\"color: #008080; text-decoration-color: #008080; font-weight: bold\">241072434</span> │ True    │ <span style=\"color: #800080; text-decoration-color: #800080\">2021-02-01</span> │  <span style=\"color: #7f7f7f; text-decoration-color: #7f7f7f\">NULL</span> │ <span style=\"color: #800080; text-decoration-color: #800080\">2021-02-01</span> │\n",
       "│         <span style=\"color: #7f7f7f; text-decoration-color: #7f7f7f\">…</span> │ <span style=\"color: #7f7f7f; text-decoration-color: #7f7f7f\">…</span>       │ <span style=\"color: #7f7f7f; text-decoration-color: #7f7f7f\">…</span>          │     <span style=\"color: #7f7f7f; text-decoration-color: #7f7f7f\">…</span> │ <span style=\"color: #7f7f7f; text-decoration-color: #7f7f7f\">…</span>          │\n",
       "└───────────┴─────────┴────────────┴───────┴────────────┘\n",
       "</pre>\n"
      ],
      "text/plain": [
       "┏━━━━━━━━━━━┳━━━━━━━━━┳━━━━━━━━━━━━┳━━━━━━━┳━━━━━━━━━━━━┓\n",
       "┃\u001b[1m \u001b[0m\u001b[1mPERSON_ID\u001b[0m\u001b[1m \u001b[0m┃\u001b[1m \u001b[0m\u001b[1mBOOLEAN\u001b[0m\u001b[1m \u001b[0m┃\u001b[1m \u001b[0m\u001b[1mEVENT_DATE\u001b[0m\u001b[1m \u001b[0m┃\u001b[1m \u001b[0m\u001b[1mVALUE\u001b[0m\u001b[1m \u001b[0m┃\u001b[1m \u001b[0m\u001b[1mINDEX_DATE\u001b[0m\u001b[1m \u001b[0m┃\n",
       "┡━━━━━━━━━━━╇━━━━━━━━━╇━━━━━━━━━━━━╇━━━━━━━╇━━━━━━━━━━━━┩\n",
       "│ \u001b[2mint64\u001b[0m     │ \u001b[2mboolean\u001b[0m │ \u001b[2mdate\u001b[0m       │ \u001b[2mint64\u001b[0m │ \u001b[2mdate\u001b[0m       │\n",
       "├───────────┼─────────┼────────────┼───────┼────────────┤\n",
       "│ \u001b[1;36m314835952\u001b[0m │ True    │ \u001b[35m2020-11-13\u001b[0m │  \u001b[2mNULL\u001b[0m │ \u001b[35m2020-11-13\u001b[0m │\n",
       "│ \u001b[1;36m760829119\u001b[0m │ True    │ \u001b[35m2017-11-17\u001b[0m │  \u001b[2mNULL\u001b[0m │ \u001b[35m2017-11-17\u001b[0m │\n",
       "│ \u001b[1;36m773915894\u001b[0m │ True    │ \u001b[35m2022-08-18\u001b[0m │  \u001b[2mNULL\u001b[0m │ \u001b[35m2022-08-18\u001b[0m │\n",
       "│ \u001b[1;36m399177003\u001b[0m │ True    │ \u001b[35m2015-12-15\u001b[0m │  \u001b[2mNULL\u001b[0m │ \u001b[35m2015-12-15\u001b[0m │\n",
       "│ \u001b[1;36m141972639\u001b[0m │ True    │ \u001b[35m2021-09-01\u001b[0m │  \u001b[2mNULL\u001b[0m │ \u001b[35m2021-09-01\u001b[0m │\n",
       "│  \u001b[1;36m84546653\u001b[0m │ True    │ \u001b[35m2016-06-13\u001b[0m │  \u001b[2mNULL\u001b[0m │ \u001b[35m2016-06-13\u001b[0m │\n",
       "│ \u001b[1;36m212220818\u001b[0m │ True    │ \u001b[35m2019-07-23\u001b[0m │  \u001b[2mNULL\u001b[0m │ \u001b[35m2019-07-23\u001b[0m │\n",
       "│ \u001b[1;36m257386722\u001b[0m │ True    │ \u001b[35m2021-07-02\u001b[0m │  \u001b[2mNULL\u001b[0m │ \u001b[35m2021-07-02\u001b[0m │\n",
       "│ \u001b[1;36m253280606\u001b[0m │ True    │ \u001b[35m2022-01-21\u001b[0m │  \u001b[2mNULL\u001b[0m │ \u001b[35m2022-01-21\u001b[0m │\n",
       "│ \u001b[1;36m241072434\u001b[0m │ True    │ \u001b[35m2021-02-01\u001b[0m │  \u001b[2mNULL\u001b[0m │ \u001b[35m2021-02-01\u001b[0m │\n",
       "│         \u001b[2m…\u001b[0m │ \u001b[2m…\u001b[0m       │ \u001b[2m…\u001b[0m          │     \u001b[2m…\u001b[0m │ \u001b[2m…\u001b[0m          │\n",
       "└───────────┴─────────┴────────────┴───────┴────────────┘"
      ]
     },
     "execution_count": 32,
     "metadata": {},
     "output_type": "execute_result"
    }
   ],
   "source": [
    "cohort.execute(mapped_tables, con = con, n_threads=6, overwrite=True, lazy_execution=True)"
   ]
  },
  {
   "cell_type": "markdown",
   "id": "52b6fa1c-d661-40b2-bd8b-0fbba8787aa4",
   "metadata": {},
   "source": [
    "## Reporting\n",
    "Once you're done executing the cohort, PhenEx provides basic reporting of attrition, baseline characteristics, and time to event.\n",
    "### Attrition\n",
    "The attrition table shows the flow of patients to result in your final cohort. The first row is the entry criterion. \n",
    "- The N column shows how many patients in the entire dataset fulfill the entry criterium. The N column in the following rows shows how many patients that fulfill the entry criterium fulfill the criterium on that row.\n",
    "- The Remaining column shows how many patients remain after applying the criterium on that row.\n",
    "- The % column shows how many remaining, as a percentage of the entry criterium\n",
    "- The delta column shows how many patients are lost after applying the criterium on each row"
   ]
  },
  {
   "cell_type": "code",
   "execution_count": 27,
   "id": "bbebef2e-54f5-4b3b-a3b6-804ed14d7943",
   "metadata": {},
   "outputs": [
    {
     "name": "stderr",
     "output_type": "stream",
     "text": [
      "2025-09-09 12:03:49,494 - phenex.reporting.waterfall - DEBUG - Beginning execution of waterfall. Calculating N patents\n",
      "2025-09-09 12:04:01,818 - phenex.reporting.waterfall - DEBUG - Cohort has 72798 patients\n",
      "2025-09-09 12:04:02,581 - phenex.reporting.waterfall - DEBUG - Starting inclusion criteria ONE_YEAR_COVERAGE\n",
      "2025-09-09 12:04:08,012 - phenex.reporting.waterfall - DEBUG - Finished inclusion criteria ONE_YEAR_COVERAGE: N = 80974 waterfall = 80974\n",
      "2025-09-09 12:04:08,021 - phenex.reporting.waterfall - DEBUG - Starting inclusion criteria AGE_G18\n",
      "2025-09-09 12:04:16,360 - phenex.reporting.waterfall - DEBUG - Finished inclusion criteria AGE_G18: N = 101538 waterfall = 80911\n",
      "2025-09-09 12:04:16,371 - phenex.reporting.waterfall - DEBUG - Starting exclusion criteria MYOCARDIAL_INFARCTION_HOSPITALIZATION\n",
      "2025-09-09 12:04:35,110 - phenex.reporting.waterfall - DEBUG - Finished exclusion criteria MYOCARDIAL_INFARCTION_HOSPITALIZATION: N = 9744 waterfall = 72798\n"
     ]
    },
    {
     "data": {
      "text/html": [
       "<div>\n",
       "<style scoped>\n",
       "    .dataframe tbody tr th:only-of-type {\n",
       "        vertical-align: middle;\n",
       "    }\n",
       "\n",
       "    .dataframe tbody tr th {\n",
       "        vertical-align: top;\n",
       "    }\n",
       "\n",
       "    .dataframe thead th {\n",
       "        text-align: right;\n",
       "    }\n",
       "</style>\n",
       "<table border=\"1\" class=\"dataframe\">\n",
       "  <thead>\n",
       "    <tr style=\"text-align: right;\">\n",
       "      <th></th>\n",
       "      <th>Type</th>\n",
       "      <th>Name</th>\n",
       "      <th>N</th>\n",
       "      <th>Remaining</th>\n",
       "      <th>%</th>\n",
       "      <th>Delta</th>\n",
       "    </tr>\n",
       "  </thead>\n",
       "  <tbody>\n",
       "    <tr>\n",
       "      <th>0</th>\n",
       "      <td>entry</td>\n",
       "      <td>First atrial fibrillation diagnosis</td>\n",
       "      <td>101624</td>\n",
       "      <td>101624</td>\n",
       "      <td>100.0</td>\n",
       "      <td></td>\n",
       "    </tr>\n",
       "    <tr>\n",
       "      <th>1</th>\n",
       "      <td>inclusion</td>\n",
       "      <td>One year coverage</td>\n",
       "      <td>80974</td>\n",
       "      <td>80974</td>\n",
       "      <td>79.7</td>\n",
       "      <td>-20650</td>\n",
       "    </tr>\n",
       "    <tr>\n",
       "      <th>2</th>\n",
       "      <td></td>\n",
       "      <td>Age g18</td>\n",
       "      <td>101538</td>\n",
       "      <td>80911</td>\n",
       "      <td>79.6</td>\n",
       "      <td>-63</td>\n",
       "    </tr>\n",
       "    <tr>\n",
       "      <th>3</th>\n",
       "      <td>exclusion</td>\n",
       "      <td>Myocardial infarction hospitalization</td>\n",
       "      <td>9744</td>\n",
       "      <td>72798</td>\n",
       "      <td>71.6</td>\n",
       "      <td>-8113</td>\n",
       "    </tr>\n",
       "    <tr>\n",
       "      <th>4</th>\n",
       "      <td>final_cohort</td>\n",
       "      <td></td>\n",
       "      <td></td>\n",
       "      <td>72798</td>\n",
       "      <td>71.6</td>\n",
       "      <td></td>\n",
       "    </tr>\n",
       "  </tbody>\n",
       "</table>\n",
       "</div>"
      ],
      "text/plain": [
       "           Type                                   Name       N  Remaining  \\\n",
       "0         entry    First atrial fibrillation diagnosis  101624     101624   \n",
       "1     inclusion                      One year coverage   80974      80974   \n",
       "2                                              Age g18  101538      80911   \n",
       "3     exclusion  Myocardial infarction hospitalization    9744      72798   \n",
       "4  final_cohort                                                     72798   \n",
       "\n",
       "       %   Delta  \n",
       "0  100.0          \n",
       "1   79.7  -20650  \n",
       "2   79.6     -63  \n",
       "3   71.6   -8113  \n",
       "4   71.6          "
      ]
     },
     "execution_count": 27,
     "metadata": {},
     "output_type": "execute_result"
    }
   ],
   "source": [
    "from phenex.reporting import Waterfall\n",
    "\n",
    "reporter = Waterfall()\n",
    "reporter.execute(cohort)"
   ]
  },
  {
   "cell_type": "markdown",
   "id": "d2d30e0b-ab81-4369-a192-0d6fe2a6b95e",
   "metadata": {},
   "source": [
    "### Table 1\n",
    "We can look at summary statistics of our baseline characteristics using PhenEx. The order of the phenotypes in the list of characteristics determines the order in Table1.\n",
    "- The N column shows how many patients that fulfill the entry criterium fulfill the criterium on that row\n",
    "- The % column shows the percentage of patients that fulfill the entry criterium have the criterium on that row\n",
    "- For categorically valued phenotypes (e.g Categorical Phenotype, BinPhenotype), we see a row for each category found\n",
    "- For numerically valued phenotypes (e.g. MeasurementPhenotype, AgePhenotype), we see summary statistics"
   ]
  },
  {
   "cell_type": "code",
   "execution_count": 28,
   "id": "aca9519e-a180-4abc-99d8-ff4a60abe3cd",
   "metadata": {},
   "outputs": [
    {
     "name": "stderr",
     "output_type": "stream",
     "text": [
      "2025-09-09 12:04:38,491 - phenex.phenotypes.cohort - DEBUG - Generating Table1 report ...\n",
      "2025-09-09 12:04:39,717 - phenex.reporting.table1 - DEBUG - Starting with categorical columns for table1\n",
      "2025-09-09 12:04:39,718 - phenex.reporting.table1 - DEBUG - Found 1 : ['SEX']\n",
      "2025-09-09 12:04:51,567 - phenex.reporting.table1 - DEBUG - Starting with boolean columns for table1\n",
      "2025-09-09 12:04:51,568 - phenex.reporting.table1 - DEBUG - Found 1 : ['DEATH_30DAYS']\n",
      "2025-09-09 12:05:04,350 - phenex.reporting.table1 - DEBUG - Starting with value columns for table1\n",
      "2025-09-09 12:05:04,351 - phenex.reporting.table1 - DEBUG - Found 1 : ['AGE']\n",
      "2025-09-09 12:06:17,587 - phenex.reporting.table1 - DEBUG - Finished creating table1\n",
      "2025-09-09 12:06:17,596 - phenex.phenotypes.cohort - DEBUG - Table1 report generated.\n"
     ]
    },
    {
     "data": {
      "text/html": [
       "<div>\n",
       "<style scoped>\n",
       "    .dataframe tbody tr th:only-of-type {\n",
       "        vertical-align: middle;\n",
       "    }\n",
       "\n",
       "    .dataframe tbody tr th {\n",
       "        vertical-align: top;\n",
       "    }\n",
       "\n",
       "    .dataframe thead th {\n",
       "        text-align: right;\n",
       "    }\n",
       "</style>\n",
       "<table border=\"1\" class=\"dataframe\">\n",
       "  <thead>\n",
       "    <tr style=\"text-align: right;\">\n",
       "      <th></th>\n",
       "      <th>Name</th>\n",
       "      <th>N</th>\n",
       "      <th>%</th>\n",
       "      <th>Mean</th>\n",
       "      <th>STD</th>\n",
       "      <th>Median</th>\n",
       "      <th>Min</th>\n",
       "      <th>Max</th>\n",
       "    </tr>\n",
       "  </thead>\n",
       "  <tbody>\n",
       "    <tr>\n",
       "      <th>0</th>\n",
       "      <td>Cohort</td>\n",
       "      <td>72798</td>\n",
       "      <td>100.0</td>\n",
       "      <td></td>\n",
       "      <td></td>\n",
       "      <td></td>\n",
       "      <td></td>\n",
       "      <td></td>\n",
       "    </tr>\n",
       "    <tr>\n",
       "      <th>1</th>\n",
       "      <td>Age</td>\n",
       "      <td>72798</td>\n",
       "      <td>100.0</td>\n",
       "      <td>71.3</td>\n",
       "      <td>11.2</td>\n",
       "      <td>74.0</td>\n",
       "      <td>19.0</td>\n",
       "      <td>89.0</td>\n",
       "    </tr>\n",
       "    <tr>\n",
       "      <th>2</th>\n",
       "      <td>Sex=Female</td>\n",
       "      <td>33352</td>\n",
       "      <td>45.8</td>\n",
       "      <td></td>\n",
       "      <td></td>\n",
       "      <td></td>\n",
       "      <td></td>\n",
       "      <td></td>\n",
       "    </tr>\n",
       "    <tr>\n",
       "      <th>3</th>\n",
       "      <td>Sex=Male</td>\n",
       "      <td>39446</td>\n",
       "      <td>54.2</td>\n",
       "      <td></td>\n",
       "      <td></td>\n",
       "      <td></td>\n",
       "      <td></td>\n",
       "      <td></td>\n",
       "    </tr>\n",
       "    <tr>\n",
       "      <th>4</th>\n",
       "      <td>Death 30days</td>\n",
       "      <td>1343</td>\n",
       "      <td>1.8</td>\n",
       "      <td></td>\n",
       "      <td></td>\n",
       "      <td></td>\n",
       "      <td></td>\n",
       "      <td></td>\n",
       "    </tr>\n",
       "  </tbody>\n",
       "</table>\n",
       "</div>"
      ],
      "text/plain": [
       "           Name      N      %  Mean   STD Median   Min   Max\n",
       "0        Cohort  72798  100.0                               \n",
       "1           Age  72798  100.0  71.3  11.2   74.0  19.0  89.0\n",
       "2    Sex=Female  33352   45.8                               \n",
       "3      Sex=Male  39446   54.2                               \n",
       "4  Death 30days   1343    1.8                               "
      ]
     },
     "execution_count": 28,
     "metadata": {},
     "output_type": "execute_result"
    }
   ],
   "source": [
    "### Table 1\n",
    "cohort.table1"
   ]
  },
  {
   "cell_type": "markdown",
   "id": "ac44ab38-9e23-442c-ab73-5356a9787f59",
   "metadata": {},
   "source": [
    "### Time to event analysis\n",
    "PhenEx allows you do to basic time to event analyses. KaplanMeier curves are currently supported. You simply define your right censoring phenotypes, and then create a time to event reporter. The survival curve is then generated for you."
   ]
  },
  {
   "cell_type": "code",
   "execution_count": 30,
   "id": "f199d7ba-044c-4087-b2fa-1859d967b5f6",
   "metadata": {},
   "outputs": [
    {
     "data": {
      "image/png": "[encoded data removed]",
      "text/plain": [
       "<Figure size 640x480 with 2 Axes>"
      ]
     },
     "metadata": {},
     "output_type": "display_data"
    }
   ],
   "source": [
    "import datetime\n",
    "from phenex.reporting import TimeToEvent\n",
    "from phenex.phenotypes import DeathPhenotype\n",
    "\n",
    "\n",
    "end_of_followup = TimeRangePhenotype(\n",
    "    name='end_of_followup',\n",
    "    relative_time_range=RelativeTimeRangeFilter(when='after')\n",
    ")\n",
    "\n",
    "death_right_censor = DeathPhenotype(\n",
    "    name = 'death_censoring',\n",
    "    domain='DEATH',\n",
    "    relative_time_range=f_postindex\n",
    ")\n",
    "right_censor_phenotypes = [end_of_followup, death_right_censor]\n",
    "\n",
    "\n",
    "tte = TimeToEvent(\n",
    "    right_censor_phenotypes = right_censor_phenotypes, \n",
    "    end_of_study_period=datetime.date(2025,12,12)\n",
    ")\n",
    "\n",
    "tte.execute(cohort)\n",
    "\n",
    "\n",
    "tte.plot_single_kaplan_meier(xlim=[0,90], outcome_index=0)\n",
    "\n"
   ]
  },
  {
   "cell_type": "code",
   "execution_count": null,
   "id": "9f562e0d-6520-44b1-8bfc-f0fff4e7cf82",
   "metadata": {},
   "outputs": [],
   "source": []
  }
 ],
 "metadata": {
  "kernelspec": {
   "display_name": "Python 3 (ipykernel)",
   "language": "python",
   "name": "python3"
  },
  "language_info": {
   "codemirror_mode": {
    "name": "ipython",
    "version": 3
   },
   "file_extension": ".py",
   "mimetype": "text/x-python",
   "name": "python",
   "nbconvert_exporter": "python",
   "pygments_lexer": "ipython3",
   "version": "3.12.7"
  }
 },
 "nbformat": 4,
 "nbformat_minor": 5
}
