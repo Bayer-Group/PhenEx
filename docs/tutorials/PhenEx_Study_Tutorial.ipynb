{
 "cells": [
  {
   "cell_type": "markdown",
   "id": "0078d266-ba5a-4d61-8a85-ac8009b83e8d",
   "metadata": {},
   "source": [
    "# PhenEx Study Tutorial\n",
    "In this page we will show you how to use PhenEx to :\n",
    "1. Connect to a Snowflake Database\n",
    "2. Work with OMOP data\n",
    "3. Create a simple cohort\n",
    "4. View cohort summary statistics\n",
    "\n",
    "First make sure that your PhenEx version is up to date"
   ]
  },
  {
   "cell_type": "code",
   "execution_count": null,
   "id": "e5131ab7-1d0d-420e-bf05-93645deca698",
   "metadata": {
    "scrolled": true
   },
   "outputs": [],
   "source": [
    "# For updating PhenEx to latest released version\n",
    "!pip install -Uq PhenEx"
   ]
  },
  {
   "cell_type": "code",
   "execution_count": null,
   "id": "b2f58d68-3d0c-43a1-8258-ea56c682f1e6",
   "metadata": {},
   "outputs": [],
   "source": [
    "import ibis\n",
    "ibis.options.interactive = True"
   ]
  },
  {
   "cell_type": "markdown",
   "id": "99d53acc-1e03-4c4b-b119-d373a876533e",
   "metadata": {},
   "source": [
    "## Set Snowflake Credentials\n",
    "PhenEx needs to connect to a Snowflake backend and therefore needs your login credentials. There are two ways to do this : (1) explicitly or (2) using an .env (dot env) file. We show how to do both, but only do one!\n",
    "### Method 1 :"
   ]
  },
  {
   "cell_type": "code",
   "execution_count": null,
   "id": "8af0e751-140b-4dce-83c7-ee54ce5aec8c",
   "metadata": {},
   "outputs": [],
   "source": [
    "# import os\n",
    "\n",
    "# # authentication\n",
    "# os.environ.update({\n",
    "#     'SNOWFLAKE_ACCOUNT':'ACOUNT',\n",
    "#     'SNOWFLAKE_WAREHOUSE':'WAREHOUSE'\n",
    "#     'SNOWFLAKE_ROLE':'ROLE'\n",
    "#     'SNOWFLAKE_USER':'USER'\n",
    "# })"
   ]
  },
  {
   "cell_type": "markdown",
   "id": "875a0e1d-0906-4a98-a410-6a180a3f060b",
   "metadata": {},
   "source": [
    "### Method 2 :\n",
    "You can also specify these with using a dotenv file (https://github.com/motdotla/dotenv). One advantage to doing this is that you do not put sensitive credential information into your jupyter notebook."
   ]
  },
  {
   "cell_type": "code",
   "execution_count": null,
   "id": "25dc5fee-e0ea-4142-8041-45022301b4f2",
   "metadata": {},
   "outputs": [],
   "source": [
    "from dotenv import load_dotenv\n",
    "load_dotenv()"
   ]
  },
  {
   "cell_type": "markdown",
   "id": "094d6ff6-c304-4fef-a3ac-a9c738acfbe8",
   "metadata": {},
   "source": [
    "If you see True above, it means python was able to find and load your environment file.\n",
    "\n"
   ]
  },
  {
   "cell_type": "markdown",
   "id": "497ef214-162b-4c63-a550-f860f64a9e83",
   "metadata": {},
   "source": [
    "## Connect to the database"
   ]
  },
  {
   "cell_type": "markdown",
   "id": "c955d956-f188-4131-bc75-88ae306b103a",
   "metadata": {},
   "source": [
    "We will now establish a connection to Snowflake using a SnowflakeConnector; these connectors will use your environment variables (set above) for login credentials.\n",
    "\n",
    "At this point we must define two databases in Snowflake:\n",
    "1. Source : the snowflake location where input data to phenex should come from\n",
    "2. Destination (dest) : the snowflake location where output data from phenex should be written. The destination will be created if it does not exist.\n",
    "\n",
    "Run this cell to connect to these databases; this cell will open up two browser tabs (if you're using browser authentication). After those pages load (wait for them to say completed!), close them and return to this notebook."
   ]
  },
  {
   "cell_type": "code",
   "execution_count": null,
   "id": "8a09bff6-e615-41dd-8316-515d826d349b",
   "metadata": {},
   "outputs": [],
   "source": [
    "%%capture\n",
    "from phenex.ibis_connect import SnowflakeConnector\n",
    "\n",
    "con = SnowflakeConnector(\n",
    "    # SNOWFLAKE_SOURCE_DATABASE = 'SOURCE_DATABASE', # enter these, use or use the .env file\n",
    "    # SNOWFLAKE_DEST_DATABASE = 'DEST_DATABASE'      # enter these, use or use the .env file\n",
    ")"
   ]
  },
  {
   "cell_type": "markdown",
   "id": "9906abc3-1027-4b2e-a643-cbe36ffbcf83",
   "metadata": {},
   "source": [
    "Notice that both of these locations can also be specified using environment variables (like we did in method 1/2 for credentials), and vice versa (credentials can be passed to a connector as keyword arguments, rather being hidden in the .env file). However, as credentials generally remain the same between projects and the database locations are project dependent, it is best practice to define database locations with the connector.\n"
   ]
  },
  {
   "cell_type": "markdown",
   "id": "f7ca99f7-8ed0-40ac-b6e6-8fd3000989a1",
   "metadata": {},
   "source": [
    "## Define input data structure"
   ]
  },
  {
   "cell_type": "markdown",
   "id": "6b1bd3bb-c3a3-4a71-a4c2-8f1652fdcf12",
   "metadata": {},
   "source": [
    "PhenEx needs to know a little bit about the structure of the input data in order to help us make phenotypes and cohorts.\n",
    "\n",
    "What this means is that PhenEx knows in what table and column to find information such as patient id, year of birth, diagnosis events, etc. This information is generally present in all RWD sources, but for each data source, is (1) organized in a different way and (2) can have different column names.\n",
    "\n",
    "When using a new data source, we need to onboard that database for usage with PhenEx (tell it about table structure and column names). Go to the [tutorial on onboarding a new database](/2_Onboarding_New_Database.ipynb) to learn how to onboard a database.\n",
    "\n",
    "For the purposes of this tutorial, we will be using OMOP data, which is already onboarded and available in the PhenEx library. All we have to do is import the OMOPDomains and then get the mapped tables."
   ]
  },
  {
   "cell_type": "code",
   "execution_count": null,
   "id": "23e00290-f1be-4d05-af48-9e804f489811",
   "metadata": {},
   "outputs": [],
   "source": [
    "from phenex.mappers import OMOPDomains\n",
    "omop_mapped_tables = OMOPDomains.get_mapped_tables(con)\n",
    "list(omop_mapped_tables.keys())"
   ]
  },
  {
   "cell_type": "markdown",
   "id": "298a929e-229d-401c-bdcd-f62d3703c5f5",
   "metadata": {},
   "source": [
    "### Looking at input data\n",
    "PhenEx bundles all input data into a dictionary, in this case in the variable called omop_mapped_tables. The keys in this dictionary are known as 'domains'; we can access the input data by these domain keys. The values for each key are the actual tables"
   ]
  },
  {
   "cell_type": "markdown",
   "id": "3ef2a10b-3ecb-47ee-b6e4-fc9462f83425",
   "metadata": {},
   "source": [
    "## Integrating medical codelists"
   ]
  },
  {
   "cell_type": "code",
   "execution_count": null,
   "id": "0fd58cfe-5f2a-440b-8104-db809f3d63f3",
   "metadata": {},
   "outputs": [],
   "source": [
    "from phenex.codelists import LocalCSVCodelistFactory\n",
    "\n",
    "codelist_factory = LocalCSVCodelistFactory(\n",
    "    path='./codelists_for_tutorial.csv',\n",
    "    name_code_column='CONCEPT_ID',\n",
    "    name_codelist_column='CODELIST',\n",
    "    name_code_type_column = 'VOCABULARY_ID'\n",
    ")\n",
    "\n",
    "# let's see what codelists are available\n",
    "codelist_factory.get_codelists()"
   ]
  },
  {
   "cell_type": "markdown",
   "id": "4b39e4a3-d4ee-4213-9b28-2b7d14084a9b",
   "metadata": {},
   "source": [
    "## Cohort Definition"
   ]
  },
  {
   "cell_type": "markdown",
   "id": "3f83ea41-de39-49dc-9692-5d5cf8d73e2e",
   "metadata": {},
   "source": [
    "### Entry criterion"
   ]
  },
  {
   "cell_type": "code",
   "execution_count": null,
   "id": "76c98263-4d99-42fa-97d2-b4ccf3af30b3",
   "metadata": {},
   "outputs": [],
   "source": [
    "from phenex.phenotypes.codelist_phenotype import CodelistPhenotype\n",
    "from phenex.codelists.codelists import Codelist\n",
    "\n",
    "cl_af = codelist_factory.get_codelist('ATRIAL_FIBRILLATION').copy(use_code_type=False)\n",
    "pt_entry = CodelistPhenotype(\n",
    "    name='first_atrial_fibrillation_diagnosis',\n",
    "    domain='CONDITION_OCCURRENCE',\n",
    "    codelist=cl_af,\n",
    "    return_date='first',\n",
    ")"
   ]
  },
  {
   "cell_type": "code",
   "execution_count": null,
   "id": "2744188e-3cc4-402e-923d-a14b5e14307b",
   "metadata": {},
   "outputs": [],
   "source": [
    "pt_entry.execute(omop_mapped_tables)\n",
    "pt_entry.table"
   ]
  },
  {
   "cell_type": "markdown",
   "id": "06d60576-81bb-4cd8-b549-2cc5941b2b55",
   "metadata": {},
   "source": [
    "### Inclusions\n",
    "#### Inclusion 1 : One year continuous coverage"
   ]
  },
  {
   "cell_type": "code",
   "execution_count": null,
   "id": "dfaf27dc-242f-44db-9b31-4d3ff43c6275",
   "metadata": {},
   "outputs": [],
   "source": [
    "from phenex.phenotypes import TimeRangePhenotype\n",
    "from phenex.filters import RelativeTimeRangeFilter, GreaterThanOrEqualTo\n",
    "\n",
    "pt_inclusion1 = TimeRangePhenotype(\n",
    "    name = 'one_year_coverage',\n",
    "    relative_time_range=RelativeTimeRangeFilter(\n",
    "        when='before',\n",
    "        min_days=GreaterThanOrEqualTo(365),\n",
    "        anchor_phenotype=pt_entry # this is only necessary if we want to execute pt_inclusion1 outside of a cohort.\n",
    "    )\n",
    ")\n",
    "\n",
    "pt_inclusion1.execute(omop_mapped_tables)"
   ]
  },
  {
   "cell_type": "markdown",
   "id": "e380bb5f-cbcb-4580-a744-783909d17cc7",
   "metadata": {},
   "source": [
    "#### Inclusion 2 : Age greater than 18"
   ]
  },
  {
   "cell_type": "code",
   "execution_count": null,
   "id": "9d8f0352-8381-497a-afbd-de8643d04688",
   "metadata": {},
   "outputs": [],
   "source": [
    "from phenex.phenotypes import AgePhenotype\n",
    "from phenex.filters import ValueFilter, GreaterThan\n",
    "\n",
    "pt_inclusion2 = AgePhenotype(\n",
    "    name = 'age_g18',\n",
    "    value_filter = ValueFilter(\n",
    "        min_value=GreaterThan(18)\n",
    "    ),\n",
    "    anchor_phenotype=pt_entry # this is only necessary if we want to execute pt_inclusion1 outside of a cohort.\n",
    ")\n",
    "\n",
    "pt_inclusion2.execute(omop_mapped_tables)"
   ]
  },
  {
   "cell_type": "code",
   "execution_count": null,
   "id": "f1b4111b-da1c-4a77-839a-ee79d9957724",
   "metadata": {},
   "outputs": [],
   "source": [
    "inclusions = [pt_inclusion1, pt_inclusion2]"
   ]
  },
  {
   "cell_type": "markdown",
   "id": "bd9c0cc1-024e-43f9-969b-91f4d478c8f9",
   "metadata": {},
   "source": [
    "### Exclusions\n",
    "#### Exclusion 1 : Inpatient myocardial infarction diagnosis"
   ]
  },
  {
   "cell_type": "code",
   "execution_count": null,
   "id": "d48d0b62-250e-4534-81e9-9d297fc8b3b3",
   "metadata": {},
   "outputs": [],
   "source": [
    "\n",
    "from phenex.filters import GreaterThan\n",
    "from phenex.filters.categorical_filter import CategoricalFilter\n",
    "from phenex.filters import CategoricalFilter, RelativeTimeRangeFilter, GreaterThanOrEqualTo, LessThan\n",
    "\n",
    "f_inpatient = CategoricalFilter(\n",
    "    allowed_values = [\n",
    "        9203,   #Emergency Room Visit\n",
    "        262,    #Emergency Room and Inpatient Visit\n",
    "        9201,   #Inpatient Visit\n",
    "    ],\n",
    "    column_name = 'VISIT_CONCEPT_ID',\n",
    "    domain = 'VISIT_OCCURRENCE'\n",
    ")\n",
    "\n",
    "\n",
    "f_one_year_pre_index = RelativeTimeRangeFilter(\n",
    "    when='before',\n",
    "    anchor_phenotype=pt_entry, # this is only necessary if we want to execute pt_inclusion1 outside of a cohort.\n",
    "    min_days=GreaterThanOrEqualTo(0),\n",
    "    max_days=LessThan(365), \n",
    ")\n",
    "\n",
    "cl_mi = codelist_factory.get_codelist('MYOCARDIAL_INFARCTION').copy(use_code_type=False)\n",
    "\n",
    "pt_exclusion1 = CodelistPhenotype(\n",
    "    name='myocardial_infarction_hospitalization',\n",
    "    domain='CONDITION_OCCURRENCE',\n",
    "    codelist=cl_mi,\n",
    "    categorical_filter=f_inpatient,\n",
    "    relative_time_range=f_one_year_pre_index\n",
    ")\n",
    "\n",
    "pt_exclusion1.execute(omop_mapped_tables)"
   ]
  },
  {
   "cell_type": "code",
   "execution_count": null,
   "id": "43ef2971-9061-488c-89dc-7e4845cbd4c6",
   "metadata": {},
   "outputs": [],
   "source": [
    "exclusions = [pt_exclusion1]"
   ]
  },
  {
   "cell_type": "markdown",
   "id": "eb7c85e0-e4e5-42de-80ce-5abce4b54624",
   "metadata": {},
   "source": [
    "### Characteristics"
   ]
  },
  {
   "cell_type": "code",
   "execution_count": null,
   "id": "0b1f1cb6-4e2b-4e4e-ac19-2a514db93e92",
   "metadata": {},
   "outputs": [],
   "source": [
    "from phenex.phenotypes import AgePhenotype, CategoricalPhenotype\n",
    "\n",
    "pt_characteristic1 = AgePhenotype()\n",
    "\n",
    "pt_characteristic2 = CategoricalPhenotype(\n",
    "    name = 'sex',\n",
    "    categorical_filter=CategoricalFilter(column_name=\"GENDER_SOURCE_VALUE\"), domain = \"PERSON\"\n",
    ")\n",
    "\n",
    "characteristics = [pt_characteristic1, pt_characteristic2]"
   ]
  },
  {
   "cell_type": "markdown",
   "id": "ae0f6a25-6d7d-4aac-aa52-cfa9c53610df",
   "metadata": {},
   "source": [
    "### Outcomes"
   ]
  },
  {
   "cell_type": "code",
   "execution_count": null,
   "id": "d0655d1b-c95e-41a4-801d-6a3551de87d4",
   "metadata": {},
   "outputs": [],
   "source": [
    "f_postindex = RelativeTimeRangeFilter(\n",
    "    when='after',\n",
    "    min_days=GreaterThan(0),\n",
    ")\n",
    "\n",
    "\n",
    "pt_outcome1 = CodelistPhenotype(\n",
    "    name='myocardial_infarction_after_index',\n",
    "    domain='CONDITION_OCCURRENCE',\n",
    "    codelist=cl_mi,\n",
    "    categorical_filter=f_inpatient,\n",
    "    relative_time_range=f_postindex\n",
    ")\n",
    "\n"
   ]
  },
  {
   "cell_type": "code",
   "execution_count": null,
   "id": "e41c5cff-86b2-47a3-b471-01a114741aac",
   "metadata": {},
   "outputs": [],
   "source": [
    "outcomes = [pt_outcome1]"
   ]
  },
  {
   "cell_type": "markdown",
   "id": "b0ec0903-d401-48b4-85a5-5fd73747e341",
   "metadata": {},
   "source": [
    "### Create the cohort"
   ]
  },
  {
   "cell_type": "code",
   "execution_count": null,
   "id": "a5e0dc83-664e-4c81-8c34-2d494c169c43",
   "metadata": {},
   "outputs": [],
   "source": [
    "from phenex.phenotypes.cohort import Cohort\n",
    "\n",
    "cohort = Cohort(\n",
    "    name = 'study_tutorial_cohort',\n",
    "    entry_criterion=pt_entry,\n",
    "    inclusions=inclusions,\n",
    "    exclusions=exclusions,\n",
    "    characteristics=characteristics,\n",
    "    outcomes = outcomes,\n",
    ")"
   ]
  },
  {
   "cell_type": "code",
   "execution_count": null,
   "id": "61518c53-2234-48b5-a9fc-bb686b426ed9",
   "metadata": {},
   "outputs": [],
   "source": [
    "cohort.execute(omop_mapped_tables, con = con, n_threads=6, overwrite=True, lazy_execution=True)"
   ]
  },
  {
   "cell_type": "markdown",
   "id": "52b6fa1c-d661-40b2-bd8b-0fbba8787aa4",
   "metadata": {},
   "source": [
    "## Reporting\n",
    "### Attrition"
   ]
  },
  {
   "cell_type": "code",
   "execution_count": null,
   "id": "bbebef2e-54f5-4b3b-a3b6-804ed14d7943",
   "metadata": {},
   "outputs": [],
   "source": [
    "from phenex.reporting import Waterfall\n",
    "\n",
    "reporter = Waterfall()\n",
    "reporter.execute(cohort)"
   ]
  },
  {
   "cell_type": "code",
   "execution_count": null,
   "id": "aca9519e-a180-4abc-99d8-ff4a60abe3cd",
   "metadata": {},
   "outputs": [],
   "source": [
    "### Table 1\n",
    "cohort.table1"
   ]
  },
  {
   "cell_type": "code",
   "execution_count": null,
   "id": "f199d7ba-044c-4087-b2fa-1859d967b5f6",
   "metadata": {},
   "outputs": [],
   "source": [
    "from phenex.reporting import TimeToEvent\n",
    "\n",
    "end_of_followup = TimeRangePhenotype(\n",
    "    name='end_of_followup',\n",
    "    relative_time_range=RelativeTimeRangeFilter(when='after')\n",
    ")\n",
    "\n",
    "death_right_censor = DeathPhenotype(\n",
    "    name = 'death_censoring',\n",
    "    domain='DEATH',\n",
    "    relative_time_range=post_index\n",
    ")\n",
    "right_censor_phenotypes = [end_of_followup, death_right_censor]\n",
    "\n",
    "\n",
    "tte = TimeToEvent(\n",
    "    right_censor_phenotypes = right_censor_phenotypes, \n",
    "    end_of_study_period=datetime.date(2025,12,12)\n",
    ")\n",
    "\n",
    "tte.execute(cohort)\n",
    "\n",
    "print(\"FINISHED WRITING TABLE\")\n",
    "tte.plot_multiple_kaplan_meier(xlim=[0,90], outcome_indices=[0,1,2,3], path_dir=path_output, n_cols=2)\n",
    "print(\"FINISHED SINGLE PLOT\")\n",
    "for i in range(0,4):\n",
    "    print(\"PLOTTIN\",i)\n",
    "    tte.plot_single_kaplan_meier(xlim=[0,90], outcome_index=i, path_dir = path_output)\n",
    "\n"
   ]
  }
 ],
 "metadata": {
  "kernelspec": {
   "display_name": "Python 3 (ipykernel)",
   "language": "python",
   "name": "python3"
  },
  "language_info": {
   "codemirror_mode": {
    "name": "ipython",
    "version": 3
   },
   "file_extension": ".py",
   "mimetype": "text/x-python",
   "name": "python",
   "nbconvert_exporter": "python",
   "pygments_lexer": "ipython3",
   "version": "3.12.7"
  }
 },
 "nbformat": 4,
 "nbformat_minor": 5
}
