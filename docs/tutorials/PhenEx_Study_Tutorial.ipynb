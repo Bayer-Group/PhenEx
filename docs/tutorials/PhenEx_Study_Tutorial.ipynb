{
 "cells": [
  {
   "cell_type": "markdown",
   "id": "0078d266-ba5a-4d61-8a85-ac8009b83e8d",
   "metadata": {},
   "source": [
    "# PhenEx Study Tutorial\n",
    "In this page we will show you how to use PhenEx to :\n",
    "1. Connect to a Snowflake Database\n",
    "2. Work with OMOP data\n",
    "3. Create a simple cohort\n",
    "4. View cohort summary statistics\n",
    "\n",
    "First make sure that your PhenEx version is up to date"
   ]
  },
  {
   "cell_type": "code",
   "execution_count": null,
   "id": "e5131ab7-1d0d-420e-bf05-93645deca698",
   "metadata": {
    "scrolled": true
   },
   "outputs": [],
   "source": [
    "# For updating PhenEx to latest released version\n",
    "# !pip install -Uq PhenEx\n",
    "\n",
    "# For using local source code version of PhenEx\n",
    "# %pip install -e /Users/ahartens/src/PhenEx"
   ]
  },
  {
   "cell_type": "code",
   "execution_count": null,
   "id": "b2f58d68-3d0c-43a1-8258-ea56c682f1e6",
   "metadata": {},
   "outputs": [],
   "source": [
    "import ibis\n",
    "ibis.options.interactive = True"
   ]
  },
  {
   "cell_type": "markdown",
   "id": "99d53acc-1e03-4c4b-b119-d373a876533e",
   "metadata": {},
   "source": [
    "## Set Snowflake Credentials\n",
    "PhenEx needs to connect to a Snowflake backend and therefore needs your login credentials. There are two ways to do this : (1) explicitly or (2) using an .env (dot env) file. We show how to do both, but only do one!\n",
    "### Method 1 :"
   ]
  },
  {
   "cell_type": "code",
   "execution_count": null,
   "id": "8af0e751-140b-4dce-83c7-ee54ce5aec8c",
   "metadata": {},
   "outputs": [],
   "source": [
    "import os\n",
    "\n",
    "# authentication\n",
    "os.environ.update({\n",
    "    'SNOWFLAKE_ACCOUNT':'phrwdstore.us-east-1',\n",
    "    'SNOWFLAKE_WAREHOUSE':'COMPUTE_WH',\n",
    "    'SNOWFLAKE_ROLE':'RWDSTORE_PROJECTS_IEG_RW',\n",
    "    'SNOWFLAKE_USER':'alexander.hartenstein@bayer.com', # ENTER YOUR SNOWFLAKE USERNAME HERE\n",
    "})"
   ]
  },
  {
   "cell_type": "markdown",
   "id": "875a0e1d-0906-4a98-a410-6a180a3f060b",
   "metadata": {},
   "source": [
    "### Method 2 :\n",
    "You can also specify these with using a dotenv file (https://github.com/motdotla/dotenv). One advantage to doing this is that you do not put sensitive credential information into your jupyter notebook."
   ]
  },
  {
   "cell_type": "code",
   "execution_count": null,
   "id": "25dc5fee-e0ea-4142-8041-45022301b4f2",
   "metadata": {},
   "outputs": [],
   "source": [
    "from dotenv import load_dotenv\n",
    "load_dotenv()"
   ]
  },
  {
   "cell_type": "markdown",
   "id": "094d6ff6-c304-4fef-a3ac-a9c738acfbe8",
   "metadata": {},
   "source": [
    "If you see True above, it means python was able to find and load your environment file.\n",
    "\n"
   ]
  },
  {
   "cell_type": "markdown",
   "id": "497ef214-162b-4c63-a550-f860f64a9e83",
   "metadata": {},
   "source": [
    "## Connect to the database"
   ]
  },
  {
   "cell_type": "markdown",
   "id": "c955d956-f188-4131-bc75-88ae306b103a",
   "metadata": {},
   "source": [
    "We will now establish a connection to Snowflake using a SnowflakeConnector; these connectors will use your environment variables (set above) for login credentials.\n",
    "\n",
    "At this point we must define two databases in Snowflake:\n",
    "1. Source : the snowflake location where input data to phenex should come from\n",
    "2. Destination (dest) : the snowflake location where output data from phenex should be written. The destination will be created if it does not exist.\n",
    "\n",
    "Run this cell to connect to these databases; this cell will open up two browser tabs (if you're using browser authentication). After those pages load (wait for them to say completed!), close them and return to this notebook."
   ]
  },
  {
   "cell_type": "code",
   "execution_count": null,
   "id": "8a09bff6-e615-41dd-8316-515d826d349b",
   "metadata": {},
   "outputs": [],
   "source": [
    "%%capture\n",
    "from phenex.ibis_connect import SnowflakeConnector\n",
    "\n",
    "con = SnowflakeConnector(\n",
    "    SNOWFLAKE_SOURCE_DATABASE = 'OPTUM_CLAIMS_OMOP.CDM',\n",
    "    SNOWFLAKE_DEST_DATABASE = 'PROJECTS_IEG.GMEMA_PHENEX_DEV_TEST'\n",
    ")"
   ]
  },
  {
   "cell_type": "markdown",
   "id": "9906abc3-1027-4b2e-a643-cbe36ffbcf83",
   "metadata": {},
   "source": [
    "Notice that both of these locations can also be specified using environment variables (like we did in method 1/2 for credentials), and vice versa (credentials can be passed to a connector as keyword arguments, rather being hidden in the .env file). However, as credentials generally remain the same between projects and the database locations are project dependent, it is best practice to define database locations with the connector.\n"
   ]
  },
  {
   "cell_type": "markdown",
   "id": "f7ca99f7-8ed0-40ac-b6e6-8fd3000989a1",
   "metadata": {},
   "source": [
    "## Define input data structure"
   ]
  },
  {
   "cell_type": "markdown",
   "id": "6b1bd3bb-c3a3-4a71-a4c2-8f1652fdcf12",
   "metadata": {},
   "source": [
    "PhenEx needs to know a little bit about the structure of the input data in order to help us make phenotypes and cohorts.\n",
    "\n",
    "What this means is that PhenEx knows in what table and column to find information such as patient id, year of birth, diagnosis events, etc. This information is generally present in all RWD sources, but for each data source, is (1) organized in a different way and (2) can have different column names.\n",
    "\n",
    "When using a new data source, we need to onboard that database for usage with PhenEx (tell it about table structure and column names). Go to the [tutorial on onboarding a new database](/2_Onboarding_New_Database.ipynb) to learn how to onboard a database.\n",
    "\n",
    "For the purposes of this tutorial, we will be using OMOP data, which is already onboarded and available in the PhenEx library. All we have to do is import the OMOPDomains and then get the mapped tables."
   ]
  },
  {
   "cell_type": "code",
   "execution_count": null,
   "id": "23e00290-f1be-4d05-af48-9e804f489811",
   "metadata": {},
   "outputs": [],
   "source": [
    "from phenex.mappers import OMOPDomains\n",
    "omop_mapped_tables = OMOPDomains.get_mapped_tables(con)\n",
    "omop_domains = list(omop_mapped_tables.keys())\n",
    "omop_domains"
   ]
  },
  {
   "cell_type": "code",
   "execution_count": null,
   "id": "45fb5bb0-102c-4194-b3e9-aad9c6373615",
   "metadata": {},
   "outputs": [],
   "source": [
    "omop_mapped_tables['PERSON']"
   ]
  },
  {
   "cell_type": "code",
   "execution_count": null,
   "id": "7f361f6c-b698-4b4d-8d48-551976a16b4f",
   "metadata": {},
   "outputs": [],
   "source": [
    "omop_mapped_tables['PERSON'].table.select('PERSON_ID')"
   ]
  },
  {
   "cell_type": "markdown",
   "id": "298a929e-229d-401c-bdcd-f62d3703c5f5",
   "metadata": {},
   "source": [
    "### Looking at input data\n",
    "PhenEx bundles all input data into a dictionary, in this case in the variable called omop_mapped_tables. The keys in this dictionary are known as 'domains'; for example, there is the '"
   ]
  },
  {
   "cell_type": "markdown",
   "id": "3f83ea41-de39-49dc-9692-5d5cf8d73e2e",
   "metadata": {},
   "source": [
    "# Entry criterion"
   ]
  },
  {
   "cell_type": "code",
   "execution_count": null,
   "id": "76c98263-4d99-42fa-97d2-b4ccf3af30b3",
   "metadata": {},
   "outputs": [],
   "source": [
    "from phenex.phenotypes.codelist_phenotype import CodelistPhenotype\n",
    "from phenex.codelists.codelists import Codelist\n",
    "\n",
    "af_codelist = Codelist([313217])\n",
    "entry = CodelistPhenotype(\n",
    "    name='af',\n",
    "    domain='CONDITION_OCCURRENCE',\n",
    "    codelist=af_codelist,\n",
    "    use_code_type=False,\n",
    "    return_date='first',\n",
    ")"
   ]
  },
  {
   "cell_type": "code",
   "execution_count": null,
   "id": "2744188e-3cc4-402e-923d-a14b5e14307b",
   "metadata": {},
   "outputs": [],
   "source": [
    "entry.execute(omop_mapped_tables)\n",
    "entry.table.head(5).to_pandas()"
   ]
  },
  {
   "cell_type": "markdown",
   "id": "06d60576-81bb-4cd8-b549-2cc5941b2b55",
   "metadata": {},
   "source": [
    "# Inclusions"
   ]
  },
  {
   "cell_type": "code",
   "execution_count": null,
   "id": "d48d0b62-250e-4534-81e9-9d297fc8b3b3",
   "metadata": {},
   "outputs": [],
   "source": [
    "\n",
    "from phenex.filters.value import Value\n",
    "from phenex.filters.categorical_filter import CategoricalFilter\n",
    "from phenex.filters.relative_time_range_filter import RelativeTimeRangeFilter\n",
    "\n",
    "inpatient = CategoricalFilter(\n",
    "    column_name='VISIT_DETAIL_SOURCE_VALUE', \n",
    "    allowed_values=['22'], \n",
    "    domain='VISIT_DETAIL'\n",
    ")\n",
    "\n",
    "preindex = RelativeTimeRangeFilter(max_days=Value('<', 90), anchor_phenotype=entry)\n",
    "\n",
    "mi_codelist = Codelist([49601007])\n",
    "mi_emergency_preindex = CodelistPhenotype(\n",
    "    name='hf',\n",
    "    domain='condition_occurrence'.upper(),\n",
    "    codelist=af_codelist,\n",
    "    use_code_type=False,\n",
    "    return_date='first',\n",
    "    categorical_filter=inpatient,\n",
    "    relative_time_range=preindex\n",
    ")"
   ]
  },
  {
   "cell_type": "code",
   "execution_count": null,
   "id": "a515f2e4-47fc-4976-a8b4-b4d3e1e3281d",
   "metadata": {},
   "outputs": [],
   "source": [
    "mi_emergency_preindex.execute(omop_mapped_tables)\n",
    "mi_emergency_preindex.table.head(5).to_pandas()"
   ]
  },
  {
   "cell_type": "code",
   "execution_count": null,
   "id": "947de6f2-aeeb-4153-88b8-81e31e932f7e",
   "metadata": {},
   "outputs": [],
   "source": [
    "inclusions = [mi_emergency_preindex]"
   ]
  },
  {
   "cell_type": "markdown",
   "id": "2147f629-d916-4951-8307-06e08fb39f39",
   "metadata": {},
   "source": [
    "# Exclusions"
   ]
  },
  {
   "cell_type": "code",
   "execution_count": null,
   "id": "43ef2971-9061-488c-89dc-7e4845cbd4c6",
   "metadata": {},
   "outputs": [],
   "source": [
    "exclusions = []"
   ]
  },
  {
   "cell_type": "markdown",
   "id": "eb7c85e0-e4e5-42de-80ce-5abce4b54624",
   "metadata": {},
   "source": [
    "# Characteristics"
   ]
  },
  {
   "cell_type": "code",
   "execution_count": null,
   "id": "0b1f1cb6-4e2b-4e4e-ac19-2a514db93e92",
   "metadata": {},
   "outputs": [],
   "source": [
    "from phenex.phenotypes.age_phenotype import AgePhenotype\n",
    "\n",
    "age = AgePhenotype(anchor_phenotype=entry)\n",
    "characteristics = [age]"
   ]
  },
  {
   "cell_type": "markdown",
   "id": "b0ec0903-d401-48b4-85a5-5fd73747e341",
   "metadata": {},
   "source": [
    "# Cohort"
   ]
  },
  {
   "cell_type": "code",
   "execution_count": null,
   "id": "a5e0dc83-664e-4c81-8c34-2d494c169c43",
   "metadata": {},
   "outputs": [],
   "source": [
    "from phenex.phenotypes.cohort import Cohort\n",
    "\n",
    "cohort = Cohort(\n",
    "    name = 'af',\n",
    "    entry_criterion=entry,\n",
    "    inclusions=inclusions,\n",
    "    exclusions=exclusions,\n",
    "    characteristics=characteristics\n",
    ")"
   ]
  },
  {
   "cell_type": "code",
   "execution_count": null,
   "id": "61518c53-2234-48b5-a9fc-bb686b426ed9",
   "metadata": {},
   "outputs": [],
   "source": [
    "cohort.execute(omop_mapped_tables)"
   ]
  },
  {
   "cell_type": "code",
   "execution_count": null,
   "id": "bbebef2e-54f5-4b3b-a3b6-804ed14d7943",
   "metadata": {},
   "outputs": [],
   "source": [
    "cohort.characteristics_table.head(5).to_pandas()"
   ]
  },
  {
   "cell_type": "code",
   "execution_count": null,
   "id": "aca9519e-a180-4abc-99d8-ff4a60abe3cd",
   "metadata": {},
   "outputs": [],
   "source": [
    "cohort.table1"
   ]
  },
  {
   "cell_type": "code",
   "execution_count": null,
   "id": "f199d7ba-044c-4087-b2fa-1859d967b5f6",
   "metadata": {},
   "outputs": [],
   "source": []
  }
 ],
 "metadata": {
  "kernelspec": {
   "display_name": "Python 3 (ipykernel)",
   "language": "python",
   "name": "python3"
  },
  "language_info": {
   "codemirror_mode": {
    "name": "ipython",
    "version": 3
   },
   "file_extension": ".py",
   "mimetype": "text/x-python",
   "name": "python",
   "nbconvert_exporter": "python",
   "pygments_lexer": "ipython3",
   "version": "3.12.7"
  }
 },
 "nbformat": 4,
 "nbformat_minor": 5
}
