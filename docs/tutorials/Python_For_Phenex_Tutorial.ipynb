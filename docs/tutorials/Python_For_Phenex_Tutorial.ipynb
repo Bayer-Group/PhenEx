{
 "cells": [
  {
   "cell_type": "markdown",
   "id": "656d7ef7-9bbb-4e44-8b80-c762d3ec58ec",
   "metadata": {},
   "source": [
    "# Python for Phenex Tutorial\n",
    "\n",
    "A lot of people who are doing observational studies do not consider themselves coders/programmers and primarily see themselves as epidemiologists, guided by a research question at hand. Among those doing observational research who do program, R or even SAS are often used, and common data science languages such as python are not often used. This is in large part due to the fact that tools for observational research are historically written in python. \n",
    "\n",
    "PhenEx is designed to reflect the thought processes of doing observational research with real world data. This means that many epidemiologists find themselves very quickly able to read a PhenEx cohort specificition without any python knowledge.\n",
    "\n",
    "Nonetheless, to write PhenEx cohorts from scratch (rather than copy and paste), it is useful to know some of the basics of python programming. We have collected here some notes and solutions from teaching PhenEx to python beginners, with simple explanations and links to resources to dive deeper into a topic. \n",
    "\n",
    "This is by no means exhaustive and simply a starting point! As with all tutorials, it is hard to determine the level of the reader. We have tried to create this for total beginners, though that is difficult. It is important, for complete beginners, to not be overwhelmed! At the beginning, programming can seem overly complicated or magical, but it is important to remember that it is definitely not magical, and shockingly simple once understood."
   ]
  },
  {
   "cell_type": "markdown",
   "id": "6ec70a24-0b14-4088-98a5-cf0e81fbb2d5",
   "metadata": {},
   "source": [
    "## Use a text editor or IDE with syntax highlighting!\n",
    "Syntax highlighting means that different programmatic entities are different colors. This makes reading and writing code much easier! Suggested text editors are [sublime text](https://www.sublimetext.com/), [zed](https://zed.dev/), and for a more fully featured IDE (integrated development environment) you can use [VSCode](https://code.visualstudio.com/). Also, jupyter notebooks are highly recommended, as you can then interact with your data (i.e. see the output immediately). Notebooks also provide basic syntax highlighting. Make sure, once you are in your text editor, to specify that you are reading/writing a python file."
   ]
  },
  {
   "cell_type": "markdown",
   "id": "3e880b64-3654-4e1a-a024-7774f4653972",
   "metadata": {},
   "source": [
    "## Variables\n",
    "Variables are known from algebra. In the expression `x = 3`, *x* is a variable that is assigned the value 3. We can then use *x* in later expressions, and it maintains its value, for example `y = x + 5`, *y* is then assigned the value of 8. This seemingly trivial concept is used extensively in programming languages. In the case of PhenEx, will be using variables extensively. There are two important reasons for using variables:\n",
    "\n",
    "1. To define something once and use it in many different places\n",
    "2. To break up a long expression into smaller, more easily understandable parts\n",
    "\n",
    "Let's look at an example where we create a variable called *one_year_pre_index* and assign it to a PhenEx component called a RelativeTimeRangeFilter.\n"
   ]
  },
  {
   "cell_type": "code",
   "execution_count": null,
   "id": "c24b7a73-06be-40b2-a874-c72ad22ce631",
   "metadata": {},
   "outputs": [],
   "source": [
    "# create a relative time range filter looking one year pre-index\n",
    "one_year_pre_index = RelativeTimeRangeFilter(\n",
    "    when='before',\n",
    "    min_days = GreaterThanOrEqualTo(0), \n",
    "    max_days = LessThanOrEqualTo(365)\n",
    ")"
   ]
  },
  {
   "cell_type": "markdown",
   "id": "71c8c091",
   "metadata": {},
   "source": [
    "We can now re-use one_year_pre_index in multiple places! For example, we can create two code list phenotypes that both use the same relative time range filter."
   ]
  },
  {
   "cell_type": "code",
   "execution_count": null,
   "id": "533e0ac1",
   "metadata": {},
   "outputs": [],
   "source": [
    "phenotype1 = CodelistPhenotype(\n",
    "    ...\n",
    "    relative_time_range = one_year_pre_index\n",
    ")\n",
    "\n",
    "phenotype2 = CodelistPhenotype(\n",
    "    ...\n",
    "    relative_time_range = one_year_pre_index\n",
    ")"
   ]
  },
  {
   "cell_type": "markdown",
   "id": "9da13c98",
   "metadata": {},
   "source": [
    "Notice that we've created two new variables called phenotype1 and phenotype2. We can then use these phenotypes in downstream code, for example, using one of these as an anchor phenotype, or adding these phenotypes to a list of inclusion criteria.\n",
    "\n",
    "In general, if you use some PhenEx component in more than one place, it is recommended to assign a variable to that component and then use the variable name in all places it is used. This is good for reducing errors when you need to make a change; if you need to change that component, you only need to change it in one place, and not in multiple places. For example, if we decided that we wanted to change our *one_year_pre_index* definition to NOT included the index date (day 0), we would simply have to change it in the definition of the variable *one_year_pre_index*, and this change would apply to everywhere where that variable is used.\n",
    "\n",
    "Another reason to use variables is to make your code easier to read. Phenotypes can become quite complicated, with many PhenEx components being used, for example, for codelists, relative time range filters, categorical filters, anchor phenotypes and so on. We can use variables to break our code down easily readable parts. As an illustration of how long PhenEx code can get, let us revisit the definition of phenotype1 from above, but this time NOT use the variable *one_year_pre_index* as was done above; notice that the relative_time_range does NOT use the variable, and instead defines the RelativeTimeRangeFilter within the definition of the CodelistPhenotype."
   ]
  },
  {
   "cell_type": "code",
   "execution_count": null,
   "id": "cfa74008",
   "metadata": {},
   "outputs": [],
   "source": [
    "# example of NOT using variables for relative_time_range\n",
    "phenotype1 = CodelistPhenotype(\n",
    "    ...\n",
    "    relative_time_range = RelativeTimeRangeFilter(\n",
    "        when='before',\n",
    "        min_days = GreaterThanOrEqualTo(0), \n",
    "        max_days = LessThanOrEqualTo(365)\n",
    "    )\n",
    ")"
   ]
  },
  {
   "cell_type": "markdown",
   "id": "a6bf56e7",
   "metadata": {},
   "source": [
    "While doing this is possible, it is much harder to read this code! Using the variable *one_year_pre_index* defined separately would make this code easier to read."
   ]
  },
  {
   "cell_type": "markdown",
   "id": "79f1e226",
   "metadata": {},
   "source": [
    "## Built-in datatypes\n",
    "Now we know that variables exist and we can assign them values using an equal sign. But what can those values be? In the above example, we set `x=3` and we also saw things like `phenotype1 = CodelistPhenotype(...)`. \n",
    "\n",
    "When programming, it is important to know that variables have a *datatype*. Other programming languages make this very explicit, and in those languages you have to state what datatype a variable is. In python, a variable's datatype is implicit. By implicit, that means that we do not state a variables datatype, even though it has one! Depending on what datatype a variable is, we can do different things with it. PhenEx provides many different datatypes for you to use (e.g. CodelistPhenotype is a datatype). \n",
    "\n",
    "There are several built-in datatypes provided by the python language itself that you should be familiar with. To use PhenEx we need to be able recognize, manipulate, and finally create these built in datatypes. This is for the most part not too difficult! These built-in datatypes are :\n",
    "- **int** : integer values i.e. non-decimal numbers\n",
    "- **float** : decimal numbers\n",
    "- **boolean** : `True` or `False`\n",
    "- **string** : a string of characters! recognizable by single or double quotations e.g. \"this is a string\" or 'this is a string'\n",
    "- **list** : a list of other datatypes, starting/ending with square brackets, items separated by commas e.g. [1,2,3]\n",
    "- **dictionary** : key value pairs, starting/ending with curly brackets, pairs separated by colon, items separated by commas, e.g. {\"a\":\"value1\"}\n",
    "- **none type** : meaning no value is passed, use the capital `None`\n",
    "\n",
    "Most of them are fairly easy to recognize; integer numbers and decimal numbers are very straightforward. The booleans are also easy; we just need to remember that we capitalize True or False. Similarly, if we want to be explicit that we are not setting a value, we can use the none-type which is just a capital None. String datatypes are also relatively straightforward; we just need to remember to use either single or double quotation marks at the begining or end of the string. \n",
    "\n",
    "The list and dictionary are a bit more complicated, but once mastered, are incredibly powerful. A list (called an array in most other languages) is simply an ordered list of things. Lists in python can contain anything you want to - the contents of a list do not need to have the same data type (this is not the case in most other programming languages). Remember, to recognize a list you look for square brackets and commas."
   ]
  },
  {
   "cell_type": "code",
   "execution_count": null,
   "id": "d0801deb",
   "metadata": {},
   "outputs": [],
   "source": [
    "# a list containing phenotypes!\n",
    "list_of_phenotypes = [phenotype1, phenotype2]"
   ]
  },
  {
   "cell_type": "markdown",
   "id": "37b82023",
   "metadata": {},
   "source": [
    "Once you've created your list, you can also access the items in the list. Remember, lists are ordered, and the order does not change! This means we access the items using their index (i.e. position) within the list. Somewhat confusingly, the index starts at 0 so the first item in the list is at index 0."
   ]
  },
  {
   "cell_type": "code",
   "execution_count": null,
   "id": "fcb5752f",
   "metadata": {},
   "outputs": [],
   "source": [
    "# write the name of the list you want to access, followed by square brackets containing the index of the item you want to access\n",
    "list_of_phenotypes[0] # this will be phenotype1, the first item in the list\n",
    "list_of_phenotypes[1] # this will be phenotype2, the second item in the list"
   ]
  },
  {
   "cell_type": "markdown",
   "id": "88463657",
   "metadata": {},
   "source": [
    "In PhenEx, the only time you are required to create a list is to define inclusion/exclusion criteria and baseline characteristics. These are lists of phenotypes, and thus you simply have to know to put square brackets at the beginning and end, and commas between the phenotypes of interest. (as seen above)"
   ]
  },
  {
   "cell_type": "markdown",
   "id": "d8e91e7b",
   "metadata": {},
   "source": [
    "### Dictionaries\n",
    "Next up is dictionaries! First to recognize a dictionary, look for curly brackets, colons and commas. Dictionaries are different from lists in that we access items in the dictionary not by their positional index (such as in the list), but rather by something we define ourselves called the 'key'. When creating the dictionary, we define both the keys, and the value the keys should correspond to. In the following example, we create a dictionary that represents a person, with keys to the left of the colon, and values to the right, with commas between key/value pairs"
   ]
  },
  {
   "cell_type": "code",
   "execution_count": 14,
   "id": "152ad862",
   "metadata": {},
   "outputs": [],
   "source": [
    "person1 = {\n",
    "    'name':'Alice', # create a key which is a string called 'name' that is assigned the string value of alice\n",
    "    'age':40, # create a key which is a string with value 'age' that is assgned the integer value 40\n",
    "    'occupation':'researcher'\n",
    "}"
   ]
  },
  {
   "cell_type": "markdown",
   "id": "d1748011",
   "metadata": {},
   "source": [
    "We access values in a dictionary by using square brackets containing the key we want to access the value of"
   ]
  },
  {
   "cell_type": "code",
   "execution_count": 15,
   "id": "1391df1b",
   "metadata": {},
   "outputs": [
    {
     "data": {
      "text/plain": [
       "'Alice'"
      ]
     },
     "execution_count": 15,
     "metadata": {},
     "output_type": "execute_result"
    }
   ],
   "source": [
    "# write the name of dictionary you want to access, followed by square brackets containing the key you want to access\n",
    "person1['name'] # we want the value for the key which is a string with value 'name'"
   ]
  },
  {
   "cell_type": "markdown",
   "id": "89da2832",
   "metadata": {},
   "source": [
    "### When to use dictionaries in PhenEx\n",
    "In PhenEx the only time you are required to create a dictionary is when onboarding a new datasource. However, after this data onboarding process, we will continue to *use* that dictionary for almost all phenotypes. Therefore, it is important to understand the key/value concept of dictionaries. Each phenotype will access an onboarded dataset mapped_tables dictionary using a key. Thus each, for example, CodelistPhenotype, has a domain parameter; this domain is a key within the mapped_tables dictionary. If that key does not exist, PhenEx will through an error.\n",
    "\n",
    "In PhenEx, we can use built in mapped datasets such as OMOP."
   ]
  },
  {
   "cell_type": "code",
   "execution_count": null,
   "id": "99065a4e",
   "metadata": {},
   "outputs": [],
   "source": [
    "from phenex.mappers import OMOPDomains\n",
    "omop_mapped_tables = OMOPDomains.get_mapped_tables(con)\n",
    "print(omop_mapped_tables.keys()) # this will list the keys of the mapped tables dictionary"
   ]
  },
  {
   "cell_type": "code",
   "execution_count": null,
   "id": "6eed3ad1",
   "metadata": {},
   "outputs": [],
   "source": [
    "phenotype3 = CodelistPhenotype(\n",
    "    ...\n",
    "    domain = 'CONDITION_OCCURRENCE' # this must be one of the keys in our mapped_tables dictionary\n",
    ")"
   ]
  },
  {
   "cell_type": "markdown",
   "id": "f459576d-e774-48d6-9bcd-b8d2be96f18f",
   "metadata": {},
   "source": [
    "## Indentation\n",
    "All programming languages have a way of beginning and ending a continuous block of code. In other programming languages, curly brackets are used. In python, line indentation (number of white spaces or tabs at the beginning of a line) is used! This enforces that python code has correct indentation - if the indentation is incorrect, the code will not run! Generally, all code that is continuously at the same level of indentation (same number of white spaces/tabs at the beginning of the line) is all part of one block of code. When the indentation level changes, we have entered or exited some code block!"
   ]
  },
  {
   "cell_type": "markdown",
   "id": "3e0aa9d8-74a5-408d-a75b-a5317b537990",
   "metadata": {},
   "source": [
    "## Functions\n",
    "A function in Python is a block of reusable code that performs a specific task. Functions help us organize our code and make it more readable. We first write a function, and then we can run the code in the function later by calling the function.\n",
    "\n",
    "Functions in python begin with `def`. Then comes the function name, followed by parentheses containing input parameters, and then a colon. The following lines are then indented and contain the body of the function. The last line of the function is an optional `return` statement, which defines the output of the function (if any).\n",
    "\n",
    "Let's create a function called 'greet' that takes one parameter, which is assigned to a variable called 'name'. The function will print out 'hello name'"
   ]
  },
  {
   "cell_type": "code",
   "execution_count": 4,
   "id": "b6f019e3",
   "metadata": {},
   "outputs": [],
   "source": [
    "def greet(name):\n",
    "    print(\"Hello, \" + name)"
   ]
  },
  {
   "cell_type": "markdown",
   "id": "818b1a08",
   "metadata": {},
   "source": [
    "Now we have defined the function! We haven't run the code in that function yet. Let's run the function, passing the parameter 'Alice'."
   ]
  },
  {
   "cell_type": "code",
   "execution_count": 3,
   "id": "c635c0e5",
   "metadata": {},
   "outputs": [
    {
     "name": "stdout",
     "output_type": "stream",
     "text": [
      "Hello, Alice\n"
     ]
    }
   ],
   "source": [
    "greet(\"Alice\")  # Output: Hello, Alice"
   ]
  },
  {
   "cell_type": "markdown",
   "id": "cdaa6179",
   "metadata": {},
   "source": [
    "When writing a PhenEx cohort definition we will probably not need to understand much about functions. However, for complicated cohorts, it is generally recommended to break up our definition into logical components as follows :"
   ]
  },
  {
   "cell_type": "code",
   "execution_count": null,
   "id": "097ca765",
   "metadata": {},
   "outputs": [],
   "source": [
    "\n",
    "\n",
    "def create_my_cohort():\n",
    "    # define the entry criterion\n",
    "    entry_criterion = CodelistPhenotype(...)\n",
    "\n",
    "    # call all functions that further define oru cohort\n",
    "    inclusion_criteria = create_inclusion_criteria(entry_criterion)\n",
    "    exclusion_criteria = create_exclusion_criteria(entry_criterion)\n",
    "    baseline_characteristics = create_baseline_characteristics(entry_criterion)\n",
    "\n",
    "    # put the cohort together using all components we have created\n",
    "    cohort = Cohort(\n",
    "        entry = entry_criterion,\n",
    "        inclusion = inclusion_criteria,\n",
    "        exclusion = exclusion_criteria,\n",
    "        characteristics = baseline_characteristics\n",
    "    )\n",
    "    \n",
    "    return cohort\n",
    "    \n",
    "\n",
    "def create_inclusion_criteria(entry_criterion):\n",
    "    # ... create inclusion criteria criteria here\n",
    "    return inclusion_criteria\n",
    "\n",
    "def create_exclusion_criteria(entry_criterion):\n",
    "    # ... create exclusion criteria here\n",
    "    return exclusion_criteria\n",
    "\n",
    "def create_baseline_characteristics(entry_criterion):\n",
    "    # ... create baseline characteristics criteria here\n",
    "    return baseline_characteristics\n",
    "\n",
    "\n",
    "# call the function that builds the entire cohort\n",
    "cohort = create_my_cohort()\n",
    "cohort.execute()"
   ]
  },
  {
   "cell_type": "markdown",
   "id": "1bfdf761",
   "metadata": {},
   "source": [
    "Here we see that we can use functions to break up the definition of inclusion, exclusion criteria as well as baseline characteristics. Further, if we have a single phenotype that is very complicated, with many dependent phenotypes (for example, CHADSVASc), we can write a function for that complicated phenotype that encapsulates (i.e. contains) that phenotype.\n",
    "\n",
    "## Keyword Arguments\n",
    "We saw in the above 'functions' section that functions take parameters (the part within parentheses). We define in our function definition what parameters a function takes; in our 'greet' function we had a parameter called 'name'. When calling a function, we can explicitely use the variable name defined in our function definition. This is how we use 'keyword arguments'; we set the variable the function requires when we call the function. \n",
    "\n",
    "Lets see this by calling our greet function by explicitely using the name keyword."
   ]
  },
  {
   "cell_type": "code",
   "execution_count": 16,
   "id": "2b351953",
   "metadata": {},
   "outputs": [
    {
     "name": "stdout",
     "output_type": "stream",
     "text": [
      "Hello, Alice\n"
     ]
    }
   ],
   "source": [
    "greet(name='Alice') # use the keyword 'name' when calling greet"
   ]
  },
  {
   "cell_type": "markdown",
   "id": "dab6e5db",
   "metadata": {},
   "source": [
    "When using components provided by PhenEx, for example CodelistPhenotype, we make extensive use of keyword arguements! (note beyond : most components provided by PhenEx are classes not functions, but the concept of keyword arguments is the same). We use PhenEx components by assigning values to the required keyword arguments, thus parameterizing PhenEx so that it extracts the data we want it to extract. When we go to the documentation of PhenEx, we see a list of the keyword arguments that our PhenEx component can receive; we need to assign values to these keyword arguments. These keyword arguments thus tell us what PhenEx is capable of doing, and what kind of questions we need to ask ourselves when constructing our cohorts."
   ]
  },
  {
   "cell_type": "code",
   "execution_count": null,
   "id": "15c118f4",
   "metadata": {},
   "outputs": [],
   "source": [
    "phenotype4 = CodelistPhenotype(\n",
    "    name = 'atrial fibrillation', # the keyword argument name takes a value of type string; we can define the name of our phenotype!\n",
    "    domain = 'CONDITION_OCCURRENCE', # the keyword argument domain takes a value of type string ; this must be one of the keys in our mapped_tables dictionary\n",
    "    codelist = Codelist(['c1']), # the keyword argument codelist takes a value of type Codelist; we need to create this!\n",
    "    relative_time_range = one_year_pre_index # the keyword argument relative_time_range takes value of type RelativeTimeRangeFilter which we must create\n",
    ")"
   ]
  },
  {
   "cell_type": "markdown",
   "id": "f3dd1433-fa41-499d-9ef5-e5a8f10bfd49",
   "metadata": {},
   "source": [
    "## In Scope\n",
    "In programming, \"scope\" refers to the region of the code where a particular variable or function is accessible. There are two types of scope \n",
    "- **Global Scope**: Variables defined outside of any function or code block have a global scope. They can be accessed from anywhere in the code.\n",
    "- **Local Scope**: Variables defined inside a function or code block have a local scope. They can only be accessed within that function or block.\n",
    "\n",
    "In Python, indentation is used to define the scope! Here's a simple example to illustrate scope in Python. We will create a variable with global scope called x, and a variable with local scope only called y. Notice that x is available everywhere i.e. in all code blocks, while y is only available within the function!\n",
    "\n"
   ]
  },
  {
   "cell_type": "code",
   "execution_count": 2,
   "id": "ecf495a8",
   "metadata": {},
   "outputs": [
    {
     "name": "stdout",
     "output_type": "stream",
     "text": [
      "Inside function, x: 10\n",
      "Inside function, y: 5\n",
      "Outside function, x: 10\n"
     ]
    }
   ],
   "source": [
    "# we create a variable called x with global scope (no indentation! not in a code block)\n",
    "x = 10\n",
    "\n",
    "def some_function():\n",
    "    # create a variable called y with local scope\n",
    "    y = 5\n",
    "    print(\"Inside function, x:\", x)  # Accessing global variable\n",
    "    print(\"Inside function, y:\", y)  # Accessing local variable\n",
    "\n",
    "some_function()\n",
    "\n",
    "print(\"Outside function, x:\", x)  # Accessing global variable\n",
    "# print(\"Outside function, y:\", y)  # This would cause an error because y is not in the global scope"
   ]
  },
  {
   "cell_type": "markdown",
   "id": "f55ba149",
   "metadata": {},
   "source": [
    "In PhenEx, we need to be careful of scope when defining variables that should be reused. For example, we may want to use the variable *one_year_pre_index* in multiple functions, such as in the functions *create_inclusion_criteria* and *create_baseline_characteristics*. If we want it to be available to both of these functions but only want to define it once, we have two options :\n",
    "1. define *one_year_pre_index* as a global variable i.e. we don't define it in a function. To do this, just put it at the top of the file with no indents\n",
    "2. pass *one_year_pre_index* to each function. This means we add a keyword argument 'relative_time_range' to all functions that should use *one_year_pre_index*, and then when calling that function, pass it our *one_year_pre_index* variable."
   ]
  },
  {
   "cell_type": "markdown",
   "id": "89fedc4d-2d5a-42fe-a298-80ee82273410",
   "metadata": {},
   "source": [
    "## Imports\n",
    "PhenEx is a python library that provides many components to create a cohort. To use PhenEx, you first need to install it, and then you need to import the components you want to use. Import statements can be anywhere in a file, but it is recommended to keep them at the top of your file. Then, for each PhenEx component you want to use, you import it. Look into the PhenEx documentation for where to import things from. "
   ]
  },
  {
   "cell_type": "code",
   "execution_count": null,
   "id": "882d87d3",
   "metadata": {},
   "outputs": [],
   "source": [
    "# import phenotypes one by on\n",
    "from phenex.phenotypes import CodelistPhenotype\n",
    "from phenex.phenotypes import MeasurementPhenotype\n",
    "\n",
    "# import multiple phenotypes at once. This is identical to above\n",
    "from phenex.phenotypes import (CodelistPhenotype, MeasurementPhenotype)"
   ]
  },
  {
   "cell_type": "markdown",
   "id": "805ff3f5",
   "metadata": {},
   "source": []
  }
 ],
 "metadata": {
  "kernelspec": {
   "display_name": "phenx2",
   "language": "python",
   "name": "python3"
  },
  "language_info": {
   "codemirror_mode": {
    "name": "ipython",
    "version": 3
   },
   "file_extension": ".py",
   "mimetype": "text/x-python",
   "name": "python",
   "nbconvert_exporter": "python",
   "pygments_lexer": "ipython3",
   "version": "3.9.7"
  }
 },
 "nbformat": 4,
 "nbformat_minor": 5
}
